{
 "cells": [
  {
   "cell_type": "code",
   "execution_count": 1,
   "metadata": {
    "id": "-RcGl5Uh0d5x"
   },
   "outputs": [],
   "source": [
    "import pandas as pd\n",
    "import numpy as np\n",
    "import matplotlib.pyplot as plt\n",
    "import seaborn as sns\n",
    "import pickle\n",
    "\n",
    "from tensorflow import keras\n",
    "from keras.models import Sequential\n",
    "from keras.layers import Dense\n",
    "from keras.layers import LSTM"
   ]
  },
  {
   "cell_type": "markdown",
   "metadata": {
    "id": "RWRsg9BAvTAQ"
   },
   "source": [
    "# **Prelucrarea Datelor**"
   ]
  },
  {
   "cell_type": "markdown",
   "metadata": {
    "id": "Z1WBPHkWvYMU"
   },
   "source": [
    "## Citirea datelor din fisierul pkl"
   ]
  },
  {
   "cell_type": "markdown",
   "metadata": {
    "id": "WW3TGvspv2Nq"
   },
   "source": [
    "Fisierul are urmatorul format:\n",
    "\n",
    "* label\n",
    "* signal\n",
    "  * **chest**\n",
    "    * ACC\n",
    "    * ECG\n",
    "    * EMG\n",
    "    * EDA\n",
    "    * Temp\n",
    "    * Resp\n",
    "  * **wrist**\n",
    "    * ACC\n",
    "    * BVP\n",
    "    * EDA\n",
    "    * TEMP\n",
    "\n",
    "\n"
   ]
  },
  {
   "cell_type": "code",
   "execution_count": 2,
   "metadata": {
    "colab": {
     "base_uri": "https://localhost:8080/"
    },
    "executionInfo": {
     "elapsed": 8112,
     "status": "ok",
     "timestamp": 1731696335647,
     "user": {
      "displayName": "Daniel",
      "userId": "16112051572976373875"
     },
     "user_tz": -120
    },
    "id": "F1hS0ItyvCBA",
    "outputId": "6142bf9b-4ee5-4623-c529-4f52423bad16"
   },
   "outputs": [
    {
     "name": "stdout",
     "output_type": "stream",
     "text": [
      "Data from chest: dict_keys(['ACC', 'ECG', 'EMG', 'EDA', 'Temp', 'Resp'])\n",
      "Data from wrist: dict_keys(['ACC', 'BVP', 'EDA', 'TEMP'])\n"
     ]
    }
   ],
   "source": [
    "with open('WESAD/S2.pkl', 'rb') as file:\n",
    "    data = pickle.load(file, encoding='latin1')\n",
    "\n",
    "print(\"Data from chest:\", data['signal']['chest'].keys())\n",
    "print(\"Data from wrist:\", data['signal']['wrist'].keys())"
   ]
  },
  {
   "cell_type": "code",
   "execution_count": 3,
   "metadata": {
    "id": "mjfN19_N0YZX"
   },
   "outputs": [],
   "source": [
    "wrist_data = data['signal']['wrist']\n",
    "\n",
    "acc_df = pd.DataFrame(wrist_data['ACC'], columns=['ACC_X', 'ACC_Y', 'ACC_Z'])\n",
    "bvp_df = pd.DataFrame(wrist_data['BVP'], columns=['BVP'])\n",
    "eda_df = pd.DataFrame(wrist_data['EDA'], columns=['EDA'])\n",
    "temp_df = pd.DataFrame(wrist_data['TEMP'], columns=['TEMP'])\n",
    "\n",
    "labels = data['label']"
   ]
  },
  {
   "cell_type": "markdown",
   "metadata": {
    "id": "irELwWv44Qd4"
   },
   "source": [
    "Datele **LABELS** au fost preluate cu o frecventa de ***700Hz***"
   ]
  },
  {
   "cell_type": "code",
   "execution_count": 4,
   "metadata": {
    "colab": {
     "base_uri": "https://localhost:8080/"
    },
    "executionInfo": {
     "elapsed": 13,
     "status": "ok",
     "timestamp": 1731696335648,
     "user": {
      "displayName": "Daniel",
      "userId": "16112051572976373875"
     },
     "user_tz": -120
    },
    "id": "qreeMraM4QMR",
    "outputId": "bfd1e1e5-e66a-4f01-b46d-85b916860acf"
   },
   "outputs": [
    {
     "name": "stdout",
     "output_type": "stream",
     "text": [
      "(4255300,)\n",
      "[0 0 0 ... 0 0 0]\n"
     ]
    }
   ],
   "source": [
    "print(labels.shape)\n",
    "print(labels)"
   ]
  },
  {
   "cell_type": "markdown",
   "metadata": {
    "id": "NVHYui5p1Hx6"
   },
   "source": [
    "Datele **ACC** au fost preluate cu o frecventa de ***32Hz***"
   ]
  },
  {
   "cell_type": "code",
   "execution_count": 5,
   "metadata": {
    "colab": {
     "base_uri": "https://localhost:8080/"
    },
    "executionInfo": {
     "elapsed": 13,
     "status": "ok",
     "timestamp": 1731696335648,
     "user": {
      "displayName": "Daniel",
      "userId": "16112051572976373875"
     },
     "user_tz": -120
    },
    "id": "mVHy7UBR0mtW",
    "outputId": "03204e79-64b3-44a9-fa59-158c70d87c66"
   },
   "outputs": [
    {
     "name": "stdout",
     "output_type": "stream",
     "text": [
      "(194528, 3)\n",
      "   ACC_X  ACC_Y  ACC_Z\n",
      "0   62.0  -21.0  107.0\n",
      "1   66.0   13.0   53.0\n",
      "2   41.0    9.0   15.0\n",
      "3   52.0   16.0   24.0\n",
      "4   54.0   15.0   34.0\n"
     ]
    }
   ],
   "source": [
    "print(acc_df.shape)\n",
    "print(acc_df.head())"
   ]
  },
  {
   "cell_type": "markdown",
   "metadata": {
    "id": "Nz71u_bl1IRS"
   },
   "source": [
    "Datele **BVP** au fost preluate cu o frecventa de ***64Hz***"
   ]
  },
  {
   "cell_type": "code",
   "execution_count": 6,
   "metadata": {
    "colab": {
     "base_uri": "https://localhost:8080/"
    },
    "executionInfo": {
     "elapsed": 9,
     "status": "ok",
     "timestamp": 1731696335648,
     "user": {
      "displayName": "Daniel",
      "userId": "16112051572976373875"
     },
     "user_tz": -120
    },
    "id": "dwQfxg1Q0wki",
    "outputId": "253cda80-2251-4106-9018-e555ebe6b1e6"
   },
   "outputs": [
    {
     "name": "stdout",
     "output_type": "stream",
     "text": [
      "(389056, 1)\n",
      "     BVP\n",
      "0 -59.37\n",
      "1 -53.42\n",
      "2 -44.40\n",
      "3 -33.17\n",
      "4 -20.79\n"
     ]
    }
   ],
   "source": [
    "print(bvp_df.shape)\n",
    "print(bvp_df.head())"
   ]
  },
  {
   "cell_type": "markdown",
   "metadata": {
    "id": "tAOtTZgf1Iln"
   },
   "source": [
    "Datele **EDA** au fost preluate cu o frecventa de ***4Hz***"
   ]
  },
  {
   "cell_type": "code",
   "execution_count": 7,
   "metadata": {
    "colab": {
     "base_uri": "https://localhost:8080/"
    },
    "executionInfo": {
     "elapsed": 8,
     "status": "ok",
     "timestamp": 1731696335648,
     "user": {
      "displayName": "Daniel",
      "userId": "16112051572976373875"
     },
     "user_tz": -120
    },
    "id": "bjeO02hz0xg4",
    "outputId": "cf9e70ad-8a1d-412a-fb8f-2f33ec03a139"
   },
   "outputs": [
    {
     "name": "stdout",
     "output_type": "stream",
     "text": [
      "(24316, 1)\n",
      "        EDA\n",
      "0  1.138257\n",
      "1  1.125444\n",
      "2  1.011405\n",
      "3  1.033188\n",
      "4  0.935807\n"
     ]
    }
   ],
   "source": [
    "print(eda_df.shape)\n",
    "print(eda_df.head())"
   ]
  },
  {
   "cell_type": "markdown",
   "metadata": {
    "id": "m0b1KQAx1JL8"
   },
   "source": [
    "Datele **TEMP** au fost preluate cu o frecventa de ***4Hz***"
   ]
  },
  {
   "cell_type": "code",
   "execution_count": 8,
   "metadata": {
    "colab": {
     "base_uri": "https://localhost:8080/"
    },
    "executionInfo": {
     "elapsed": 6,
     "status": "ok",
     "timestamp": 1731696335648,
     "user": {
      "displayName": "Daniel",
      "userId": "16112051572976373875"
     },
     "user_tz": -120
    },
    "id": "BazSz32Q0y-L",
    "outputId": "2fe3911a-3b35-4438-f56b-c00e476f0d00"
   },
   "outputs": [
    {
     "name": "stdout",
     "output_type": "stream",
     "text": [
      "(24316, 1)\n",
      "    TEMP\n",
      "0  35.41\n",
      "1  35.41\n",
      "2  35.41\n",
      "3  35.41\n",
      "4  35.41\n"
     ]
    }
   ],
   "source": [
    "print(temp_df.shape)\n",
    "print(temp_df.head())"
   ]
  },
  {
   "cell_type": "markdown",
   "metadata": {
    "id": "RZZenwH34Z7E"
   },
   "source": [
    "## DownSampling"
   ]
  },
  {
   "cell_type": "markdown",
   "metadata": {
    "id": "YU_oIWqI4cPh"
   },
   "source": [
    "![DownSampling.gif](data:image/gif;base64,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)"
   ]
  },
  {
   "cell_type": "markdown",
   "metadata": {
    "id": "wxbjHZa0RzYD"
   },
   "source": [
    "Reducerea dimensiunilor variate ale masuratorilor la o singura dimensiune (dimenisunea cea mai mica)\n",
    "\n",
    "Metoda folosita: **Decimation**\n",
    "\n",
    "Pentru ficare masuratoare, se va selecta din ***offset*** in ***offset*** valorile pentru dataframe-ul final, unde\n",
    "***offset***=$\n",
    "\\frac{\\text{frecventa cu care a fost masurata valoarea}}{\\text{frecventa cea mai mica}}\n",
    "$"
   ]
  },
  {
   "cell_type": "code",
   "execution_count": 9,
   "metadata": {
    "colab": {
     "base_uri": "https://localhost:8080/"
    },
    "executionInfo": {
     "elapsed": 5,
     "status": "ok",
     "timestamp": 1731696335648,
     "user": {
      "displayName": "Daniel",
      "userId": "16112051572976373875"
     },
     "user_tz": -120
    },
    "id": "54oj7hK-5aCw",
    "outputId": "2032ee38-f2ce-4255-8e67-6343871ab3a3"
   },
   "outputs": [
    {
     "name": "stdout",
     "output_type": "stream",
     "text": [
      "       acc_x  acc_y  acc_z     bvp       eda   temp  label\n",
      "0       62.0  -21.0  107.0  -59.37  1.138257  35.41      0\n",
      "1       51.0   16.0   35.0   43.50  1.125444  35.41      0\n",
      "2       53.0   21.0   -6.0   53.56  1.011405  35.41      0\n",
      "3       55.0   17.0   34.0   54.64  1.033188  35.41      0\n",
      "4       48.0   24.0   15.0 -117.88  0.935807  35.41      0\n",
      "...      ...    ...    ...     ...       ...    ...    ...\n",
      "24311   47.0   14.0   41.0   27.06  0.063052  34.21      0\n",
      "24312   46.0   15.0   40.0   14.01  0.060489  34.23      0\n",
      "24313   49.0   15.0   41.0   -0.43  0.059208  34.23      0\n",
      "24314   46.0   17.0   36.0  -32.72  0.073303  34.23      0\n",
      "24315   56.0   23.0   38.0   15.20  0.045113  34.23      0\n",
      "\n",
      "[24316 rows x 7 columns]\n"
     ]
    }
   ],
   "source": [
    "acc_sampling_factor = 32 // 4\n",
    "bvp_sampling_factor = 64 // 4\n",
    "eda_sampling_factor = 4 // 4\n",
    "temp_sampling_factor = 4 // 4\n",
    "labels_sampling_factor = 700 // 4\n",
    "\n",
    "tabel_lenght = len(temp_df)\n",
    "\n",
    "downsampled_acc = acc_df[::acc_sampling_factor][:tabel_lenght]\n",
    "downsampled_bvp = bvp_df[::bvp_sampling_factor][:tabel_lenght]\n",
    "downsampled_eda = eda_df[::eda_sampling_factor][:tabel_lenght]\n",
    "downsampled_temp = temp_df[::temp_sampling_factor][:tabel_lenght]\n",
    "downsampled_labels = labels[::labels_sampling_factor][:tabel_lenght]\n",
    "downsampled_labels_series = pd.Series(downsampled_labels, name='label')\n",
    "\n",
    "combined_df = pd.concat([downsampled_acc.reset_index(drop=True),\n",
    "                         downsampled_bvp.reset_index(drop=True),\n",
    "                         downsampled_eda.reset_index(drop=True),\n",
    "                         downsampled_temp.reset_index(drop=True),\n",
    "                         downsampled_labels_series.reset_index(drop=True)],\n",
    "                        axis=1)\n",
    "\n",
    "combined_df.columns = ['acc_x', 'acc_y', 'acc_z', 'bvp', 'eda', 'temp', 'label']\n",
    "\n",
    "print(combined_df)"
   ]
  },
  {
   "cell_type": "markdown",
   "metadata": {
    "id": "LLENXhvVBlji"
   },
   "source": [
    "Selectam acele linii care au label-ul egal cu 1 sau cu 2 ( **1** = **baseline**, **2** = **stress** )"
   ]
  },
  {
   "cell_type": "code",
   "execution_count": 10,
   "metadata": {
    "colab": {
     "base_uri": "https://localhost:8080/"
    },
    "executionInfo": {
     "elapsed": 4,
     "status": "ok",
     "timestamp": 1731696335648,
     "user": {
      "displayName": "Daniel",
      "userId": "16112051572976373875"
     },
     "user_tz": -120
    },
    "id": "3fBiA4SRBk_G",
    "outputId": "f79d7727-b814-417a-dbab-9af7a8d2f7e5"
   },
   "outputs": [
    {
     "name": "stdout",
     "output_type": "stream",
     "text": [
      "       acc_x  acc_y  acc_z    bvp       eda   temp  label\n",
      "1227    65.0   12.0   21.0 -33.58  1.640539  35.81      1\n",
      "1228    55.0  -32.0   44.0  30.52  1.634132  35.81      1\n",
      "1229    49.0  -21.0   30.0  52.54  1.614912  35.81      1\n",
      "1230    52.0  -22.0   27.0  94.31  1.591848  35.81      1\n",
      "1231    58.0  -14.0   28.0 -38.86  1.558534  35.81      1\n",
      "...      ...    ...    ...    ...       ...    ...    ...\n",
      "11550   16.0  -59.0   14.0  -4.80  1.209913  32.61      2\n",
      "11551   17.0  -59.0   15.0  -0.89  1.206069  32.61      2\n",
      "11552   16.0  -59.0   15.0   7.84  1.206069  32.59      2\n",
      "11553   16.0  -59.0   15.0   9.49  1.199662  32.59      2\n",
      "11554   14.0  -58.0   14.0 -31.63  1.191974  32.59      2\n",
      "\n",
      "[7036 rows x 7 columns]\n"
     ]
    }
   ],
   "source": [
    "filtered_df = combined_df[(combined_df.label == 1) | (combined_df.label == 2)]\n",
    "print(filtered_df)"
   ]
  },
  {
   "cell_type": "code",
   "execution_count": 11,
   "metadata": {
    "colab": {
     "base_uri": "https://localhost:8080/",
     "height": 547
    },
    "executionInfo": {
     "elapsed": 302,
     "status": "ok",
     "timestamp": 1731696335947,
     "user": {
      "displayName": "Daniel",
      "userId": "16112051572976373875"
     },
     "user_tz": -120
    },
    "id": "oq0ISL3iC2gr",
    "outputId": "0801fe64-aa3b-4cbf-e9d6-6d8ca8f583d8"
   },
   "outputs": [
    {
     "name": "stderr",
     "output_type": "stream",
     "text": [
      "C:\\Users\\Irimieş Vasile\\AppData\\Local\\Temp\\ipykernel_10380\\3165240037.py:1: SettingWithCopyWarning: \n",
      "A value is trying to be set on a copy of a slice from a DataFrame.\n",
      "Try using .loc[row_indexer,col_indexer] = value instead\n",
      "\n",
      "See the caveats in the documentation: https://pandas.pydata.org/pandas-docs/stable/user_guide/indexing.html#returning-a-view-versus-a-copy\n",
      "  filtered_df['label'] = filtered_df['label'].replace({1: 'baseline', 2: 'stress'})\n"
     ]
    },
    {
     "data": {
      "text/html": [
       "<div>\n",
       "<style scoped>\n",
       "    .dataframe tbody tr th:only-of-type {\n",
       "        vertical-align: middle;\n",
       "    }\n",
       "\n",
       "    .dataframe tbody tr th {\n",
       "        vertical-align: top;\n",
       "    }\n",
       "\n",
       "    .dataframe thead th {\n",
       "        text-align: right;\n",
       "    }\n",
       "</style>\n",
       "<table border=\"1\" class=\"dataframe\">\n",
       "  <thead>\n",
       "    <tr style=\"text-align: right;\">\n",
       "      <th></th>\n",
       "      <th>acc_x</th>\n",
       "      <th>acc_y</th>\n",
       "      <th>acc_z</th>\n",
       "      <th>bvp</th>\n",
       "      <th>eda</th>\n",
       "      <th>temp</th>\n",
       "      <th>label</th>\n",
       "    </tr>\n",
       "  </thead>\n",
       "  <tbody>\n",
       "    <tr>\n",
       "      <th>1227</th>\n",
       "      <td>65.0</td>\n",
       "      <td>12.0</td>\n",
       "      <td>21.0</td>\n",
       "      <td>-33.58</td>\n",
       "      <td>1.640539</td>\n",
       "      <td>35.81</td>\n",
       "      <td>baseline</td>\n",
       "    </tr>\n",
       "    <tr>\n",
       "      <th>1228</th>\n",
       "      <td>55.0</td>\n",
       "      <td>-32.0</td>\n",
       "      <td>44.0</td>\n",
       "      <td>30.52</td>\n",
       "      <td>1.634132</td>\n",
       "      <td>35.81</td>\n",
       "      <td>baseline</td>\n",
       "    </tr>\n",
       "    <tr>\n",
       "      <th>1229</th>\n",
       "      <td>49.0</td>\n",
       "      <td>-21.0</td>\n",
       "      <td>30.0</td>\n",
       "      <td>52.54</td>\n",
       "      <td>1.614912</td>\n",
       "      <td>35.81</td>\n",
       "      <td>baseline</td>\n",
       "    </tr>\n",
       "    <tr>\n",
       "      <th>1230</th>\n",
       "      <td>52.0</td>\n",
       "      <td>-22.0</td>\n",
       "      <td>27.0</td>\n",
       "      <td>94.31</td>\n",
       "      <td>1.591848</td>\n",
       "      <td>35.81</td>\n",
       "      <td>baseline</td>\n",
       "    </tr>\n",
       "    <tr>\n",
       "      <th>1231</th>\n",
       "      <td>58.0</td>\n",
       "      <td>-14.0</td>\n",
       "      <td>28.0</td>\n",
       "      <td>-38.86</td>\n",
       "      <td>1.558534</td>\n",
       "      <td>35.81</td>\n",
       "      <td>baseline</td>\n",
       "    </tr>\n",
       "    <tr>\n",
       "      <th>...</th>\n",
       "      <td>...</td>\n",
       "      <td>...</td>\n",
       "      <td>...</td>\n",
       "      <td>...</td>\n",
       "      <td>...</td>\n",
       "      <td>...</td>\n",
       "      <td>...</td>\n",
       "    </tr>\n",
       "    <tr>\n",
       "      <th>11550</th>\n",
       "      <td>16.0</td>\n",
       "      <td>-59.0</td>\n",
       "      <td>14.0</td>\n",
       "      <td>-4.80</td>\n",
       "      <td>1.209913</td>\n",
       "      <td>32.61</td>\n",
       "      <td>stress</td>\n",
       "    </tr>\n",
       "    <tr>\n",
       "      <th>11551</th>\n",
       "      <td>17.0</td>\n",
       "      <td>-59.0</td>\n",
       "      <td>15.0</td>\n",
       "      <td>-0.89</td>\n",
       "      <td>1.206069</td>\n",
       "      <td>32.61</td>\n",
       "      <td>stress</td>\n",
       "    </tr>\n",
       "    <tr>\n",
       "      <th>11552</th>\n",
       "      <td>16.0</td>\n",
       "      <td>-59.0</td>\n",
       "      <td>15.0</td>\n",
       "      <td>7.84</td>\n",
       "      <td>1.206069</td>\n",
       "      <td>32.59</td>\n",
       "      <td>stress</td>\n",
       "    </tr>\n",
       "    <tr>\n",
       "      <th>11553</th>\n",
       "      <td>16.0</td>\n",
       "      <td>-59.0</td>\n",
       "      <td>15.0</td>\n",
       "      <td>9.49</td>\n",
       "      <td>1.199662</td>\n",
       "      <td>32.59</td>\n",
       "      <td>stress</td>\n",
       "    </tr>\n",
       "    <tr>\n",
       "      <th>11554</th>\n",
       "      <td>14.0</td>\n",
       "      <td>-58.0</td>\n",
       "      <td>14.0</td>\n",
       "      <td>-31.63</td>\n",
       "      <td>1.191974</td>\n",
       "      <td>32.59</td>\n",
       "      <td>stress</td>\n",
       "    </tr>\n",
       "  </tbody>\n",
       "</table>\n",
       "<p>7036 rows × 7 columns</p>\n",
       "</div>"
      ],
      "text/plain": [
       "       acc_x  acc_y  acc_z    bvp       eda   temp     label\n",
       "1227    65.0   12.0   21.0 -33.58  1.640539  35.81  baseline\n",
       "1228    55.0  -32.0   44.0  30.52  1.634132  35.81  baseline\n",
       "1229    49.0  -21.0   30.0  52.54  1.614912  35.81  baseline\n",
       "1230    52.0  -22.0   27.0  94.31  1.591848  35.81  baseline\n",
       "1231    58.0  -14.0   28.0 -38.86  1.558534  35.81  baseline\n",
       "...      ...    ...    ...    ...       ...    ...       ...\n",
       "11550   16.0  -59.0   14.0  -4.80  1.209913  32.61    stress\n",
       "11551   17.0  -59.0   15.0  -0.89  1.206069  32.61    stress\n",
       "11552   16.0  -59.0   15.0   7.84  1.206069  32.59    stress\n",
       "11553   16.0  -59.0   15.0   9.49  1.199662  32.59    stress\n",
       "11554   14.0  -58.0   14.0 -31.63  1.191974  32.59    stress\n",
       "\n",
       "[7036 rows x 7 columns]"
      ]
     },
     "execution_count": 11,
     "metadata": {},
     "output_type": "execute_result"
    }
   ],
   "source": [
    "filtered_df['label'] = filtered_df['label'].replace({1: 'baseline', 2: 'stress'})\n",
    "\n",
    "filtered_df"
   ]
  },
  {
   "cell_type": "code",
   "execution_count": 12,
   "metadata": {
    "colab": {
     "base_uri": "https://localhost:8080/",
     "height": 423
    },
    "executionInfo": {
     "elapsed": 5,
     "status": "ok",
     "timestamp": 1731696335947,
     "user": {
      "displayName": "Daniel",
      "userId": "16112051572976373875"
     },
     "user_tz": -120
    },
    "id": "qeyxmwv_y0XI",
    "outputId": "231578a2-108f-4eb8-daf0-22f9327fd7c7"
   },
   "outputs": [
    {
     "data": {
      "text/html": [
       "<div>\n",
       "<style scoped>\n",
       "    .dataframe tbody tr th:only-of-type {\n",
       "        vertical-align: middle;\n",
       "    }\n",
       "\n",
       "    .dataframe tbody tr th {\n",
       "        vertical-align: top;\n",
       "    }\n",
       "\n",
       "    .dataframe thead th {\n",
       "        text-align: right;\n",
       "    }\n",
       "</style>\n",
       "<table border=\"1\" class=\"dataframe\">\n",
       "  <thead>\n",
       "    <tr style=\"text-align: right;\">\n",
       "      <th></th>\n",
       "      <th>acc_x</th>\n",
       "      <th>acc_y</th>\n",
       "      <th>acc_z</th>\n",
       "      <th>bvp</th>\n",
       "      <th>eda</th>\n",
       "      <th>temp</th>\n",
       "      <th>label</th>\n",
       "    </tr>\n",
       "  </thead>\n",
       "  <tbody>\n",
       "    <tr>\n",
       "      <th>0</th>\n",
       "      <td>65.0</td>\n",
       "      <td>12.0</td>\n",
       "      <td>21.0</td>\n",
       "      <td>-33.58</td>\n",
       "      <td>1.640539</td>\n",
       "      <td>35.81</td>\n",
       "      <td>baseline</td>\n",
       "    </tr>\n",
       "    <tr>\n",
       "      <th>1</th>\n",
       "      <td>55.0</td>\n",
       "      <td>-32.0</td>\n",
       "      <td>44.0</td>\n",
       "      <td>30.52</td>\n",
       "      <td>1.634132</td>\n",
       "      <td>35.81</td>\n",
       "      <td>baseline</td>\n",
       "    </tr>\n",
       "    <tr>\n",
       "      <th>2</th>\n",
       "      <td>49.0</td>\n",
       "      <td>-21.0</td>\n",
       "      <td>30.0</td>\n",
       "      <td>52.54</td>\n",
       "      <td>1.614912</td>\n",
       "      <td>35.81</td>\n",
       "      <td>baseline</td>\n",
       "    </tr>\n",
       "    <tr>\n",
       "      <th>3</th>\n",
       "      <td>52.0</td>\n",
       "      <td>-22.0</td>\n",
       "      <td>27.0</td>\n",
       "      <td>94.31</td>\n",
       "      <td>1.591848</td>\n",
       "      <td>35.81</td>\n",
       "      <td>baseline</td>\n",
       "    </tr>\n",
       "    <tr>\n",
       "      <th>4</th>\n",
       "      <td>58.0</td>\n",
       "      <td>-14.0</td>\n",
       "      <td>28.0</td>\n",
       "      <td>-38.86</td>\n",
       "      <td>1.558534</td>\n",
       "      <td>35.81</td>\n",
       "      <td>baseline</td>\n",
       "    </tr>\n",
       "    <tr>\n",
       "      <th>...</th>\n",
       "      <td>...</td>\n",
       "      <td>...</td>\n",
       "      <td>...</td>\n",
       "      <td>...</td>\n",
       "      <td>...</td>\n",
       "      <td>...</td>\n",
       "      <td>...</td>\n",
       "    </tr>\n",
       "    <tr>\n",
       "      <th>7031</th>\n",
       "      <td>16.0</td>\n",
       "      <td>-59.0</td>\n",
       "      <td>14.0</td>\n",
       "      <td>-4.80</td>\n",
       "      <td>1.209913</td>\n",
       "      <td>32.61</td>\n",
       "      <td>stress</td>\n",
       "    </tr>\n",
       "    <tr>\n",
       "      <th>7032</th>\n",
       "      <td>17.0</td>\n",
       "      <td>-59.0</td>\n",
       "      <td>15.0</td>\n",
       "      <td>-0.89</td>\n",
       "      <td>1.206069</td>\n",
       "      <td>32.61</td>\n",
       "      <td>stress</td>\n",
       "    </tr>\n",
       "    <tr>\n",
       "      <th>7033</th>\n",
       "      <td>16.0</td>\n",
       "      <td>-59.0</td>\n",
       "      <td>15.0</td>\n",
       "      <td>7.84</td>\n",
       "      <td>1.206069</td>\n",
       "      <td>32.59</td>\n",
       "      <td>stress</td>\n",
       "    </tr>\n",
       "    <tr>\n",
       "      <th>7034</th>\n",
       "      <td>16.0</td>\n",
       "      <td>-59.0</td>\n",
       "      <td>15.0</td>\n",
       "      <td>9.49</td>\n",
       "      <td>1.199662</td>\n",
       "      <td>32.59</td>\n",
       "      <td>stress</td>\n",
       "    </tr>\n",
       "    <tr>\n",
       "      <th>7035</th>\n",
       "      <td>14.0</td>\n",
       "      <td>-58.0</td>\n",
       "      <td>14.0</td>\n",
       "      <td>-31.63</td>\n",
       "      <td>1.191974</td>\n",
       "      <td>32.59</td>\n",
       "      <td>stress</td>\n",
       "    </tr>\n",
       "  </tbody>\n",
       "</table>\n",
       "<p>7036 rows × 7 columns</p>\n",
       "</div>"
      ],
      "text/plain": [
       "      acc_x  acc_y  acc_z    bvp       eda   temp     label\n",
       "0      65.0   12.0   21.0 -33.58  1.640539  35.81  baseline\n",
       "1      55.0  -32.0   44.0  30.52  1.634132  35.81  baseline\n",
       "2      49.0  -21.0   30.0  52.54  1.614912  35.81  baseline\n",
       "3      52.0  -22.0   27.0  94.31  1.591848  35.81  baseline\n",
       "4      58.0  -14.0   28.0 -38.86  1.558534  35.81  baseline\n",
       "...     ...    ...    ...    ...       ...    ...       ...\n",
       "7031   16.0  -59.0   14.0  -4.80  1.209913  32.61    stress\n",
       "7032   17.0  -59.0   15.0  -0.89  1.206069  32.61    stress\n",
       "7033   16.0  -59.0   15.0   7.84  1.206069  32.59    stress\n",
       "7034   16.0  -59.0   15.0   9.49  1.199662  32.59    stress\n",
       "7035   14.0  -58.0   14.0 -31.63  1.191974  32.59    stress\n",
       "\n",
       "[7036 rows x 7 columns]"
      ]
     },
     "execution_count": 12,
     "metadata": {},
     "output_type": "execute_result"
    }
   ],
   "source": [
    "filtered_df = filtered_df.reset_index(drop=True)\n",
    "filtered_df"
   ]
  },
  {
   "cell_type": "code",
   "execution_count": 13,
   "metadata": {
    "id": "2I4c4z1czPua"
   },
   "outputs": [],
   "source": [
    "def read_data(pickleFileName):\n",
    "  with open(pickleFileName, 'rb') as file:\n",
    "    data = pickle.load(file, encoding='latin1')\n",
    "  return data\n",
    "\n",
    "def downsampleDataSet(dataset):\n",
    "  wrist_data = data['signal']['wrist']\n",
    "  acc_df = pd.DataFrame(wrist_data['ACC'], columns=['ACC_X', 'ACC_Y', 'ACC_Z'])\n",
    "  bvp_df = pd.DataFrame(wrist_data['BVP'], columns=['BVP'])\n",
    "  eda_df = pd.DataFrame(wrist_data['EDA'], columns=['EDA'])\n",
    "  temp_df = pd.DataFrame(wrist_data['TEMP'], columns=['TEMP'])\n",
    "  labels = data['label']\n",
    "\n",
    "  acc_sampling_factor = 32 // 4\n",
    "  bvp_sampling_factor = 64 // 4\n",
    "  eda_sampling_factor = 4 // 4\n",
    "  temp_sampling_factor = 4 // 4\n",
    "  labels_sampling_factor = 700 // 4\n",
    "\n",
    "  tabel_lenght = len(temp_df)\n",
    "\n",
    "  downsampled_acc = acc_df[::acc_sampling_factor][:tabel_lenght]\n",
    "  downsampled_bvp = bvp_df[::bvp_sampling_factor][:tabel_lenght]\n",
    "  downsampled_eda = eda_df[::eda_sampling_factor][:tabel_lenght]\n",
    "  downsampled_temp = temp_df[::temp_sampling_factor][:tabel_lenght]\n",
    "  downsampled_labels = labels[::labels_sampling_factor][:tabel_lenght]\n",
    "  downsampled_labels_series = pd.Series(downsampled_labels, name='label')\n",
    "\n",
    "  combined_df = pd.concat([downsampled_acc.reset_index(drop=True),\n",
    "                          downsampled_bvp.reset_index(drop=True),\n",
    "                          downsampled_eda.reset_index(drop=True),\n",
    "                          downsampled_temp.reset_index(drop=True),\n",
    "                          downsampled_labels_series.reset_index(drop=True)],\n",
    "                          axis=1)\n",
    "\n",
    "  combined_df.columns = ['acc_x', 'acc_y', 'acc_z', 'bvp', 'eda', 'temp', 'label']\n",
    "  filtered_df = combined_df[(combined_df.label == 1) | (combined_df.label == 2)].copy()\n",
    "\n",
    "  # Replace the label values\n",
    "  filtered_df['label'] = filtered_df['label'].replace({1: 'baseline', 2: 'stress'})\n",
    "\n",
    "  # Reset the index\n",
    "  filtered_df = filtered_df.reset_index(drop=True)\n",
    "\n",
    "  return filtered_df"
   ]
  },
  {
   "cell_type": "code",
   "execution_count": 14,
   "metadata": {
    "id": "V8WWmRRizGE6"
   },
   "outputs": [],
   "source": [
    "def getDataSet(pickleFileName):\n",
    "  dataset = read_data(pickleFileName)\n",
    "  dataset = downsampleDataSet(dataset)\n",
    "  return dataset\n"
   ]
  },
  {
   "cell_type": "markdown",
   "metadata": {
    "id": "tL-S9aXBRiws"
   },
   "source": [
    "## Vizualizarea datelor"
   ]
  },
  {
   "cell_type": "code",
   "execution_count": 20,
   "metadata": {
    "colab": {
     "base_uri": "https://localhost:8080/"
    },
    "executionInfo": {
     "elapsed": 6518,
     "status": "ok",
     "timestamp": 1731696342461,
     "user": {
      "displayName": "Daniel",
      "userId": "16112051572976373875"
     },
     "user_tz": -120
    },
    "id": "7XzgG6Gp0Pm8",
    "outputId": "8d75fb55-893f-4bfa-a4ce-1a20f78d1183"
   },
   "outputs": [],
   "source": [
    "datasetS2 = getDataSet('WESAD/S2.pkl')"
   ]
  },
  {
   "cell_type": "code",
   "execution_count": 21,
   "metadata": {
    "id": "robjcv0_AmvM"
   },
   "outputs": [],
   "source": [
    "\n",
    "def plotMeasurement(dataset, measurement):\n",
    "  plt.figure(figsize=(12, 6))\n",
    "  plt.plot(dataset[measurement])\n",
    "  plt.xlabel('Index')\n",
    "  plt.ylabel(measurement)\n",
    "  plt.title(f'{measurement} Variation')\n",
    "\n",
    "  max_measurement = dataset[measurement].max()\n",
    "  min_measurement = dataset[measurement].min()\n",
    "  for i in range(len(dataset)):\n",
    "    if dataset['label'].iloc[i] == 'baseline':\n",
    "      plt.bar(i, max_measurement - min_measurement, bottom=min_measurement, color='green', width=1, alpha=0.3)\n",
    "    elif dataset['label'].iloc[i] == 'stress':\n",
    "      plt.bar(i, max_measurement - min_measurement,bottom=min_measurement, color='red', width=1, alpha=0.3)\n",
    "\n",
    "  plt.show()"
   ]
  },
  {
   "cell_type": "markdown",
   "metadata": {
    "id": "5nu1hg190jfM"
   },
   "source": [
    "### ACC X"
   ]
  },
  {
   "cell_type": "code",
   "execution_count": null,
   "metadata": {
    "colab": {
     "base_uri": "https://localhost:8080/",
     "height": 358
    },
    "executionInfo": {
     "elapsed": 19887,
     "status": "ok",
     "timestamp": 1731696362346,
     "user": {
      "displayName": "Daniel",
      "userId": "16112051572976373875"
     },
     "user_tz": -120
    },
    "id": "y4Ravj4rRlL7",
    "outputId": "54e3abc2-5079-415f-96ad-1f7f815c555b"
   },
   "outputs": [
    {
     "data": {
      "image/png": "[encoded data removed]",
      "text/plain": [
       "<Figure size 1200x600 with 1 Axes>"
      ]
     },
     "metadata": {},
     "output_type": "display_data"
    }
   ],
   "source": [
    "plotMeasurement(datasetS2, 'acc_x')"
   ]
  },
  {
   "cell_type": "markdown",
   "metadata": {
    "id": "tfKtmLJL0x_0"
   },
   "source": [
    "### ACC Y"
   ]
  },
  {
   "cell_type": "code",
   "execution_count": null,
   "metadata": {
    "colab": {
     "base_uri": "https://localhost:8080/",
     "height": 358
    },
    "executionInfo": {
     "elapsed": 17578,
     "status": "ok",
     "timestamp": 1731696379921,
     "user": {
      "displayName": "Daniel",
      "userId": "16112051572976373875"
     },
     "user_tz": -120
    },
    "id": "lEDtrLf_0z5i",
    "outputId": "bcf88479-858c-45c3-c59b-7f70f7bbab6a"
   },
   "outputs": [
    {
     "data": {
      "image/png": "[encoded data removed]",
      "text/plain": [
       "<Figure size 1200x600 with 1 Axes>"
      ]
     },
     "metadata": {},
     "output_type": "display_data"
    }
   ],
   "source": [
    "plotMeasurement(datasetS2, 'acc_y')"
   ]
  },
  {
   "cell_type": "markdown",
   "metadata": {
    "id": "yTFEJ6ml00aT"
   },
   "source": [
    "### ACC Z"
   ]
  },
  {
   "cell_type": "code",
   "execution_count": null,
   "metadata": {
    "colab": {
     "base_uri": "https://localhost:8080/",
     "height": 358
    },
    "executionInfo": {
     "elapsed": 19159,
     "status": "ok",
     "timestamp": 1731696399078,
     "user": {
      "displayName": "Daniel",
      "userId": "16112051572976373875"
     },
     "user_tz": -120
    },
    "id": "4jD0P5OK00sI",
    "outputId": "e8a340da-9f7c-4827-e9da-cd2664fd7e6d"
   },
   "outputs": [
    {
     "data": {
      "image/png": "[encoded data removed]",
      "text/plain": [
       "<Figure size 1200x600 with 1 Axes>"
      ]
     },
     "metadata": {},
     "output_type": "display_data"
    }
   ],
   "source": [
    "plotMeasurement(datasetS2, 'acc_z')"
   ]
  },
  {
   "cell_type": "markdown",
   "metadata": {
    "id": "OQuThp0K01AS"
   },
   "source": [
    "### BVP"
   ]
  },
  {
   "cell_type": "code",
   "execution_count": null,
   "metadata": {
    "colab": {
     "base_uri": "https://localhost:8080/",
     "height": 355
    },
    "executionInfo": {
     "elapsed": 18391,
     "status": "ok",
     "timestamp": 1731696417467,
     "user": {
      "displayName": "Daniel",
      "userId": "16112051572976373875"
     },
     "user_tz": -120
    },
    "id": "PAcf5ytF01Wj",
    "outputId": "d732f1b4-93fe-4ace-a5f7-0c7529b85c50"
   },
   "outputs": [
    {
     "data": {
      "image/png": "[encoded data removed]",
      "text/plain": [
       "<Figure size 1200x600 with 1 Axes>"
      ]
     },
     "metadata": {},
     "output_type": "display_data"
    }
   ],
   "source": [
    "plotMeasurement(datasetS2, 'bvp')"
   ]
  },
  {
   "cell_type": "markdown",
   "metadata": {
    "id": "Z82eHWXJ01lT"
   },
   "source": [
    "### EDA"
   ]
  },
  {
   "cell_type": "code",
   "execution_count": null,
   "metadata": {
    "colab": {
     "base_uri": "https://localhost:8080/",
     "height": 360
    },
    "executionInfo": {
     "elapsed": 16529,
     "status": "ok",
     "timestamp": 1731696433994,
     "user": {
      "displayName": "Daniel",
      "userId": "16112051572976373875"
     },
     "user_tz": -120
    },
    "id": "HIvOSc2m017U",
    "outputId": "99d66fbd-663a-4389-dc56-34ab0152f68d"
   },
   "outputs": [
    {
     "data": {
      "image/png": "[encoded data removed]",
      "text/plain": [
       "<Figure size 1200x600 with 1 Axes>"
      ]
     },
     "metadata": {},
     "output_type": "display_data"
    }
   ],
   "source": [
    "plotMeasurement(datasetS2, 'eda')"
   ]
  },
  {
   "cell_type": "markdown",
   "metadata": {
    "id": "_DMqISbK1Bp_"
   },
   "source": [
    "### TEMP"
   ]
  },
  {
   "cell_type": "code",
   "execution_count": null,
   "metadata": {
    "colab": {
     "base_uri": "https://localhost:8080/",
     "height": 357
    },
    "executionInfo": {
     "elapsed": 19040,
     "status": "ok",
     "timestamp": 1731696453032,
     "user": {
      "displayName": "Daniel",
      "userId": "16112051572976373875"
     },
     "user_tz": -120
    },
    "id": "TAE6Q1rV1CDM",
    "outputId": "dde12d44-babb-469d-ca68-074337524e03"
   },
   "outputs": [
    {
     "data": {
      "image/png": "[encoded data removed]",
      "text/plain": [
       "<Figure size 1200x600 with 1 Axes>"
      ]
     },
     "metadata": {},
     "output_type": "display_data"
    }
   ],
   "source": [
    "plotMeasurement(datasetS2, 'temp')"
   ]
  },
  {
   "cell_type": "markdown",
   "metadata": {
    "id": "U8DDoOG3Q4X7"
   },
   "source": [
    "## Normalizare"
   ]
  },
  {
   "cell_type": "code",
   "execution_count": 22,
   "metadata": {
    "colab": {
     "base_uri": "https://localhost:8080/",
     "height": 423
    },
    "executionInfo": {
     "elapsed": 9,
     "status": "ok",
     "timestamp": 1731696453032,
     "user": {
      "displayName": "Daniel",
      "userId": "16112051572976373875"
     },
     "user_tz": -120
    },
    "id": "YBaCRD2CRWck",
    "outputId": "a7ae0484-4bb3-424c-95e2-23f9b76f6988"
   },
   "outputs": [
    {
     "data": {
      "text/html": [
       "<div>\n",
       "<style scoped>\n",
       "    .dataframe tbody tr th:only-of-type {\n",
       "        vertical-align: middle;\n",
       "    }\n",
       "\n",
       "    .dataframe tbody tr th {\n",
       "        vertical-align: top;\n",
       "    }\n",
       "\n",
       "    .dataframe thead th {\n",
       "        text-align: right;\n",
       "    }\n",
       "</style>\n",
       "<table border=\"1\" class=\"dataframe\">\n",
       "  <thead>\n",
       "    <tr style=\"text-align: right;\">\n",
       "      <th></th>\n",
       "      <th>acc_x</th>\n",
       "      <th>acc_y</th>\n",
       "      <th>acc_z</th>\n",
       "      <th>bvp</th>\n",
       "      <th>eda</th>\n",
       "      <th>temp</th>\n",
       "      <th>label</th>\n",
       "    </tr>\n",
       "  </thead>\n",
       "  <tbody>\n",
       "    <tr>\n",
       "      <th>0</th>\n",
       "      <td>0.753846</td>\n",
       "      <td>0.708333</td>\n",
       "      <td>0.559524</td>\n",
       "      <td>0.529267</td>\n",
       "      <td>1.000000</td>\n",
       "      <td>0.952941</td>\n",
       "      <td>baseline</td>\n",
       "    </tr>\n",
       "    <tr>\n",
       "      <th>1</th>\n",
       "      <td>0.676923</td>\n",
       "      <td>0.402778</td>\n",
       "      <td>0.696429</td>\n",
       "      <td>0.577893</td>\n",
       "      <td>0.995909</td>\n",
       "      <td>0.952941</td>\n",
       "      <td>baseline</td>\n",
       "    </tr>\n",
       "    <tr>\n",
       "      <th>2</th>\n",
       "      <td>0.630769</td>\n",
       "      <td>0.479167</td>\n",
       "      <td>0.613095</td>\n",
       "      <td>0.594597</td>\n",
       "      <td>0.983635</td>\n",
       "      <td>0.952941</td>\n",
       "      <td>baseline</td>\n",
       "    </tr>\n",
       "    <tr>\n",
       "      <th>3</th>\n",
       "      <td>0.653846</td>\n",
       "      <td>0.472222</td>\n",
       "      <td>0.595238</td>\n",
       "      <td>0.626284</td>\n",
       "      <td>0.968907</td>\n",
       "      <td>0.952941</td>\n",
       "      <td>baseline</td>\n",
       "    </tr>\n",
       "    <tr>\n",
       "      <th>4</th>\n",
       "      <td>0.700000</td>\n",
       "      <td>0.527778</td>\n",
       "      <td>0.601190</td>\n",
       "      <td>0.525261</td>\n",
       "      <td>0.947633</td>\n",
       "      <td>0.952941</td>\n",
       "      <td>baseline</td>\n",
       "    </tr>\n",
       "    <tr>\n",
       "      <th>...</th>\n",
       "      <td>...</td>\n",
       "      <td>...</td>\n",
       "      <td>...</td>\n",
       "      <td>...</td>\n",
       "      <td>...</td>\n",
       "      <td>...</td>\n",
       "      <td>...</td>\n",
       "    </tr>\n",
       "    <tr>\n",
       "      <th>7031</th>\n",
       "      <td>0.376923</td>\n",
       "      <td>0.215278</td>\n",
       "      <td>0.517857</td>\n",
       "      <td>0.551099</td>\n",
       "      <td>0.725007</td>\n",
       "      <td>0.011765</td>\n",
       "      <td>stress</td>\n",
       "    </tr>\n",
       "    <tr>\n",
       "      <th>7032</th>\n",
       "      <td>0.384615</td>\n",
       "      <td>0.215278</td>\n",
       "      <td>0.523810</td>\n",
       "      <td>0.554065</td>\n",
       "      <td>0.722553</td>\n",
       "      <td>0.011765</td>\n",
       "      <td>stress</td>\n",
       "    </tr>\n",
       "    <tr>\n",
       "      <th>7033</th>\n",
       "      <td>0.376923</td>\n",
       "      <td>0.215278</td>\n",
       "      <td>0.523810</td>\n",
       "      <td>0.560688</td>\n",
       "      <td>0.722553</td>\n",
       "      <td>0.005882</td>\n",
       "      <td>stress</td>\n",
       "    </tr>\n",
       "    <tr>\n",
       "      <th>7034</th>\n",
       "      <td>0.376923</td>\n",
       "      <td>0.215278</td>\n",
       "      <td>0.523810</td>\n",
       "      <td>0.561940</td>\n",
       "      <td>0.718461</td>\n",
       "      <td>0.005882</td>\n",
       "      <td>stress</td>\n",
       "    </tr>\n",
       "    <tr>\n",
       "      <th>7035</th>\n",
       "      <td>0.361538</td>\n",
       "      <td>0.222222</td>\n",
       "      <td>0.517857</td>\n",
       "      <td>0.530746</td>\n",
       "      <td>0.713552</td>\n",
       "      <td>0.005882</td>\n",
       "      <td>stress</td>\n",
       "    </tr>\n",
       "  </tbody>\n",
       "</table>\n",
       "<p>7036 rows × 7 columns</p>\n",
       "</div>"
      ],
      "text/plain": [
       "         acc_x     acc_y     acc_z       bvp       eda      temp     label\n",
       "0     0.753846  0.708333  0.559524  0.529267  1.000000  0.952941  baseline\n",
       "1     0.676923  0.402778  0.696429  0.577893  0.995909  0.952941  baseline\n",
       "2     0.630769  0.479167  0.613095  0.594597  0.983635  0.952941  baseline\n",
       "3     0.653846  0.472222  0.595238  0.626284  0.968907  0.952941  baseline\n",
       "4     0.700000  0.527778  0.601190  0.525261  0.947633  0.952941  baseline\n",
       "...        ...       ...       ...       ...       ...       ...       ...\n",
       "7031  0.376923  0.215278  0.517857  0.551099  0.725007  0.011765    stress\n",
       "7032  0.384615  0.215278  0.523810  0.554065  0.722553  0.011765    stress\n",
       "7033  0.376923  0.215278  0.523810  0.560688  0.722553  0.005882    stress\n",
       "7034  0.376923  0.215278  0.523810  0.561940  0.718461  0.005882    stress\n",
       "7035  0.361538  0.222222  0.517857  0.530746  0.713552  0.005882    stress\n",
       "\n",
       "[7036 rows x 7 columns]"
      ]
     },
     "execution_count": 22,
     "metadata": {},
     "output_type": "execute_result"
    }
   ],
   "source": [
    "for column_name, column_type in zip(filtered_df.columns, filtered_df.dtypes):\n",
    "    if column_type == 'float64' or column_type == 'int64':\n",
    "        # filtered_df[column_name] = (filtered_df[column_name] - filtered_df[column_name].mean()) / filtered_df[column_name].std()\n",
    "        filtered_df[column_name] = (filtered_df[column_name] - filtered_df[column_name].min()) / (filtered_df[column_name].max() - filtered_df[column_name].min())\n",
    "\n",
    "filtered_df"
   ]
  },
  {
   "cell_type": "code",
   "execution_count": 15,
   "metadata": {
    "id": "386tUxNk1Od5"
   },
   "outputs": [],
   "source": [
    "def normalizeaza_date(dataset):\n",
    "  for column_name, column_type in zip(filtered_df.columns, filtered_df.dtypes):\n",
    "    if column_type == 'float64' or column_type == 'int64':\n",
    "        dataset[column_name] = (dataset[column_name] - dataset[column_name].min()) / (dataset[column_name].max() - dataset[column_name].min())\n",
    "  return dataset"
   ]
  },
  {
   "cell_type": "markdown",
   "metadata": {
    "id": "Ga5srCmu8A7d"
   },
   "source": [
    "### Creare functii de verificare a randamentului modelului"
   ]
  },
  {
   "cell_type": "code",
   "execution_count": 16,
   "metadata": {
    "id": "gP_R29Eu8GaA"
   },
   "outputs": [],
   "source": [
    "def getAccuracy(TN, FP, FN, TP):\n",
    "    \"\"\"\n",
    "    accuracy represents the overall performance of classification model:\n",
    "    (TP+TN)/(TN+FP+FN+TP)\n",
    "    \"\"\"\n",
    "    if (TN+FP+FN+TP) == 0:\n",
    "        return 0\n",
    "    return (TP+TN)/(TN+FP+FN+TP)\n",
    "\n",
    "def getPrecision(FP, TP):\n",
    "    \"\"\"\n",
    "    precision indicates how accurate the positive predictions are\n",
    "    TP/(TP+FP)\n",
    "    \"\"\"\n",
    "    if (TP+FP) == 0:\n",
    "        return 0\n",
    "    return TP/(TP+FP)\n",
    "\n",
    "def getRecall(TP, FN):\n",
    "    \"\"\"\n",
    "    recall indicates the coverage of actual positive sample\n",
    "    TP/(TP+FN)\n",
    "    \"\"\"\n",
    "    if (TP+FN) == 0:\n",
    "        return 0\n",
    "    return TP/(TP+FN)\n",
    "\n",
    "def clasificationPerformance(ground_truth, computed_values, positive_label = \"stress\"):\n",
    "    \"\"\"\n",
    "    Returneaza TN (True Negative), FP(False Positive), FN(False Negative), TP(True Positive)\n",
    "    \"\"\"\n",
    "    TN = 0\n",
    "    FP = 0\n",
    "    FN = 0\n",
    "    TP = 0\n",
    "\n",
    "    for i in range(0, len(ground_truth)):\n",
    "        if ground_truth.iloc[i] == positive_label:\n",
    "            if computed_values.iloc[i] == positive_label:\n",
    "                TP += 1\n",
    "            else:\n",
    "                FP += 1\n",
    "        else:\n",
    "            if computed_values.iloc[i] != positive_label:\n",
    "                TN += 1\n",
    "            else:\n",
    "                FN += 1\n",
    "    return TN, FP, FN, TP\n",
    "\n",
    "def test_classificator_qualitty(ground_truth, computed_values, positive_label='stress'):\n",
    "    TN, FP, FN, TP = clasificationPerformance(ground_truth,computed_values,positive_label)\n",
    "    accuracy = getAccuracy(TN,FP,FN,TP)\n",
    "    precision = getPrecision(FP,TP)\n",
    "    recall = getRecall(TP,FN)\n",
    "    print(\"\\nAccuracy: {}\\nPrecision: {}\\nRecall: {}\".format(accuracy,precision,recall))"
   ]
  },
  {
   "cell_type": "markdown",
   "metadata": {
    "id": "YNkhqToKQ9xU"
   },
   "source": [
    "## Impartire in date de antrenament si test"
   ]
  },
  {
   "cell_type": "code",
   "execution_count": 17,
   "metadata": {
    "id": "DjoDSgzOWp2U"
   },
   "outputs": [],
   "source": [
    "def getTrainingAndTestData(df, test_size):\n",
    "  np.random.seed(70)\n",
    "  shuffled_indices = np.random.permutation(len(df))\n",
    "  test_set_size = int(len(df) * test_size)\n",
    "  indexes = [i for i in range(len(df))]\n",
    "  test_indices = np.random.choice(indexes, test_set_size, replace = False)\n",
    "  train_indices = [i for i in indexes if i not in test_indices]\n",
    "  train_set = df.iloc[train_indices]\n",
    "  test_set = df.iloc[test_indices]\n",
    "  return train_set, test_set\n"
   ]
  },
  {
   "cell_type": "code",
   "execution_count": 26,
   "metadata": {
    "colab": {
     "base_uri": "https://localhost:8080/"
    },
    "executionInfo": {
     "elapsed": 7,
     "status": "ok",
     "timestamp": 1731696453032,
     "user": {
      "displayName": "Daniel",
      "userId": "16112051572976373875"
     },
     "user_tz": -120
    },
    "id": "etkynDowWq8Q",
    "outputId": "10ebbd35-5662-471a-97ec-da354273c5a1"
   },
   "outputs": [
    {
     "name": "stdout",
     "output_type": "stream",
     "text": [
      "Train Set\n",
      "         acc_x     acc_y     acc_z       bvp       eda      temp     label\n",
      "0     0.753846  0.708333  0.559524  0.529267  1.000000  0.952941  baseline\n",
      "1     0.676923  0.402778  0.696429  0.577893  0.995909  0.952941  baseline\n",
      "2     0.630769  0.479167  0.613095  0.594597  0.983635  0.952941  baseline\n",
      "4     0.700000  0.527778  0.601190  0.525261  0.947633  0.952941  baseline\n",
      "5     0.576923  0.506944  0.684524  0.486603  0.949269  0.952941  baseline\n",
      "...        ...       ...       ...       ...       ...       ...       ...\n",
      "7029  0.376923  0.215278  0.517857  0.557434  0.729098  0.011765    stress\n",
      "7031  0.376923  0.215278  0.517857  0.551099  0.725007  0.011765    stress\n",
      "7032  0.384615  0.215278  0.523810  0.554065  0.722553  0.011765    stress\n",
      "7033  0.376923  0.215278  0.523810  0.560688  0.722553  0.005882    stress\n",
      "7034  0.376923  0.215278  0.523810  0.561940  0.718461  0.005882    stress\n",
      "\n",
      "[4926 rows x 7 columns]\n",
      "Test Set\n",
      "         acc_x     acc_y     acc_z       bvp       eda      temp     label\n",
      "269   0.407692  0.701389  0.779762  0.553322  0.605607  0.929412  baseline\n",
      "4815  0.384615  0.194444  0.523810  0.606060  0.369027  0.429412    stress\n",
      "1438  0.669231  0.770833  0.577381  0.566787  0.134192  0.958824  baseline\n",
      "1520  0.700000  0.743056  0.541667  0.550879  0.119463  0.947059  baseline\n",
      "4195  0.630769  0.715278  0.208333  0.576270  0.020456  0.929412  baseline\n",
      "...        ...       ...       ...       ...       ...       ...       ...\n",
      "1800  0.684615  0.756944  0.571429  0.569973  0.074460  0.947059  baseline\n",
      "3264  0.584615  0.722222  0.172619  0.528501  0.026184  0.935294  baseline\n",
      "95    0.784615  0.680556  0.523810  0.419482  0.667793  0.952941  baseline\n",
      "2534  0.700000  0.798611  0.470238  0.570701  0.028639  0.976471  baseline\n",
      "5093  0.369231  0.215278  0.505952  0.541374  0.344480  0.382353    stress\n",
      "\n",
      "[2110 rows x 7 columns]\n"
     ]
    }
   ],
   "source": [
    "train_set, test_set = getTrainingAndTestData(filtered_df, 0.3)\n",
    "\n",
    "print(\"Train Set\")\n",
    "print(train_set)\n",
    "print(\"Test Set\")\n",
    "print(test_set)"
   ]
  },
  {
   "cell_type": "markdown",
   "metadata": {
    "id": "7iic4Ei5REES"
   },
   "source": [
    "# **Model Inteligent**"
   ]
  },
  {
   "cell_type": "markdown",
   "metadata": {
    "id": "lzQK4Z-NRG6C"
   },
   "source": [
    "## Formarea modelului"
   ]
  },
  {
   "cell_type": "code",
   "execution_count": 18,
   "metadata": {
    "colab": {
     "base_uri": "https://localhost:8080/",
     "height": 735
    },
    "executionInfo": {
     "elapsed": 279,
     "status": "ok",
     "timestamp": 1731696453307,
     "user": {
      "displayName": "Daniel",
      "userId": "16112051572976373875"
     },
     "user_tz": -120
    },
    "id": "OepiM2_5RU5c",
    "outputId": "a3d80d79-b1b1-4f52-a27d-1b1c79324849"
   },
   "outputs": [],
   "source": [
    "from tensorflow.keras.layers import Input, LSTM, Dense, Concatenate, SimpleRNN\n",
    "from tensorflow.keras.models import Model\n",
    "from tensorflow.keras.layers import Dropout\n",
    "\n",
    "def get_model(length_of_consecutive_timeline, number_of_features=1, number_of_neurons_in_ann=5):\n",
    "    input_acc_x = Input(shape=(length_of_consecutive_timeline, number_of_features), name='input_acc_x')\n",
    "    input_acc_y = Input(shape=(length_of_consecutive_timeline, number_of_features), name='input_acc_y')\n",
    "    input_acc_z = Input(shape=(length_of_consecutive_timeline, number_of_features), name='input_acc_z')\n",
    "    input_bvp = Input(shape=(length_of_consecutive_timeline, number_of_features), name='input_bvp')\n",
    "    input_eda = Input(shape=(length_of_consecutive_timeline, number_of_features), name='input_eda')\n",
    "    input_temp = Input(shape=(length_of_consecutive_timeline, number_of_features), name='input_temp')\n",
    "\n",
    "    lstm_acc_x = LSTM(length_of_consecutive_timeline, activation='relu')(input_acc_x)\n",
    "    # lstm_acc_x = Dropout(0.2)(lstm_acc_x)\n",
    "    lstm_acc_y = LSTM(length_of_consecutive_timeline, activation='relu')(input_acc_y)\n",
    "    # lstm_acc_y = Dropout(0.2)(lstm_acc_y)\n",
    "    lstm_acc_z = LSTM(length_of_consecutive_timeline, activation='relu')(input_acc_z)\n",
    "    # lstm_acc_z = Dropout(0.2)(lstm_acc_z)\n",
    "    lstm_bvp = LSTM(length_of_consecutive_timeline, activation='relu')(input_bvp)\n",
    "    # lstm_bvp = Dropout(0.2)(lstm_bvp)\n",
    "    lstm_eda = LSTM(length_of_consecutive_timeline, activation='relu')(input_eda)\n",
    "    # lstm_eda = Dropout(0.2)(lstm_eda)\n",
    "    lstm_temp = LSTM(length_of_consecutive_timeline, activation='relu')(input_temp)\n",
    "    # lstm_temp = Dropout(0.2)(lstm_temp)\n",
    "\n",
    "    fusion = Concatenate()([lstm_acc_x, lstm_acc_y, lstm_acc_z, lstm_bvp, lstm_eda, lstm_temp])\n",
    "\n",
    "    dense_1 = Dense(number_of_neurons_in_ann, activation='relu')(fusion)\n",
    "    output = Dense(1, activation='sigmoid')(dense_1)\n",
    "\n",
    "    model = Model(inputs=[input_acc_x, input_acc_y, input_acc_z, input_bvp, input_eda, input_temp], outputs=output)\n",
    "    model.compile(optimizer='adam', loss='binary_crossentropy', metrics=['accuracy'])\n",
    "    return model\n",
    "\n"
   ]
  },
  {
   "cell_type": "markdown",
   "metadata": {
    "id": "bkEhYaIxRN_h"
   },
   "source": [
    "## Antrenarea modelului"
   ]
  },
  {
   "cell_type": "code",
   "execution_count": null,
   "metadata": {
    "colab": {
     "base_uri": "https://localhost:8080/"
    },
    "executionInfo": {
     "elapsed": 14998,
     "status": "ok",
     "timestamp": 1731696468300,
     "user": {
      "displayName": "Daniel",
      "userId": "16112051572976373875"
     },
     "user_tz": -120
    },
    "id": "WyWGI90ARVTg",
    "outputId": "0c18d406-a8b4-4913-d166-e8a1e11187c2"
   },
   "outputs": [
    {
     "name": "stdout",
     "output_type": "stream",
     "text": [
      "Epoch 1/3\n"
     ]
    },
    {
     "name": "stderr",
     "output_type": "stream",
     "text": [
      "C:\\Users\\Irimieş Vasile\\AppData\\Local\\Temp\\ipykernel_4668\\2710610873.py:5: FutureWarning: Downcasting behavior in `replace` is deprecated and will be removed in a future version. To retain the old behavior, explicitly call `result.infer_objects(copy=False)`. To opt-in to the future behavior, set `pd.set_option('future.no_silent_downcasting', True)`\n",
      "  model.fit([train_set['acc_x'],train_set['acc_y'],train_set['acc_z'], train_set['bvp'], train_set['eda'], train_set['temp']], train_set['label'].replace({'baseline': 0, 'stress': 1}), epochs=3)\n",
      "c:\\Python310\\lib\\site-packages\\keras\\src\\models\\functional.py:225: UserWarning: The structure of `inputs` doesn't match the expected structure: ['input_acc_x', 'input_acc_y', 'input_acc_z', 'input_bvp', 'input_eda', 'input_temp']. Received: the structure of inputs=('*', '*', '*', '*', '*', '*')\n",
      "  warnings.warn(\n"
     ]
    },
    {
     "name": "stdout",
     "output_type": "stream",
     "text": [
      "\u001b[1m154/154\u001b[0m \u001b[32m━━━━━━━━━━━━━━━━━━━━\u001b[0m\u001b[37m\u001b[0m \u001b[1m11s\u001b[0m 4ms/step - loss: 0.3155\n",
      "Epoch 2/3\n",
      "\u001b[1m154/154\u001b[0m \u001b[32m━━━━━━━━━━━━━━━━━━━━\u001b[0m\u001b[37m\u001b[0m \u001b[1m1s\u001b[0m 4ms/step - loss: 0.2277\n",
      "Epoch 3/3\n",
      "\u001b[1m154/154\u001b[0m \u001b[32m━━━━━━━━━━━━━━━━━━━━\u001b[0m\u001b[37m\u001b[0m \u001b[1m1s\u001b[0m 4ms/step - loss: 0.2310\n",
      "Model trained in : 13.33516550064087 seconds\n"
     ]
    }
   ],
   "source": [
    "import time\n",
    "\n",
    "start_time = time.time()\n",
    "\n",
    "model.fit([train_set['acc_x'],train_set['acc_y'],train_set['acc_z'], train_set['bvp'], train_set['eda'], train_set['temp']], train_set['label'].replace({'baseline': 0, 'stress': 1}), epochs=3)\n",
    "\n",
    "\n",
    "end_time = time.time()\n",
    "\n",
    "training_time = end_time - start_time\n",
    "\n",
    "print(f\"Model trained in : {training_time} seconds\")"
   ]
  },
  {
   "cell_type": "code",
   "execution_count": null,
   "metadata": {
    "colab": {
     "base_uri": "https://localhost:8080/",
     "height": 441
    },
    "executionInfo": {
     "elapsed": 5332,
     "status": "ok",
     "timestamp": 1731696473630,
     "user": {
      "displayName": "Daniel",
      "userId": "16112051572976373875"
     },
     "user_tz": -120
    },
    "id": "MgZdPtTjbEBH",
    "outputId": "e63d1a1c-e362-4e53-ecc9-b3df5d7c7123"
   },
   "outputs": [
    {
     "name": "stderr",
     "output_type": "stream",
     "text": [
      "c:\\Python310\\lib\\site-packages\\keras\\src\\models\\functional.py:225: UserWarning: The structure of `inputs` doesn't match the expected structure: ['input_acc_x', 'input_acc_y', 'input_acc_z', 'input_bvp', 'input_eda', 'input_temp']. Received: the structure of inputs=('*', '*', '*', '*', '*', '*')\n",
      "  warnings.warn(\n"
     ]
    },
    {
     "name": "stdout",
     "output_type": "stream",
     "text": [
      "\u001b[1m66/66\u001b[0m \u001b[32m━━━━━━━━━━━━━━━━━━━━\u001b[0m\u001b[37m\u001b[0m \u001b[1m2s\u001b[0m 15ms/step\n"
     ]
    },
    {
     "data": {
      "text/html": [
       "<div>\n",
       "<style scoped>\n",
       "    .dataframe tbody tr th:only-of-type {\n",
       "        vertical-align: middle;\n",
       "    }\n",
       "\n",
       "    .dataframe tbody tr th {\n",
       "        vertical-align: top;\n",
       "    }\n",
       "\n",
       "    .dataframe thead th {\n",
       "        text-align: right;\n",
       "    }\n",
       "</style>\n",
       "<table border=\"1\" class=\"dataframe\">\n",
       "  <thead>\n",
       "    <tr style=\"text-align: right;\">\n",
       "      <th></th>\n",
       "      <th>Actual</th>\n",
       "      <th>Predicted</th>\n",
       "    </tr>\n",
       "  </thead>\n",
       "  <tbody>\n",
       "    <tr>\n",
       "      <th>269</th>\n",
       "      <td>baseline</td>\n",
       "      <td>baseline</td>\n",
       "    </tr>\n",
       "    <tr>\n",
       "      <th>4815</th>\n",
       "      <td>stress</td>\n",
       "      <td>baseline</td>\n",
       "    </tr>\n",
       "    <tr>\n",
       "      <th>1438</th>\n",
       "      <td>baseline</td>\n",
       "      <td>baseline</td>\n",
       "    </tr>\n",
       "    <tr>\n",
       "      <th>1520</th>\n",
       "      <td>baseline</td>\n",
       "      <td>baseline</td>\n",
       "    </tr>\n",
       "    <tr>\n",
       "      <th>4195</th>\n",
       "      <td>baseline</td>\n",
       "      <td>baseline</td>\n",
       "    </tr>\n",
       "    <tr>\n",
       "      <th>...</th>\n",
       "      <td>...</td>\n",
       "      <td>...</td>\n",
       "    </tr>\n",
       "    <tr>\n",
       "      <th>1800</th>\n",
       "      <td>baseline</td>\n",
       "      <td>baseline</td>\n",
       "    </tr>\n",
       "    <tr>\n",
       "      <th>3264</th>\n",
       "      <td>baseline</td>\n",
       "      <td>baseline</td>\n",
       "    </tr>\n",
       "    <tr>\n",
       "      <th>95</th>\n",
       "      <td>baseline</td>\n",
       "      <td>baseline</td>\n",
       "    </tr>\n",
       "    <tr>\n",
       "      <th>2534</th>\n",
       "      <td>baseline</td>\n",
       "      <td>baseline</td>\n",
       "    </tr>\n",
       "    <tr>\n",
       "      <th>5093</th>\n",
       "      <td>stress</td>\n",
       "      <td>baseline</td>\n",
       "    </tr>\n",
       "  </tbody>\n",
       "</table>\n",
       "<p>2110 rows × 2 columns</p>\n",
       "</div>"
      ],
      "text/plain": [
       "        Actual Predicted\n",
       "269   baseline  baseline\n",
       "4815    stress  baseline\n",
       "1438  baseline  baseline\n",
       "1520  baseline  baseline\n",
       "4195  baseline  baseline\n",
       "...        ...       ...\n",
       "1800  baseline  baseline\n",
       "3264  baseline  baseline\n",
       "95    baseline  baseline\n",
       "2534  baseline  baseline\n",
       "5093    stress  baseline\n",
       "\n",
       "[2110 rows x 2 columns]"
      ]
     },
     "execution_count": 36,
     "metadata": {},
     "output_type": "execute_result"
    }
   ],
   "source": [
    "predictions = model.predict([test_set['acc_x'],test_set['acc_y'],test_set['acc_z'], test_set['bvp'], test_set['eda'], test_set['temp']])\n",
    "\n",
    "predicted_classes = (predictions > 0.5).astype(int)\n",
    "\n",
    "results = pd.DataFrame({\n",
    "    'Actual': test_set['label'],\n",
    "    'Predicted': predicted_classes.flatten()\n",
    "})\n",
    "\n",
    "results.replace({0: 'baseline', 1: 'stress'}, inplace=True)\n",
    "\n",
    "results"
   ]
  },
  {
   "cell_type": "code",
   "execution_count": null,
   "metadata": {
    "colab": {
     "base_uri": "https://localhost:8080/"
    },
    "executionInfo": {
     "elapsed": 9,
     "status": "ok",
     "timestamp": 1731696473630,
     "user": {
      "displayName": "Daniel",
      "userId": "16112051572976373875"
     },
     "user_tz": -120
    },
    "id": "LFAgea8Pb1HO",
    "outputId": "f55e6ea7-a712-40d8-844c-1fe096b87d35"
   },
   "outputs": [
    {
     "name": "stdout",
     "output_type": "stream",
     "text": [
      "1359 / 2110\n"
     ]
    }
   ],
   "source": [
    "equal_count = (results['Actual'] == results['Predicted']).sum()\n",
    "\n",
    "print(equal_count,\"/\",len(results))"
   ]
  },
  {
   "cell_type": "code",
   "execution_count": null,
   "metadata": {
    "colab": {
     "base_uri": "https://localhost:8080/"
    },
    "executionInfo": {
     "elapsed": 8,
     "status": "ok",
     "timestamp": 1731696473630,
     "user": {
      "displayName": "Daniel",
      "userId": "16112051572976373875"
     },
     "user_tz": -120
    },
    "id": "dnO1cVJg7YU0",
    "outputId": "d2f09a82-f6f7-4b79-c25f-859b32245f86"
   },
   "outputs": [
    {
     "name": "stdout",
     "output_type": "stream",
     "text": [
      "TN: 1359\n",
      "FP: 751\n",
      "FN: 0\n",
      "TP: 0\n"
     ]
    }
   ],
   "source": [
    "TN, FP, FN, TP = clasificationPerformance(results['Actual'], results['Predicted'])\n",
    "print(\"TN:\",TN)\n",
    "print(\"FP:\",FP)\n",
    "print(\"FN:\",FN)\n",
    "print(\"TP:\",TP)"
   ]
  },
  {
   "cell_type": "markdown",
   "metadata": {
    "id": "xQ9-w-mw8oX6"
   },
   "source": [
    "#### Positive Label = stress"
   ]
  },
  {
   "cell_type": "code",
   "execution_count": null,
   "metadata": {
    "colab": {
     "base_uri": "https://localhost:8080/"
    },
    "executionInfo": {
     "elapsed": 5,
     "status": "ok",
     "timestamp": 1731696473630,
     "user": {
      "displayName": "Daniel",
      "userId": "16112051572976373875"
     },
     "user_tz": -120
    },
    "id": "SAux4J6r72Hz",
    "outputId": "770b48a9-8b0e-427f-fd4f-20b9eb438b62"
   },
   "outputs": [
    {
     "name": "stdout",
     "output_type": "stream",
     "text": [
      "\n",
      "Accuracy: 0.6440758293838863\n",
      "Precision: 0.0\n",
      "Recall: 0\n"
     ]
    }
   ],
   "source": [
    "test_classificator_qualitty(results['Actual'], results['Predicted'])"
   ]
  },
  {
   "cell_type": "markdown",
   "metadata": {
    "id": "SlR-qtx18rpM"
   },
   "source": [
    "#### Positive label = baseline"
   ]
  },
  {
   "cell_type": "code",
   "execution_count": null,
   "metadata": {
    "colab": {
     "base_uri": "https://localhost:8080/"
    },
    "executionInfo": {
     "elapsed": 4,
     "status": "ok",
     "timestamp": 1731696473631,
     "user": {
      "displayName": "Daniel",
      "userId": "16112051572976373875"
     },
     "user_tz": -120
    },
    "id": "h47Ix8AZ8u2G",
    "outputId": "17c40b20-c949-498f-85fa-98c4ae1f8a86"
   },
   "outputs": [
    {
     "name": "stdout",
     "output_type": "stream",
     "text": [
      "\n",
      "Accuracy: 0.6440758293838863\n",
      "Precision: 1.0\n",
      "Recall: 0.6440758293838863\n"
     ]
    }
   ],
   "source": [
    "test_classificator_qualitty(results['Actual'], results['Predicted'], 'baseline')"
   ]
  },
  {
   "cell_type": "code",
   "execution_count": 28,
   "metadata": {
    "colab": {
     "base_uri": "https://localhost:8080/",
     "height": 735
    },
    "executionInfo": {
     "elapsed": 410,
     "status": "ok",
     "timestamp": 1731696474038,
     "user": {
      "displayName": "Daniel",
      "userId": "16112051572976373875"
     },
     "user_tz": -120
    },
    "id": "4Q6znWwMIaba",
    "outputId": "697400de-f22b-48ba-dc2f-e19da01677a0"
   },
   "outputs": [
    {
     "data": {
      "text/html": [
       "<pre style=\"white-space:pre;overflow-x:auto;line-height:normal;font-family:Menlo,'DejaVu Sans Mono',consolas,'Courier New',monospace\"><span style=\"font-weight: bold\">Model: \"functional\"</span>\n",
       "</pre>\n"
      ],
      "text/plain": [
       "\u001b[1mModel: \"functional\"\u001b[0m\n"
      ]
     },
     "metadata": {},
     "output_type": "display_data"
    },
    {
     "data": {
      "text/html": [
       "<pre style=\"white-space:pre;overflow-x:auto;line-height:normal;font-family:Menlo,'DejaVu Sans Mono',consolas,'Courier New',monospace\">┏━━━━━━━━━━━━━━━━━━━━━┳━━━━━━━━━━━━━━━━━━━┳━━━━━━━━━━━━┳━━━━━━━━━━━━━━━━━━━┓\n",
       "┃<span style=\"font-weight: bold\"> Layer (type)        </span>┃<span style=\"font-weight: bold\"> Output Shape      </span>┃<span style=\"font-weight: bold\">    Param # </span>┃<span style=\"font-weight: bold\"> Connected to      </span>┃\n",
       "┡━━━━━━━━━━━━━━━━━━━━━╇━━━━━━━━━━━━━━━━━━━╇━━━━━━━━━━━━╇━━━━━━━━━━━━━━━━━━━┩\n",
       "│ input_acc_x         │ (<span style=\"color: #00d7ff; text-decoration-color: #00d7ff\">None</span>, <span style=\"color: #00af00; text-decoration-color: #00af00\">15</span>, <span style=\"color: #00af00; text-decoration-color: #00af00\">1</span>)     │          <span style=\"color: #00af00; text-decoration-color: #00af00\">0</span> │ -                 │\n",
       "│ (<span style=\"color: #0087ff; text-decoration-color: #0087ff\">InputLayer</span>)        │                   │            │                   │\n",
       "├─────────────────────┼───────────────────┼────────────┼───────────────────┤\n",
       "│ input_acc_y         │ (<span style=\"color: #00d7ff; text-decoration-color: #00d7ff\">None</span>, <span style=\"color: #00af00; text-decoration-color: #00af00\">15</span>, <span style=\"color: #00af00; text-decoration-color: #00af00\">1</span>)     │          <span style=\"color: #00af00; text-decoration-color: #00af00\">0</span> │ -                 │\n",
       "│ (<span style=\"color: #0087ff; text-decoration-color: #0087ff\">InputLayer</span>)        │                   │            │                   │\n",
       "├─────────────────────┼───────────────────┼────────────┼───────────────────┤\n",
       "│ input_acc_z         │ (<span style=\"color: #00d7ff; text-decoration-color: #00d7ff\">None</span>, <span style=\"color: #00af00; text-decoration-color: #00af00\">15</span>, <span style=\"color: #00af00; text-decoration-color: #00af00\">1</span>)     │          <span style=\"color: #00af00; text-decoration-color: #00af00\">0</span> │ -                 │\n",
       "│ (<span style=\"color: #0087ff; text-decoration-color: #0087ff\">InputLayer</span>)        │                   │            │                   │\n",
       "├─────────────────────┼───────────────────┼────────────┼───────────────────┤\n",
       "│ input_bvp           │ (<span style=\"color: #00d7ff; text-decoration-color: #00d7ff\">None</span>, <span style=\"color: #00af00; text-decoration-color: #00af00\">15</span>, <span style=\"color: #00af00; text-decoration-color: #00af00\">1</span>)     │          <span style=\"color: #00af00; text-decoration-color: #00af00\">0</span> │ -                 │\n",
       "│ (<span style=\"color: #0087ff; text-decoration-color: #0087ff\">InputLayer</span>)        │                   │            │                   │\n",
       "├─────────────────────┼───────────────────┼────────────┼───────────────────┤\n",
       "│ input_eda           │ (<span style=\"color: #00d7ff; text-decoration-color: #00d7ff\">None</span>, <span style=\"color: #00af00; text-decoration-color: #00af00\">15</span>, <span style=\"color: #00af00; text-decoration-color: #00af00\">1</span>)     │          <span style=\"color: #00af00; text-decoration-color: #00af00\">0</span> │ -                 │\n",
       "│ (<span style=\"color: #0087ff; text-decoration-color: #0087ff\">InputLayer</span>)        │                   │            │                   │\n",
       "├─────────────────────┼───────────────────┼────────────┼───────────────────┤\n",
       "│ input_temp          │ (<span style=\"color: #00d7ff; text-decoration-color: #00d7ff\">None</span>, <span style=\"color: #00af00; text-decoration-color: #00af00\">15</span>, <span style=\"color: #00af00; text-decoration-color: #00af00\">1</span>)     │          <span style=\"color: #00af00; text-decoration-color: #00af00\">0</span> │ -                 │\n",
       "│ (<span style=\"color: #0087ff; text-decoration-color: #0087ff\">InputLayer</span>)        │                   │            │                   │\n",
       "├─────────────────────┼───────────────────┼────────────┼───────────────────┤\n",
       "│ simple_rnn          │ (<span style=\"color: #00d7ff; text-decoration-color: #00d7ff\">None</span>, <span style=\"color: #00af00; text-decoration-color: #00af00\">1</span>)         │          <span style=\"color: #00af00; text-decoration-color: #00af00\">3</span> │ input_acc_x[<span style=\"color: #00af00; text-decoration-color: #00af00\">0</span>][<span style=\"color: #00af00; text-decoration-color: #00af00\">0</span>] │\n",
       "│ (<span style=\"color: #0087ff; text-decoration-color: #0087ff\">SimpleRNN</span>)         │                   │            │                   │\n",
       "├─────────────────────┼───────────────────┼────────────┼───────────────────┤\n",
       "│ simple_rnn_1        │ (<span style=\"color: #00d7ff; text-decoration-color: #00d7ff\">None</span>, <span style=\"color: #00af00; text-decoration-color: #00af00\">1</span>)         │          <span style=\"color: #00af00; text-decoration-color: #00af00\">3</span> │ input_acc_y[<span style=\"color: #00af00; text-decoration-color: #00af00\">0</span>][<span style=\"color: #00af00; text-decoration-color: #00af00\">0</span>] │\n",
       "│ (<span style=\"color: #0087ff; text-decoration-color: #0087ff\">SimpleRNN</span>)         │                   │            │                   │\n",
       "├─────────────────────┼───────────────────┼────────────┼───────────────────┤\n",
       "│ simple_rnn_2        │ (<span style=\"color: #00d7ff; text-decoration-color: #00d7ff\">None</span>, <span style=\"color: #00af00; text-decoration-color: #00af00\">1</span>)         │          <span style=\"color: #00af00; text-decoration-color: #00af00\">3</span> │ input_acc_z[<span style=\"color: #00af00; text-decoration-color: #00af00\">0</span>][<span style=\"color: #00af00; text-decoration-color: #00af00\">0</span>] │\n",
       "│ (<span style=\"color: #0087ff; text-decoration-color: #0087ff\">SimpleRNN</span>)         │                   │            │                   │\n",
       "├─────────────────────┼───────────────────┼────────────┼───────────────────┤\n",
       "│ simple_rnn_3        │ (<span style=\"color: #00d7ff; text-decoration-color: #00d7ff\">None</span>, <span style=\"color: #00af00; text-decoration-color: #00af00\">1</span>)         │          <span style=\"color: #00af00; text-decoration-color: #00af00\">3</span> │ input_bvp[<span style=\"color: #00af00; text-decoration-color: #00af00\">0</span>][<span style=\"color: #00af00; text-decoration-color: #00af00\">0</span>]   │\n",
       "│ (<span style=\"color: #0087ff; text-decoration-color: #0087ff\">SimpleRNN</span>)         │                   │            │                   │\n",
       "├─────────────────────┼───────────────────┼────────────┼───────────────────┤\n",
       "│ simple_rnn_4        │ (<span style=\"color: #00d7ff; text-decoration-color: #00d7ff\">None</span>, <span style=\"color: #00af00; text-decoration-color: #00af00\">1</span>)         │          <span style=\"color: #00af00; text-decoration-color: #00af00\">3</span> │ input_eda[<span style=\"color: #00af00; text-decoration-color: #00af00\">0</span>][<span style=\"color: #00af00; text-decoration-color: #00af00\">0</span>]   │\n",
       "│ (<span style=\"color: #0087ff; text-decoration-color: #0087ff\">SimpleRNN</span>)         │                   │            │                   │\n",
       "├─────────────────────┼───────────────────┼────────────┼───────────────────┤\n",
       "│ simple_rnn_5        │ (<span style=\"color: #00d7ff; text-decoration-color: #00d7ff\">None</span>, <span style=\"color: #00af00; text-decoration-color: #00af00\">1</span>)         │          <span style=\"color: #00af00; text-decoration-color: #00af00\">3</span> │ input_temp[<span style=\"color: #00af00; text-decoration-color: #00af00\">0</span>][<span style=\"color: #00af00; text-decoration-color: #00af00\">0</span>]  │\n",
       "│ (<span style=\"color: #0087ff; text-decoration-color: #0087ff\">SimpleRNN</span>)         │                   │            │                   │\n",
       "├─────────────────────┼───────────────────┼────────────┼───────────────────┤\n",
       "│ concatenate         │ (<span style=\"color: #00d7ff; text-decoration-color: #00d7ff\">None</span>, <span style=\"color: #00af00; text-decoration-color: #00af00\">6</span>)         │          <span style=\"color: #00af00; text-decoration-color: #00af00\">0</span> │ simple_rnn[<span style=\"color: #00af00; text-decoration-color: #00af00\">0</span>][<span style=\"color: #00af00; text-decoration-color: #00af00\">0</span>], │\n",
       "│ (<span style=\"color: #0087ff; text-decoration-color: #0087ff\">Concatenate</span>)       │                   │            │ simple_rnn_1[<span style=\"color: #00af00; text-decoration-color: #00af00\">0</span>][<span style=\"color: #00af00; text-decoration-color: #00af00\">…</span> │\n",
       "│                     │                   │            │ simple_rnn_2[<span style=\"color: #00af00; text-decoration-color: #00af00\">0</span>][<span style=\"color: #00af00; text-decoration-color: #00af00\">…</span> │\n",
       "│                     │                   │            │ simple_rnn_3[<span style=\"color: #00af00; text-decoration-color: #00af00\">0</span>][<span style=\"color: #00af00; text-decoration-color: #00af00\">…</span> │\n",
       "│                     │                   │            │ simple_rnn_4[<span style=\"color: #00af00; text-decoration-color: #00af00\">0</span>][<span style=\"color: #00af00; text-decoration-color: #00af00\">…</span> │\n",
       "│                     │                   │            │ simple_rnn_5[<span style=\"color: #00af00; text-decoration-color: #00af00\">0</span>][<span style=\"color: #00af00; text-decoration-color: #00af00\">…</span> │\n",
       "├─────────────────────┼───────────────────┼────────────┼───────────────────┤\n",
       "│ dense (<span style=\"color: #0087ff; text-decoration-color: #0087ff\">Dense</span>)       │ (<span style=\"color: #00d7ff; text-decoration-color: #00d7ff\">None</span>, <span style=\"color: #00af00; text-decoration-color: #00af00\">15</span>)        │        <span style=\"color: #00af00; text-decoration-color: #00af00\">105</span> │ concatenate[<span style=\"color: #00af00; text-decoration-color: #00af00\">0</span>][<span style=\"color: #00af00; text-decoration-color: #00af00\">0</span>] │\n",
       "├─────────────────────┼───────────────────┼────────────┼───────────────────┤\n",
       "│ dense_1 (<span style=\"color: #0087ff; text-decoration-color: #0087ff\">Dense</span>)     │ (<span style=\"color: #00d7ff; text-decoration-color: #00d7ff\">None</span>, <span style=\"color: #00af00; text-decoration-color: #00af00\">1</span>)         │         <span style=\"color: #00af00; text-decoration-color: #00af00\">16</span> │ dense[<span style=\"color: #00af00; text-decoration-color: #00af00\">0</span>][<span style=\"color: #00af00; text-decoration-color: #00af00\">0</span>]       │\n",
       "└─────────────────────┴───────────────────┴────────────┴───────────────────┘\n",
       "</pre>\n"
      ],
      "text/plain": [
       "┏━━━━━━━━━━━━━━━━━━━━━┳━━━━━━━━━━━━━━━━━━━┳━━━━━━━━━━━━┳━━━━━━━━━━━━━━━━━━━┓\n",
       "┃\u001b[1m \u001b[0m\u001b[1mLayer (type)       \u001b[0m\u001b[1m \u001b[0m┃\u001b[1m \u001b[0m\u001b[1mOutput Shape     \u001b[0m\u001b[1m \u001b[0m┃\u001b[1m \u001b[0m\u001b[1m   Param #\u001b[0m\u001b[1m \u001b[0m┃\u001b[1m \u001b[0m\u001b[1mConnected to     \u001b[0m\u001b[1m \u001b[0m┃\n",
       "┡━━━━━━━━━━━━━━━━━━━━━╇━━━━━━━━━━━━━━━━━━━╇━━━━━━━━━━━━╇━━━━━━━━━━━━━━━━━━━┩\n",
       "│ input_acc_x         │ (\u001b[38;5;45mNone\u001b[0m, \u001b[38;5;34m15\u001b[0m, \u001b[38;5;34m1\u001b[0m)     │          \u001b[38;5;34m0\u001b[0m │ -                 │\n",
       "│ (\u001b[38;5;33mInputLayer\u001b[0m)        │                   │            │                   │\n",
       "├─────────────────────┼───────────────────┼────────────┼───────────────────┤\n",
       "│ input_acc_y         │ (\u001b[38;5;45mNone\u001b[0m, \u001b[38;5;34m15\u001b[0m, \u001b[38;5;34m1\u001b[0m)     │          \u001b[38;5;34m0\u001b[0m │ -                 │\n",
       "│ (\u001b[38;5;33mInputLayer\u001b[0m)        │                   │            │                   │\n",
       "├─────────────────────┼───────────────────┼────────────┼───────────────────┤\n",
       "│ input_acc_z         │ (\u001b[38;5;45mNone\u001b[0m, \u001b[38;5;34m15\u001b[0m, \u001b[38;5;34m1\u001b[0m)     │          \u001b[38;5;34m0\u001b[0m │ -                 │\n",
       "│ (\u001b[38;5;33mInputLayer\u001b[0m)        │                   │            │                   │\n",
       "├─────────────────────┼───────────────────┼────────────┼───────────────────┤\n",
       "│ input_bvp           │ (\u001b[38;5;45mNone\u001b[0m, \u001b[38;5;34m15\u001b[0m, \u001b[38;5;34m1\u001b[0m)     │          \u001b[38;5;34m0\u001b[0m │ -                 │\n",
       "│ (\u001b[38;5;33mInputLayer\u001b[0m)        │                   │            │                   │\n",
       "├─────────────────────┼───────────────────┼────────────┼───────────────────┤\n",
       "│ input_eda           │ (\u001b[38;5;45mNone\u001b[0m, \u001b[38;5;34m15\u001b[0m, \u001b[38;5;34m1\u001b[0m)     │          \u001b[38;5;34m0\u001b[0m │ -                 │\n",
       "│ (\u001b[38;5;33mInputLayer\u001b[0m)        │                   │            │                   │\n",
       "├─────────────────────┼───────────────────┼────────────┼───────────────────┤\n",
       "│ input_temp          │ (\u001b[38;5;45mNone\u001b[0m, \u001b[38;5;34m15\u001b[0m, \u001b[38;5;34m1\u001b[0m)     │          \u001b[38;5;34m0\u001b[0m │ -                 │\n",
       "│ (\u001b[38;5;33mInputLayer\u001b[0m)        │                   │            │                   │\n",
       "├─────────────────────┼───────────────────┼────────────┼───────────────────┤\n",
       "│ simple_rnn          │ (\u001b[38;5;45mNone\u001b[0m, \u001b[38;5;34m1\u001b[0m)         │          \u001b[38;5;34m3\u001b[0m │ input_acc_x[\u001b[38;5;34m0\u001b[0m][\u001b[38;5;34m0\u001b[0m] │\n",
       "│ (\u001b[38;5;33mSimpleRNN\u001b[0m)         │                   │            │                   │\n",
       "├─────────────────────┼───────────────────┼────────────┼───────────────────┤\n",
       "│ simple_rnn_1        │ (\u001b[38;5;45mNone\u001b[0m, \u001b[38;5;34m1\u001b[0m)         │          \u001b[38;5;34m3\u001b[0m │ input_acc_y[\u001b[38;5;34m0\u001b[0m][\u001b[38;5;34m0\u001b[0m] │\n",
       "│ (\u001b[38;5;33mSimpleRNN\u001b[0m)         │                   │            │                   │\n",
       "├─────────────────────┼───────────────────┼────────────┼───────────────────┤\n",
       "│ simple_rnn_2        │ (\u001b[38;5;45mNone\u001b[0m, \u001b[38;5;34m1\u001b[0m)         │          \u001b[38;5;34m3\u001b[0m │ input_acc_z[\u001b[38;5;34m0\u001b[0m][\u001b[38;5;34m0\u001b[0m] │\n",
       "│ (\u001b[38;5;33mSimpleRNN\u001b[0m)         │                   │            │                   │\n",
       "├─────────────────────┼───────────────────┼────────────┼───────────────────┤\n",
       "│ simple_rnn_3        │ (\u001b[38;5;45mNone\u001b[0m, \u001b[38;5;34m1\u001b[0m)         │          \u001b[38;5;34m3\u001b[0m │ input_bvp[\u001b[38;5;34m0\u001b[0m][\u001b[38;5;34m0\u001b[0m]   │\n",
       "│ (\u001b[38;5;33mSimpleRNN\u001b[0m)         │                   │            │                   │\n",
       "├─────────────────────┼───────────────────┼────────────┼───────────────────┤\n",
       "│ simple_rnn_4        │ (\u001b[38;5;45mNone\u001b[0m, \u001b[38;5;34m1\u001b[0m)         │          \u001b[38;5;34m3\u001b[0m │ input_eda[\u001b[38;5;34m0\u001b[0m][\u001b[38;5;34m0\u001b[0m]   │\n",
       "│ (\u001b[38;5;33mSimpleRNN\u001b[0m)         │                   │            │                   │\n",
       "├─────────────────────┼───────────────────┼────────────┼───────────────────┤\n",
       "│ simple_rnn_5        │ (\u001b[38;5;45mNone\u001b[0m, \u001b[38;5;34m1\u001b[0m)         │          \u001b[38;5;34m3\u001b[0m │ input_temp[\u001b[38;5;34m0\u001b[0m][\u001b[38;5;34m0\u001b[0m]  │\n",
       "│ (\u001b[38;5;33mSimpleRNN\u001b[0m)         │                   │            │                   │\n",
       "├─────────────────────┼───────────────────┼────────────┼───────────────────┤\n",
       "│ concatenate         │ (\u001b[38;5;45mNone\u001b[0m, \u001b[38;5;34m6\u001b[0m)         │          \u001b[38;5;34m0\u001b[0m │ simple_rnn[\u001b[38;5;34m0\u001b[0m][\u001b[38;5;34m0\u001b[0m], │\n",
       "│ (\u001b[38;5;33mConcatenate\u001b[0m)       │                   │            │ simple_rnn_1[\u001b[38;5;34m0\u001b[0m][\u001b[38;5;34m…\u001b[0m │\n",
       "│                     │                   │            │ simple_rnn_2[\u001b[38;5;34m0\u001b[0m][\u001b[38;5;34m…\u001b[0m │\n",
       "│                     │                   │            │ simple_rnn_3[\u001b[38;5;34m0\u001b[0m][\u001b[38;5;34m…\u001b[0m │\n",
       "│                     │                   │            │ simple_rnn_4[\u001b[38;5;34m0\u001b[0m][\u001b[38;5;34m…\u001b[0m │\n",
       "│                     │                   │            │ simple_rnn_5[\u001b[38;5;34m0\u001b[0m][\u001b[38;5;34m…\u001b[0m │\n",
       "├─────────────────────┼───────────────────┼────────────┼───────────────────┤\n",
       "│ dense (\u001b[38;5;33mDense\u001b[0m)       │ (\u001b[38;5;45mNone\u001b[0m, \u001b[38;5;34m15\u001b[0m)        │        \u001b[38;5;34m105\u001b[0m │ concatenate[\u001b[38;5;34m0\u001b[0m][\u001b[38;5;34m0\u001b[0m] │\n",
       "├─────────────────────┼───────────────────┼────────────┼───────────────────┤\n",
       "│ dense_1 (\u001b[38;5;33mDense\u001b[0m)     │ (\u001b[38;5;45mNone\u001b[0m, \u001b[38;5;34m1\u001b[0m)         │         \u001b[38;5;34m16\u001b[0m │ dense[\u001b[38;5;34m0\u001b[0m][\u001b[38;5;34m0\u001b[0m]       │\n",
       "└─────────────────────┴───────────────────┴────────────┴───────────────────┘\n"
      ]
     },
     "metadata": {},
     "output_type": "display_data"
    },
    {
     "data": {
      "text/html": [
       "<pre style=\"white-space:pre;overflow-x:auto;line-height:normal;font-family:Menlo,'DejaVu Sans Mono',consolas,'Courier New',monospace\"><span style=\"font-weight: bold\"> Total params: </span><span style=\"color: #00af00; text-decoration-color: #00af00\">139</span> (556.00 B)\n",
       "</pre>\n"
      ],
      "text/plain": [
       "\u001b[1m Total params: \u001b[0m\u001b[38;5;34m139\u001b[0m (556.00 B)\n"
      ]
     },
     "metadata": {},
     "output_type": "display_data"
    },
    {
     "data": {
      "text/html": [
       "<pre style=\"white-space:pre;overflow-x:auto;line-height:normal;font-family:Menlo,'DejaVu Sans Mono',consolas,'Courier New',monospace\"><span style=\"font-weight: bold\"> Trainable params: </span><span style=\"color: #00af00; text-decoration-color: #00af00\">139</span> (556.00 B)\n",
       "</pre>\n"
      ],
      "text/plain": [
       "\u001b[1m Trainable params: \u001b[0m\u001b[38;5;34m139\u001b[0m (556.00 B)\n"
      ]
     },
     "metadata": {},
     "output_type": "display_data"
    },
    {
     "data": {
      "text/html": [
       "<pre style=\"white-space:pre;overflow-x:auto;line-height:normal;font-family:Menlo,'DejaVu Sans Mono',consolas,'Courier New',monospace\"><span style=\"font-weight: bold\"> Non-trainable params: </span><span style=\"color: #00af00; text-decoration-color: #00af00\">0</span> (0.00 B)\n",
       "</pre>\n"
      ],
      "text/plain": [
       "\u001b[1m Non-trainable params: \u001b[0m\u001b[38;5;34m0\u001b[0m (0.00 B)\n"
      ]
     },
     "metadata": {},
     "output_type": "display_data"
    }
   ],
   "source": [
    "from tensorflow.keras.layers import Input, LSTM, Dense, Concatenate, SimpleRNN\n",
    "from tensorflow.keras.models import Model\n",
    "\n",
    "def get_rnn_model(sequence_length, num_features=1, rnn_units=1, number_of_neurons_in_ann=24):\n",
    "    input_acc_x = Input(shape=(sequence_length, num_features), name='input_acc_x')\n",
    "    input_acc_y = Input(shape=(sequence_length, num_features), name='input_acc_y')\n",
    "    input_acc_z = Input(shape=(sequence_length, num_features), name='input_acc_z')\n",
    "    input_bvp = Input(shape=(sequence_length, num_features), name='input_bvp')\n",
    "    input_eda = Input(shape=(sequence_length, num_features), name='input_eda')\n",
    "    input_temp = Input(shape=(sequence_length, num_features), name='input_temp')\n",
    "\n",
    "    rnn_acc_x = SimpleRNN(rnn_units, activation='relu')(input_acc_x)\n",
    "    rnn_acc_y = SimpleRNN(rnn_units, activation='relu')(input_acc_y)\n",
    "    rnn_acc_z = SimpleRNN(rnn_units, activation='relu')(input_acc_z)\n",
    "    rnn_bvp = SimpleRNN(rnn_units, activation='relu')(input_bvp)\n",
    "    rnn_eda = SimpleRNN(rnn_units, activation='relu')(input_eda)\n",
    "    rnn_temp = SimpleRNN(rnn_units, activation='relu')(input_temp)\n",
    "\n",
    "    fusion = Concatenate()([rnn_acc_x, rnn_acc_y, rnn_acc_z, rnn_bvp, rnn_eda, rnn_temp])\n",
    "\n",
    "    dense_1 = Dense(number_of_neurons_in_ann, activation='relu')(fusion)\n",
    "    output = Dense(1, activation='sigmoid')(dense_1)\n",
    "\n",
    "    model = Model(inputs=[input_acc_x, input_acc_y, input_acc_z, input_bvp, input_eda, input_temp], outputs=output)\n",
    "    model.compile(optimizer='adam', loss='mse', metrics=['accuracy'])\n",
    "\n",
    "    return model\n",
    "\n",
    "sequence_length = 15\n",
    "rnn_model = get_rnn_model(sequence_length=sequence_length, num_features=1, rnn_units=1, number_of_neurons_in_ann=15)\n",
    "rnn_model.summary()"
   ]
  },
  {
   "cell_type": "code",
   "execution_count": null,
   "metadata": {
    "colab": {
     "base_uri": "https://localhost:8080/"
    },
    "executionInfo": {
     "elapsed": 13295,
     "status": "ok",
     "timestamp": 1731696487327,
     "user": {
      "displayName": "Daniel",
      "userId": "16112051572976373875"
     },
     "user_tz": -120
    },
    "id": "l_j9BXNmIqMB",
    "outputId": "21104060-5d82-4f60-ccf6-9ccca9a9b868"
   },
   "outputs": [
    {
     "name": "stdout",
     "output_type": "stream",
     "text": [
      "Epoch 1/3\n"
     ]
    },
    {
     "name": "stderr",
     "output_type": "stream",
     "text": [
      "C:\\Users\\Irimieş Vasile\\AppData\\Local\\Temp\\ipykernel_4668\\1572721506.py:12: FutureWarning: Downcasting behavior in `replace` is deprecated and will be removed in a future version. To retain the old behavior, explicitly call `result.infer_objects(copy=False)`. To opt-in to the future behavior, set `pd.set_option('future.no_silent_downcasting', True)`\n",
      "  train_set['label'].replace({'baseline': 0, 'stress': 1}),\n",
      "c:\\Python310\\lib\\site-packages\\keras\\src\\models\\functional.py:225: UserWarning: The structure of `inputs` doesn't match the expected structure: ['input_acc_x', 'input_acc_y', 'input_acc_z', 'input_bvp', 'input_eda', 'input_temp']. Received: the structure of inputs=('*', '*', '*', '*', '*', '*')\n",
      "  warnings.warn(\n"
     ]
    },
    {
     "name": "stdout",
     "output_type": "stream",
     "text": [
      "\u001b[1m154/154\u001b[0m \u001b[32m━━━━━━━━━━━━━━━━━━━━\u001b[0m\u001b[37m\u001b[0m \u001b[1m7s\u001b[0m 3ms/step - accuracy: 0.5070 - loss: 0.2605\n",
      "Epoch 2/3\n",
      "\u001b[1m154/154\u001b[0m \u001b[32m━━━━━━━━━━━━━━━━━━━━\u001b[0m\u001b[37m\u001b[0m \u001b[1m1s\u001b[0m 4ms/step - accuracy: 0.8516 - loss: 0.1233\n",
      "Epoch 3/3\n",
      "\u001b[1m154/154\u001b[0m \u001b[32m━━━━━━━━━━━━━━━━━━━━\u001b[0m\u001b[37m\u001b[0m \u001b[1m1s\u001b[0m 4ms/step - accuracy: 0.9536 - loss: 0.0720\n",
      "Model trained in : 8.106508016586304 seconds\n"
     ]
    }
   ],
   "source": [
    "import time\n",
    "\n",
    "start_time = time.time()\n",
    "\n",
    "rnn_model.fit(\n",
    "    [train_set['acc_x'],\n",
    "     train_set['acc_y'],\n",
    "     train_set['acc_z'],\n",
    "     train_set['bvp'],\n",
    "     train_set['eda'],\n",
    "     train_set['temp']],\n",
    "    train_set['label'].replace({'baseline': 0, 'stress': 1}),\n",
    "    epochs=3\n",
    ")\n",
    "\n",
    "end_time = time.time()\n",
    "\n",
    "training_time = end_time - start_time\n",
    "\n",
    "print(f\"Model trained in : {training_time} seconds\")"
   ]
  },
  {
   "cell_type": "code",
   "execution_count": null,
   "metadata": {
    "colab": {
     "base_uri": "https://localhost:8080/",
     "height": 441
    },
    "executionInfo": {
     "elapsed": 2866,
     "status": "ok",
     "timestamp": 1731696490190,
     "user": {
      "displayName": "Daniel",
      "userId": "16112051572976373875"
     },
     "user_tz": -120
    },
    "id": "EfVjR4YRJC1p",
    "outputId": "e1988417-df61-4bc6-997a-03372640448e"
   },
   "outputs": [
    {
     "name": "stderr",
     "output_type": "stream",
     "text": [
      "c:\\Python310\\lib\\site-packages\\keras\\src\\models\\functional.py:225: UserWarning: The structure of `inputs` doesn't match the expected structure: ['input_acc_x', 'input_acc_y', 'input_acc_z', 'input_bvp', 'input_eda', 'input_temp']. Received: the structure of inputs=('*', '*', '*', '*', '*', '*')\n",
      "  warnings.warn(\n"
     ]
    },
    {
     "name": "stdout",
     "output_type": "stream",
     "text": [
      "\u001b[1m66/66\u001b[0m \u001b[32m━━━━━━━━━━━━━━━━━━━━\u001b[0m\u001b[37m\u001b[0m \u001b[1m2s\u001b[0m 12ms/step\n"
     ]
    },
    {
     "data": {
      "text/html": [
       "<div>\n",
       "<style scoped>\n",
       "    .dataframe tbody tr th:only-of-type {\n",
       "        vertical-align: middle;\n",
       "    }\n",
       "\n",
       "    .dataframe tbody tr th {\n",
       "        vertical-align: top;\n",
       "    }\n",
       "\n",
       "    .dataframe thead th {\n",
       "        text-align: right;\n",
       "    }\n",
       "</style>\n",
       "<table border=\"1\" class=\"dataframe\">\n",
       "  <thead>\n",
       "    <tr style=\"text-align: right;\">\n",
       "      <th></th>\n",
       "      <th>Actual</th>\n",
       "      <th>Predicted</th>\n",
       "    </tr>\n",
       "  </thead>\n",
       "  <tbody>\n",
       "    <tr>\n",
       "      <th>269</th>\n",
       "      <td>baseline</td>\n",
       "      <td>baseline</td>\n",
       "    </tr>\n",
       "    <tr>\n",
       "      <th>4815</th>\n",
       "      <td>stress</td>\n",
       "      <td>stress</td>\n",
       "    </tr>\n",
       "    <tr>\n",
       "      <th>1438</th>\n",
       "      <td>baseline</td>\n",
       "      <td>baseline</td>\n",
       "    </tr>\n",
       "    <tr>\n",
       "      <th>1520</th>\n",
       "      <td>baseline</td>\n",
       "      <td>baseline</td>\n",
       "    </tr>\n",
       "    <tr>\n",
       "      <th>4195</th>\n",
       "      <td>baseline</td>\n",
       "      <td>baseline</td>\n",
       "    </tr>\n",
       "    <tr>\n",
       "      <th>...</th>\n",
       "      <td>...</td>\n",
       "      <td>...</td>\n",
       "    </tr>\n",
       "    <tr>\n",
       "      <th>1800</th>\n",
       "      <td>baseline</td>\n",
       "      <td>baseline</td>\n",
       "    </tr>\n",
       "    <tr>\n",
       "      <th>3264</th>\n",
       "      <td>baseline</td>\n",
       "      <td>baseline</td>\n",
       "    </tr>\n",
       "    <tr>\n",
       "      <th>95</th>\n",
       "      <td>baseline</td>\n",
       "      <td>baseline</td>\n",
       "    </tr>\n",
       "    <tr>\n",
       "      <th>2534</th>\n",
       "      <td>baseline</td>\n",
       "      <td>baseline</td>\n",
       "    </tr>\n",
       "    <tr>\n",
       "      <th>5093</th>\n",
       "      <td>stress</td>\n",
       "      <td>stress</td>\n",
       "    </tr>\n",
       "  </tbody>\n",
       "</table>\n",
       "<p>2110 rows × 2 columns</p>\n",
       "</div>"
      ],
      "text/plain": [
       "        Actual Predicted\n",
       "269   baseline  baseline\n",
       "4815    stress    stress\n",
       "1438  baseline  baseline\n",
       "1520  baseline  baseline\n",
       "4195  baseline  baseline\n",
       "...        ...       ...\n",
       "1800  baseline  baseline\n",
       "3264  baseline  baseline\n",
       "95    baseline  baseline\n",
       "2534  baseline  baseline\n",
       "5093    stress    stress\n",
       "\n",
       "[2110 rows x 2 columns]"
      ]
     },
     "execution_count": 43,
     "metadata": {},
     "output_type": "execute_result"
    }
   ],
   "source": [
    "rnn_predictions = rnn_model.predict([test_set['acc_x'],test_set['acc_y'],test_set['acc_z'], test_set['bvp'], test_set['eda'], test_set['temp']])\n",
    "\n",
    "rnn_predicted_classes = (rnn_predictions > 0.5).astype(int)\n",
    "\n",
    "rnn_results = pd.DataFrame({\n",
    "    'Actual': test_set['label'],\n",
    "    'Predicted': rnn_predicted_classes.flatten()\n",
    "})\n",
    "\n",
    "rnn_results.replace({0: 'baseline', 1: 'stress'}, inplace=True)\n",
    "\n",
    "rnn_results"
   ]
  },
  {
   "cell_type": "code",
   "execution_count": null,
   "metadata": {
    "colab": {
     "base_uri": "https://localhost:8080/"
    },
    "executionInfo": {
     "elapsed": 12,
     "status": "ok",
     "timestamp": 1731696490191,
     "user": {
      "displayName": "Daniel",
      "userId": "16112051572976373875"
     },
     "user_tz": -120
    },
    "id": "stC0-ALjJJgJ",
    "outputId": "ee23f1c1-f60d-4721-ac79-4548270758f8"
   },
   "outputs": [
    {
     "name": "stdout",
     "output_type": "stream",
     "text": [
      "2038 / 2110\n"
     ]
    }
   ],
   "source": [
    "rnn_equal_count = (rnn_results['Actual'] == rnn_results['Predicted']).sum()\n",
    "\n",
    "print(rnn_equal_count,\"/\",len(rnn_results))"
   ]
  },
  {
   "cell_type": "markdown",
   "metadata": {
    "id": "z4iUI7K39hso"
   },
   "source": [
    "#### Positive label = stress"
   ]
  },
  {
   "cell_type": "code",
   "execution_count": null,
   "metadata": {
    "colab": {
     "base_uri": "https://localhost:8080/"
    },
    "executionInfo": {
     "elapsed": 11,
     "status": "ok",
     "timestamp": 1731696490191,
     "user": {
      "displayName": "Daniel",
      "userId": "16112051572976373875"
     },
     "user_tz": -120
    },
    "id": "vJyKnuCP9hLB",
    "outputId": "13dad762-9528-4216-fd95-b7ae866b0a69"
   },
   "outputs": [
    {
     "name": "stdout",
     "output_type": "stream",
     "text": [
      "\n",
      "Accuracy: 0.9658767772511848\n",
      "Precision: 1.0\n",
      "Recall: 0.9125151883353585\n"
     ]
    }
   ],
   "source": [
    "test_classificator_qualitty(rnn_results['Actual'], rnn_results['Predicted'])"
   ]
  },
  {
   "cell_type": "markdown",
   "metadata": {
    "id": "qn71PEg39m1w"
   },
   "source": [
    "#### Positive label = baseline"
   ]
  },
  {
   "cell_type": "code",
   "execution_count": null,
   "metadata": {
    "colab": {
     "base_uri": "https://localhost:8080/"
    },
    "executionInfo": {
     "elapsed": 8,
     "status": "ok",
     "timestamp": 1731696490191,
     "user": {
      "displayName": "Daniel",
      "userId": "16112051572976373875"
     },
     "user_tz": -120
    },
    "id": "9nIMMJd29pzW",
    "outputId": "7d1ff611-c849-4019-b22c-da66e1144c99"
   },
   "outputs": [
    {
     "name": "stdout",
     "output_type": "stream",
     "text": [
      "\n",
      "Accuracy: 0.9658767772511848\n",
      "Precision: 0.9470198675496688\n",
      "Recall: 1.0\n"
     ]
    }
   ],
   "source": [
    "test_classificator_qualitty(rnn_results['Actual'], rnn_results['Predicted'], 'baseline')"
   ]
  },
  {
   "cell_type": "markdown",
   "metadata": {
    "id": "ddcc4hGyIhwf"
   },
   "source": [
    "## Unirea fisierelor si antrenarea modelului pe setul de date complet"
   ]
  },
  {
   "cell_type": "code",
   "execution_count": 19,
   "metadata": {
    "id": "kqfcslMGIpdS"
   },
   "outputs": [],
   "source": [
    "def getCombinedDataset(list_of_files):\n",
    "  list_of_dataframes = []\n",
    "  for file in list_of_files:\n",
    "    dataset = getDataSet(file)\n",
    "    list_of_dataframes.append(dataset)\n",
    "  combined_df = pd.concat(list_of_dataframes, axis=0, ignore_index=True)\n",
    "  combined_df = normalizeaza_date(combined_df)\n",
    "  return combined_df"
   ]
  },
  {
   "cell_type": "code",
   "execution_count": null,
   "metadata": {
    "colab": {
     "base_uri": "https://localhost:8080/",
     "height": 735
    },
    "executionInfo": {
     "elapsed": 308,
     "status": "ok",
     "timestamp": 1731696490494,
     "user": {
      "displayName": "Daniel",
      "userId": "16112051572976373875"
     },
     "user_tz": -120
    },
    "id": "hJoDeAwoS_Fk",
    "outputId": "b0980dc8-ed77-45fc-b34d-d997b43c5402"
   },
   "outputs": [
    {
     "data": {
      "text/html": [
       "<pre style=\"white-space:pre;overflow-x:auto;line-height:normal;font-family:Menlo,'DejaVu Sans Mono',consolas,'Courier New',monospace\"><span style=\"font-weight: bold\">Model: \"functional_2\"</span>\n",
       "</pre>\n"
      ],
      "text/plain": [
       "\u001b[1mModel: \"functional_2\"\u001b[0m\n"
      ]
     },
     "metadata": {},
     "output_type": "display_data"
    },
    {
     "data": {
      "text/html": [
       "<pre style=\"white-space:pre;overflow-x:auto;line-height:normal;font-family:Menlo,'DejaVu Sans Mono',consolas,'Courier New',monospace\">┏━━━━━━━━━━━━━━━━━━━━━┳━━━━━━━━━━━━━━━━━━━┳━━━━━━━━━━━━┳━━━━━━━━━━━━━━━━━━━┓\n",
       "┃<span style=\"font-weight: bold\"> Layer (type)        </span>┃<span style=\"font-weight: bold\"> Output Shape      </span>┃<span style=\"font-weight: bold\">    Param # </span>┃<span style=\"font-weight: bold\"> Connected to      </span>┃\n",
       "┡━━━━━━━━━━━━━━━━━━━━━╇━━━━━━━━━━━━━━━━━━━╇━━━━━━━━━━━━╇━━━━━━━━━━━━━━━━━━━┩\n",
       "│ input_acc_x         │ (<span style=\"color: #00d7ff; text-decoration-color: #00d7ff\">None</span>, <span style=\"color: #00af00; text-decoration-color: #00af00\">15</span>, <span style=\"color: #00af00; text-decoration-color: #00af00\">1</span>)     │          <span style=\"color: #00af00; text-decoration-color: #00af00\">0</span> │ -                 │\n",
       "│ (<span style=\"color: #0087ff; text-decoration-color: #0087ff\">InputLayer</span>)        │                   │            │                   │\n",
       "├─────────────────────┼───────────────────┼────────────┼───────────────────┤\n",
       "│ input_acc_y         │ (<span style=\"color: #00d7ff; text-decoration-color: #00d7ff\">None</span>, <span style=\"color: #00af00; text-decoration-color: #00af00\">15</span>, <span style=\"color: #00af00; text-decoration-color: #00af00\">1</span>)     │          <span style=\"color: #00af00; text-decoration-color: #00af00\">0</span> │ -                 │\n",
       "│ (<span style=\"color: #0087ff; text-decoration-color: #0087ff\">InputLayer</span>)        │                   │            │                   │\n",
       "├─────────────────────┼───────────────────┼────────────┼───────────────────┤\n",
       "│ input_acc_z         │ (<span style=\"color: #00d7ff; text-decoration-color: #00d7ff\">None</span>, <span style=\"color: #00af00; text-decoration-color: #00af00\">15</span>, <span style=\"color: #00af00; text-decoration-color: #00af00\">1</span>)     │          <span style=\"color: #00af00; text-decoration-color: #00af00\">0</span> │ -                 │\n",
       "│ (<span style=\"color: #0087ff; text-decoration-color: #0087ff\">InputLayer</span>)        │                   │            │                   │\n",
       "├─────────────────────┼───────────────────┼────────────┼───────────────────┤\n",
       "│ input_bvp           │ (<span style=\"color: #00d7ff; text-decoration-color: #00d7ff\">None</span>, <span style=\"color: #00af00; text-decoration-color: #00af00\">15</span>, <span style=\"color: #00af00; text-decoration-color: #00af00\">1</span>)     │          <span style=\"color: #00af00; text-decoration-color: #00af00\">0</span> │ -                 │\n",
       "│ (<span style=\"color: #0087ff; text-decoration-color: #0087ff\">InputLayer</span>)        │                   │            │                   │\n",
       "├─────────────────────┼───────────────────┼────────────┼───────────────────┤\n",
       "│ input_eda           │ (<span style=\"color: #00d7ff; text-decoration-color: #00d7ff\">None</span>, <span style=\"color: #00af00; text-decoration-color: #00af00\">15</span>, <span style=\"color: #00af00; text-decoration-color: #00af00\">1</span>)     │          <span style=\"color: #00af00; text-decoration-color: #00af00\">0</span> │ -                 │\n",
       "│ (<span style=\"color: #0087ff; text-decoration-color: #0087ff\">InputLayer</span>)        │                   │            │                   │\n",
       "├─────────────────────┼───────────────────┼────────────┼───────────────────┤\n",
       "│ input_temp          │ (<span style=\"color: #00d7ff; text-decoration-color: #00d7ff\">None</span>, <span style=\"color: #00af00; text-decoration-color: #00af00\">15</span>, <span style=\"color: #00af00; text-decoration-color: #00af00\">1</span>)     │          <span style=\"color: #00af00; text-decoration-color: #00af00\">0</span> │ -                 │\n",
       "│ (<span style=\"color: #0087ff; text-decoration-color: #0087ff\">InputLayer</span>)        │                   │            │                   │\n",
       "├─────────────────────┼───────────────────┼────────────┼───────────────────┤\n",
       "│ lstm_6 (<span style=\"color: #0087ff; text-decoration-color: #0087ff\">LSTM</span>)       │ (<span style=\"color: #00d7ff; text-decoration-color: #00d7ff\">None</span>, <span style=\"color: #00af00; text-decoration-color: #00af00\">1</span>)         │         <span style=\"color: #00af00; text-decoration-color: #00af00\">12</span> │ input_acc_x[<span style=\"color: #00af00; text-decoration-color: #00af00\">0</span>][<span style=\"color: #00af00; text-decoration-color: #00af00\">0</span>] │\n",
       "├─────────────────────┼───────────────────┼────────────┼───────────────────┤\n",
       "│ lstm_7 (<span style=\"color: #0087ff; text-decoration-color: #0087ff\">LSTM</span>)       │ (<span style=\"color: #00d7ff; text-decoration-color: #00d7ff\">None</span>, <span style=\"color: #00af00; text-decoration-color: #00af00\">1</span>)         │         <span style=\"color: #00af00; text-decoration-color: #00af00\">12</span> │ input_acc_y[<span style=\"color: #00af00; text-decoration-color: #00af00\">0</span>][<span style=\"color: #00af00; text-decoration-color: #00af00\">0</span>] │\n",
       "├─────────────────────┼───────────────────┼────────────┼───────────────────┤\n",
       "│ lstm_8 (<span style=\"color: #0087ff; text-decoration-color: #0087ff\">LSTM</span>)       │ (<span style=\"color: #00d7ff; text-decoration-color: #00d7ff\">None</span>, <span style=\"color: #00af00; text-decoration-color: #00af00\">1</span>)         │         <span style=\"color: #00af00; text-decoration-color: #00af00\">12</span> │ input_acc_z[<span style=\"color: #00af00; text-decoration-color: #00af00\">0</span>][<span style=\"color: #00af00; text-decoration-color: #00af00\">0</span>] │\n",
       "├─────────────────────┼───────────────────┼────────────┼───────────────────┤\n",
       "│ lstm_9 (<span style=\"color: #0087ff; text-decoration-color: #0087ff\">LSTM</span>)       │ (<span style=\"color: #00d7ff; text-decoration-color: #00d7ff\">None</span>, <span style=\"color: #00af00; text-decoration-color: #00af00\">1</span>)         │         <span style=\"color: #00af00; text-decoration-color: #00af00\">12</span> │ input_bvp[<span style=\"color: #00af00; text-decoration-color: #00af00\">0</span>][<span style=\"color: #00af00; text-decoration-color: #00af00\">0</span>]   │\n",
       "├─────────────────────┼───────────────────┼────────────┼───────────────────┤\n",
       "│ lstm_10 (<span style=\"color: #0087ff; text-decoration-color: #0087ff\">LSTM</span>)      │ (<span style=\"color: #00d7ff; text-decoration-color: #00d7ff\">None</span>, <span style=\"color: #00af00; text-decoration-color: #00af00\">1</span>)         │         <span style=\"color: #00af00; text-decoration-color: #00af00\">12</span> │ input_eda[<span style=\"color: #00af00; text-decoration-color: #00af00\">0</span>][<span style=\"color: #00af00; text-decoration-color: #00af00\">0</span>]   │\n",
       "├─────────────────────┼───────────────────┼────────────┼───────────────────┤\n",
       "│ lstm_11 (<span style=\"color: #0087ff; text-decoration-color: #0087ff\">LSTM</span>)      │ (<span style=\"color: #00d7ff; text-decoration-color: #00d7ff\">None</span>, <span style=\"color: #00af00; text-decoration-color: #00af00\">1</span>)         │         <span style=\"color: #00af00; text-decoration-color: #00af00\">12</span> │ input_temp[<span style=\"color: #00af00; text-decoration-color: #00af00\">0</span>][<span style=\"color: #00af00; text-decoration-color: #00af00\">0</span>]  │\n",
       "├─────────────────────┼───────────────────┼────────────┼───────────────────┤\n",
       "│ concatenate_2       │ (<span style=\"color: #00d7ff; text-decoration-color: #00d7ff\">None</span>, <span style=\"color: #00af00; text-decoration-color: #00af00\">6</span>)         │          <span style=\"color: #00af00; text-decoration-color: #00af00\">0</span> │ lstm_6[<span style=\"color: #00af00; text-decoration-color: #00af00\">0</span>][<span style=\"color: #00af00; text-decoration-color: #00af00\">0</span>],     │\n",
       "│ (<span style=\"color: #0087ff; text-decoration-color: #0087ff\">Concatenate</span>)       │                   │            │ lstm_7[<span style=\"color: #00af00; text-decoration-color: #00af00\">0</span>][<span style=\"color: #00af00; text-decoration-color: #00af00\">0</span>],     │\n",
       "│                     │                   │            │ lstm_8[<span style=\"color: #00af00; text-decoration-color: #00af00\">0</span>][<span style=\"color: #00af00; text-decoration-color: #00af00\">0</span>],     │\n",
       "│                     │                   │            │ lstm_9[<span style=\"color: #00af00; text-decoration-color: #00af00\">0</span>][<span style=\"color: #00af00; text-decoration-color: #00af00\">0</span>],     │\n",
       "│                     │                   │            │ lstm_10[<span style=\"color: #00af00; text-decoration-color: #00af00\">0</span>][<span style=\"color: #00af00; text-decoration-color: #00af00\">0</span>],    │\n",
       "│                     │                   │            │ lstm_11[<span style=\"color: #00af00; text-decoration-color: #00af00\">0</span>][<span style=\"color: #00af00; text-decoration-color: #00af00\">0</span>]     │\n",
       "├─────────────────────┼───────────────────┼────────────┼───────────────────┤\n",
       "│ dense_4 (<span style=\"color: #0087ff; text-decoration-color: #0087ff\">Dense</span>)     │ (<span style=\"color: #00d7ff; text-decoration-color: #00d7ff\">None</span>, <span style=\"color: #00af00; text-decoration-color: #00af00\">15</span>)        │        <span style=\"color: #00af00; text-decoration-color: #00af00\">105</span> │ concatenate_2[<span style=\"color: #00af00; text-decoration-color: #00af00\">0</span>]… │\n",
       "├─────────────────────┼───────────────────┼────────────┼───────────────────┤\n",
       "│ dense_5 (<span style=\"color: #0087ff; text-decoration-color: #0087ff\">Dense</span>)     │ (<span style=\"color: #00d7ff; text-decoration-color: #00d7ff\">None</span>, <span style=\"color: #00af00; text-decoration-color: #00af00\">1</span>)         │         <span style=\"color: #00af00; text-decoration-color: #00af00\">16</span> │ dense_4[<span style=\"color: #00af00; text-decoration-color: #00af00\">0</span>][<span style=\"color: #00af00; text-decoration-color: #00af00\">0</span>]     │\n",
       "└─────────────────────┴───────────────────┴────────────┴───────────────────┘\n",
       "</pre>\n"
      ],
      "text/plain": [
       "┏━━━━━━━━━━━━━━━━━━━━━┳━━━━━━━━━━━━━━━━━━━┳━━━━━━━━━━━━┳━━━━━━━━━━━━━━━━━━━┓\n",
       "┃\u001b[1m \u001b[0m\u001b[1mLayer (type)       \u001b[0m\u001b[1m \u001b[0m┃\u001b[1m \u001b[0m\u001b[1mOutput Shape     \u001b[0m\u001b[1m \u001b[0m┃\u001b[1m \u001b[0m\u001b[1m   Param #\u001b[0m\u001b[1m \u001b[0m┃\u001b[1m \u001b[0m\u001b[1mConnected to     \u001b[0m\u001b[1m \u001b[0m┃\n",
       "┡━━━━━━━━━━━━━━━━━━━━━╇━━━━━━━━━━━━━━━━━━━╇━━━━━━━━━━━━╇━━━━━━━━━━━━━━━━━━━┩\n",
       "│ input_acc_x         │ (\u001b[38;5;45mNone\u001b[0m, \u001b[38;5;34m15\u001b[0m, \u001b[38;5;34m1\u001b[0m)     │          \u001b[38;5;34m0\u001b[0m │ -                 │\n",
       "│ (\u001b[38;5;33mInputLayer\u001b[0m)        │                   │            │                   │\n",
       "├─────────────────────┼───────────────────┼────────────┼───────────────────┤\n",
       "│ input_acc_y         │ (\u001b[38;5;45mNone\u001b[0m, \u001b[38;5;34m15\u001b[0m, \u001b[38;5;34m1\u001b[0m)     │          \u001b[38;5;34m0\u001b[0m │ -                 │\n",
       "│ (\u001b[38;5;33mInputLayer\u001b[0m)        │                   │            │                   │\n",
       "├─────────────────────┼───────────────────┼────────────┼───────────────────┤\n",
       "│ input_acc_z         │ (\u001b[38;5;45mNone\u001b[0m, \u001b[38;5;34m15\u001b[0m, \u001b[38;5;34m1\u001b[0m)     │          \u001b[38;5;34m0\u001b[0m │ -                 │\n",
       "│ (\u001b[38;5;33mInputLayer\u001b[0m)        │                   │            │                   │\n",
       "├─────────────────────┼───────────────────┼────────────┼───────────────────┤\n",
       "│ input_bvp           │ (\u001b[38;5;45mNone\u001b[0m, \u001b[38;5;34m15\u001b[0m, \u001b[38;5;34m1\u001b[0m)     │          \u001b[38;5;34m0\u001b[0m │ -                 │\n",
       "│ (\u001b[38;5;33mInputLayer\u001b[0m)        │                   │            │                   │\n",
       "├─────────────────────┼───────────────────┼────────────┼───────────────────┤\n",
       "│ input_eda           │ (\u001b[38;5;45mNone\u001b[0m, \u001b[38;5;34m15\u001b[0m, \u001b[38;5;34m1\u001b[0m)     │          \u001b[38;5;34m0\u001b[0m │ -                 │\n",
       "│ (\u001b[38;5;33mInputLayer\u001b[0m)        │                   │            │                   │\n",
       "├─────────────────────┼───────────────────┼────────────┼───────────────────┤\n",
       "│ input_temp          │ (\u001b[38;5;45mNone\u001b[0m, \u001b[38;5;34m15\u001b[0m, \u001b[38;5;34m1\u001b[0m)     │          \u001b[38;5;34m0\u001b[0m │ -                 │\n",
       "│ (\u001b[38;5;33mInputLayer\u001b[0m)        │                   │            │                   │\n",
       "├─────────────────────┼───────────────────┼────────────┼───────────────────┤\n",
       "│ lstm_6 (\u001b[38;5;33mLSTM\u001b[0m)       │ (\u001b[38;5;45mNone\u001b[0m, \u001b[38;5;34m1\u001b[0m)         │         \u001b[38;5;34m12\u001b[0m │ input_acc_x[\u001b[38;5;34m0\u001b[0m][\u001b[38;5;34m0\u001b[0m] │\n",
       "├─────────────────────┼───────────────────┼────────────┼───────────────────┤\n",
       "│ lstm_7 (\u001b[38;5;33mLSTM\u001b[0m)       │ (\u001b[38;5;45mNone\u001b[0m, \u001b[38;5;34m1\u001b[0m)         │         \u001b[38;5;34m12\u001b[0m │ input_acc_y[\u001b[38;5;34m0\u001b[0m][\u001b[38;5;34m0\u001b[0m] │\n",
       "├─────────────────────┼───────────────────┼────────────┼───────────────────┤\n",
       "│ lstm_8 (\u001b[38;5;33mLSTM\u001b[0m)       │ (\u001b[38;5;45mNone\u001b[0m, \u001b[38;5;34m1\u001b[0m)         │         \u001b[38;5;34m12\u001b[0m │ input_acc_z[\u001b[38;5;34m0\u001b[0m][\u001b[38;5;34m0\u001b[0m] │\n",
       "├─────────────────────┼───────────────────┼────────────┼───────────────────┤\n",
       "│ lstm_9 (\u001b[38;5;33mLSTM\u001b[0m)       │ (\u001b[38;5;45mNone\u001b[0m, \u001b[38;5;34m1\u001b[0m)         │         \u001b[38;5;34m12\u001b[0m │ input_bvp[\u001b[38;5;34m0\u001b[0m][\u001b[38;5;34m0\u001b[0m]   │\n",
       "├─────────────────────┼───────────────────┼────────────┼───────────────────┤\n",
       "│ lstm_10 (\u001b[38;5;33mLSTM\u001b[0m)      │ (\u001b[38;5;45mNone\u001b[0m, \u001b[38;5;34m1\u001b[0m)         │         \u001b[38;5;34m12\u001b[0m │ input_eda[\u001b[38;5;34m0\u001b[0m][\u001b[38;5;34m0\u001b[0m]   │\n",
       "├─────────────────────┼───────────────────┼────────────┼───────────────────┤\n",
       "│ lstm_11 (\u001b[38;5;33mLSTM\u001b[0m)      │ (\u001b[38;5;45mNone\u001b[0m, \u001b[38;5;34m1\u001b[0m)         │         \u001b[38;5;34m12\u001b[0m │ input_temp[\u001b[38;5;34m0\u001b[0m][\u001b[38;5;34m0\u001b[0m]  │\n",
       "├─────────────────────┼───────────────────┼────────────┼───────────────────┤\n",
       "│ concatenate_2       │ (\u001b[38;5;45mNone\u001b[0m, \u001b[38;5;34m6\u001b[0m)         │          \u001b[38;5;34m0\u001b[0m │ lstm_6[\u001b[38;5;34m0\u001b[0m][\u001b[38;5;34m0\u001b[0m],     │\n",
       "│ (\u001b[38;5;33mConcatenate\u001b[0m)       │                   │            │ lstm_7[\u001b[38;5;34m0\u001b[0m][\u001b[38;5;34m0\u001b[0m],     │\n",
       "│                     │                   │            │ lstm_8[\u001b[38;5;34m0\u001b[0m][\u001b[38;5;34m0\u001b[0m],     │\n",
       "│                     │                   │            │ lstm_9[\u001b[38;5;34m0\u001b[0m][\u001b[38;5;34m0\u001b[0m],     │\n",
       "│                     │                   │            │ lstm_10[\u001b[38;5;34m0\u001b[0m][\u001b[38;5;34m0\u001b[0m],    │\n",
       "│                     │                   │            │ lstm_11[\u001b[38;5;34m0\u001b[0m][\u001b[38;5;34m0\u001b[0m]     │\n",
       "├─────────────────────┼───────────────────┼────────────┼───────────────────┤\n",
       "│ dense_4 (\u001b[38;5;33mDense\u001b[0m)     │ (\u001b[38;5;45mNone\u001b[0m, \u001b[38;5;34m15\u001b[0m)        │        \u001b[38;5;34m105\u001b[0m │ concatenate_2[\u001b[38;5;34m0\u001b[0m]… │\n",
       "├─────────────────────┼───────────────────┼────────────┼───────────────────┤\n",
       "│ dense_5 (\u001b[38;5;33mDense\u001b[0m)     │ (\u001b[38;5;45mNone\u001b[0m, \u001b[38;5;34m1\u001b[0m)         │         \u001b[38;5;34m16\u001b[0m │ dense_4[\u001b[38;5;34m0\u001b[0m][\u001b[38;5;34m0\u001b[0m]     │\n",
       "└─────────────────────┴───────────────────┴────────────┴───────────────────┘\n"
      ]
     },
     "metadata": {},
     "output_type": "display_data"
    },
    {
     "data": {
      "text/html": [
       "<pre style=\"white-space:pre;overflow-x:auto;line-height:normal;font-family:Menlo,'DejaVu Sans Mono',consolas,'Courier New',monospace\"><span style=\"font-weight: bold\"> Total params: </span><span style=\"color: #00af00; text-decoration-color: #00af00\">193</span> (772.00 B)\n",
       "</pre>\n"
      ],
      "text/plain": [
       "\u001b[1m Total params: \u001b[0m\u001b[38;5;34m193\u001b[0m (772.00 B)\n"
      ]
     },
     "metadata": {},
     "output_type": "display_data"
    },
    {
     "data": {
      "text/html": [
       "<pre style=\"white-space:pre;overflow-x:auto;line-height:normal;font-family:Menlo,'DejaVu Sans Mono',consolas,'Courier New',monospace\"><span style=\"font-weight: bold\"> Trainable params: </span><span style=\"color: #00af00; text-decoration-color: #00af00\">193</span> (772.00 B)\n",
       "</pre>\n"
      ],
      "text/plain": [
       "\u001b[1m Trainable params: \u001b[0m\u001b[38;5;34m193\u001b[0m (772.00 B)\n"
      ]
     },
     "metadata": {},
     "output_type": "display_data"
    },
    {
     "data": {
      "text/html": [
       "<pre style=\"white-space:pre;overflow-x:auto;line-height:normal;font-family:Menlo,'DejaVu Sans Mono',consolas,'Courier New',monospace\"><span style=\"font-weight: bold\"> Non-trainable params: </span><span style=\"color: #00af00; text-decoration-color: #00af00\">0</span> (0.00 B)\n",
       "</pre>\n"
      ],
      "text/plain": [
       "\u001b[1m Non-trainable params: \u001b[0m\u001b[38;5;34m0\u001b[0m (0.00 B)\n"
      ]
     },
     "metadata": {},
     "output_type": "display_data"
    }
   ],
   "source": [
    "modelWithFullDataset = get_model(length_of_consecutive_timeline=15, number_of_features=1, number_of_neurons_in_ann=15)\n",
    "modelWithFullDataset.summary()\n"
   ]
  },
  {
   "cell_type": "code",
   "execution_count": null,
   "metadata": {
    "colab": {
     "base_uri": "https://localhost:8080/"
    },
    "executionInfo": {
     "elapsed": 37122,
     "status": "ok",
     "timestamp": 1731696527614,
     "user": {
      "displayName": "Daniel",
      "userId": "16112051572976373875"
     },
     "user_tz": -120
    },
    "id": "20urjmNVTsqp",
    "outputId": "094ef956-c836-481c-f9d9-20da1ab94c4a"
   },
   "outputs": [
    {
     "name": "stderr",
     "output_type": "stream",
     "text": [
      "C:\\Users\\Irimieş Vasile\\AppData\\Local\\Temp\\ipykernel_4668\\2007294394.py:39: SettingWithCopyWarning: \n",
      "A value is trying to be set on a copy of a slice from a DataFrame.\n",
      "Try using .loc[row_indexer,col_indexer] = value instead\n",
      "\n",
      "See the caveats in the documentation: https://pandas.pydata.org/pandas-docs/stable/user_guide/indexing.html#returning-a-view-versus-a-copy\n",
      "  filtered_df['label'] = filtered_df['label'].replace({1: 'baseline', 2: 'stress'})\n",
      "C:\\Users\\Irimieş Vasile\\AppData\\Local\\Temp\\ipykernel_4668\\2007294394.py:39: SettingWithCopyWarning: \n",
      "A value is trying to be set on a copy of a slice from a DataFrame.\n",
      "Try using .loc[row_indexer,col_indexer] = value instead\n",
      "\n",
      "See the caveats in the documentation: https://pandas.pydata.org/pandas-docs/stable/user_guide/indexing.html#returning-a-view-versus-a-copy\n",
      "  filtered_df['label'] = filtered_df['label'].replace({1: 'baseline', 2: 'stress'})\n",
      "C:\\Users\\Irimieş Vasile\\AppData\\Local\\Temp\\ipykernel_4668\\1237226645.py:8: FutureWarning: Downcasting behavior in `replace` is deprecated and will be removed in a future version. To retain the old behavior, explicitly call `result.infer_objects(copy=False)`. To opt-in to the future behavior, set `pd.set_option('future.no_silent_downcasting', True)`\n",
      "  modelWithFullDataset.fit([train_set['acc_x'],train_set['acc_y'],train_set['acc_z'], train_set['bvp'], train_set['eda'], train_set['temp']], train_set['label'].replace({'baseline': 0, 'stress': 1}), epochs=3)\n"
     ]
    },
    {
     "name": "stdout",
     "output_type": "stream",
     "text": [
      "Epoch 1/3\n"
     ]
    },
    {
     "name": "stderr",
     "output_type": "stream",
     "text": [
      "c:\\Python310\\lib\\site-packages\\keras\\src\\models\\functional.py:225: UserWarning: The structure of `inputs` doesn't match the expected structure: ['input_acc_x', 'input_acc_y', 'input_acc_z', 'input_bvp', 'input_eda', 'input_temp']. Received: the structure of inputs=('*', '*', '*', '*', '*', '*')\n",
      "  warnings.warn(\n"
     ]
    },
    {
     "name": "stdout",
     "output_type": "stream",
     "text": [
      "\u001b[1m264/264\u001b[0m \u001b[32m━━━━━━━━━━━━━━━━━━━━\u001b[0m\u001b[37m\u001b[0m \u001b[1m8s\u001b[0m 3ms/step - loss: 0.2696\n",
      "Epoch 2/3\n",
      "\u001b[1m264/264\u001b[0m \u001b[32m━━━━━━━━━━━━━━━━━━━━\u001b[0m\u001b[37m\u001b[0m \u001b[1m1s\u001b[0m 4ms/step - loss: 0.1339\n",
      "Epoch 3/3\n",
      "\u001b[1m264/264\u001b[0m \u001b[32m━━━━━━━━━━━━━━━━━━━━\u001b[0m\u001b[37m\u001b[0m \u001b[1m1s\u001b[0m 4ms/step - loss: 0.0947\n",
      "Model trained in : 10.54664397239685 seconds\n"
     ]
    }
   ],
   "source": [
    "fullDataset = getCombinedDataset(['WESAD/S2.pkl', 'WESAD/S3.pkl'])\n",
    "train_set, test_set = getTrainingAndTestData(fullDataset, 0.4)\n",
    "\n",
    "import time\n",
    "\n",
    "start_time = time.time()\n",
    "\n",
    "modelWithFullDataset.fit([train_set['acc_x'],train_set['acc_y'],train_set['acc_z'], train_set['bvp'], train_set['eda'], train_set['temp']], train_set['label'].replace({'baseline': 0, 'stress': 1}), epochs=3)\n",
    "\n",
    "end_time = time.time()\n",
    "\n",
    "training_time = end_time - start_time\n",
    "\n",
    "print(f\"Model trained in : {training_time} seconds\")"
   ]
  },
  {
   "cell_type": "code",
   "execution_count": null,
   "metadata": {
    "colab": {
     "base_uri": "https://localhost:8080/",
     "height": 441
    },
    "executionInfo": {
     "elapsed": 2714,
     "status": "ok",
     "timestamp": 1731696530327,
     "user": {
      "displayName": "Daniel",
      "userId": "16112051572976373875"
     },
     "user_tz": -120
    },
    "id": "Myq1-5nNUJcU",
    "outputId": "439b1531-9a50-4530-b31e-38a9aee1a891"
   },
   "outputs": [
    {
     "name": "stderr",
     "output_type": "stream",
     "text": [
      "c:\\Python310\\lib\\site-packages\\keras\\src\\models\\functional.py:225: UserWarning: The structure of `inputs` doesn't match the expected structure: ['input_acc_x', 'input_acc_y', 'input_acc_z', 'input_bvp', 'input_eda', 'input_temp']. Received: the structure of inputs=('*', '*', '*', '*', '*', '*')\n",
      "  warnings.warn(\n"
     ]
    },
    {
     "name": "stdout",
     "output_type": "stream",
     "text": [
      "\u001b[1m176/176\u001b[0m \u001b[32m━━━━━━━━━━━━━━━━━━━━\u001b[0m\u001b[37m\u001b[0m \u001b[1m2s\u001b[0m 7ms/step\n"
     ]
    },
    {
     "data": {
      "text/html": [
       "<div>\n",
       "<style scoped>\n",
       "    .dataframe tbody tr th:only-of-type {\n",
       "        vertical-align: middle;\n",
       "    }\n",
       "\n",
       "    .dataframe tbody tr th {\n",
       "        vertical-align: top;\n",
       "    }\n",
       "\n",
       "    .dataframe thead th {\n",
       "        text-align: right;\n",
       "    }\n",
       "</style>\n",
       "<table border=\"1\" class=\"dataframe\">\n",
       "  <thead>\n",
       "    <tr style=\"text-align: right;\">\n",
       "      <th></th>\n",
       "      <th>Actual</th>\n",
       "      <th>Predicted</th>\n",
       "    </tr>\n",
       "  </thead>\n",
       "  <tbody>\n",
       "    <tr>\n",
       "      <th>7533</th>\n",
       "      <td>baseline</td>\n",
       "      <td>baseline</td>\n",
       "    </tr>\n",
       "    <tr>\n",
       "      <th>9829</th>\n",
       "      <td>baseline</td>\n",
       "      <td>baseline</td>\n",
       "    </tr>\n",
       "    <tr>\n",
       "      <th>6268</th>\n",
       "      <td>stress</td>\n",
       "      <td>stress</td>\n",
       "    </tr>\n",
       "    <tr>\n",
       "      <th>7304</th>\n",
       "      <td>baseline</td>\n",
       "      <td>stress</td>\n",
       "    </tr>\n",
       "    <tr>\n",
       "      <th>5414</th>\n",
       "      <td>stress</td>\n",
       "      <td>stress</td>\n",
       "    </tr>\n",
       "    <tr>\n",
       "      <th>...</th>\n",
       "      <td>...</td>\n",
       "      <td>...</td>\n",
       "    </tr>\n",
       "    <tr>\n",
       "      <th>3190</th>\n",
       "      <td>baseline</td>\n",
       "      <td>baseline</td>\n",
       "    </tr>\n",
       "    <tr>\n",
       "      <th>7416</th>\n",
       "      <td>baseline</td>\n",
       "      <td>stress</td>\n",
       "    </tr>\n",
       "    <tr>\n",
       "      <th>4135</th>\n",
       "      <td>baseline</td>\n",
       "      <td>baseline</td>\n",
       "    </tr>\n",
       "    <tr>\n",
       "      <th>5020</th>\n",
       "      <td>stress</td>\n",
       "      <td>baseline</td>\n",
       "    </tr>\n",
       "    <tr>\n",
       "      <th>9301</th>\n",
       "      <td>baseline</td>\n",
       "      <td>baseline</td>\n",
       "    </tr>\n",
       "  </tbody>\n",
       "</table>\n",
       "<p>5628 rows × 2 columns</p>\n",
       "</div>"
      ],
      "text/plain": [
       "        Actual Predicted\n",
       "7533  baseline  baseline\n",
       "9829  baseline  baseline\n",
       "6268    stress    stress\n",
       "7304  baseline    stress\n",
       "5414    stress    stress\n",
       "...        ...       ...\n",
       "3190  baseline  baseline\n",
       "7416  baseline    stress\n",
       "4135  baseline  baseline\n",
       "5020    stress  baseline\n",
       "9301  baseline  baseline\n",
       "\n",
       "[5628 rows x 2 columns]"
      ]
     },
     "execution_count": 50,
     "metadata": {},
     "output_type": "execute_result"
    }
   ],
   "source": [
    "predictions = modelWithFullDataset.predict([test_set['acc_x'],test_set['acc_y'],test_set['acc_z'], test_set['bvp'], test_set['eda'], test_set['temp']])\n",
    "\n",
    "predicted_classes = (predictions > 0.5).astype(int)\n",
    "\n",
    "results = pd.DataFrame({\n",
    "    'Actual': test_set['label'],\n",
    "    'Predicted': predicted_classes.flatten()\n",
    "})\n",
    "\n",
    "results.replace({0: 'baseline', 1: 'stress'}, inplace=True)\n",
    "\n",
    "results"
   ]
  },
  {
   "cell_type": "code",
   "execution_count": null,
   "metadata": {
    "colab": {
     "base_uri": "https://localhost:8080/"
    },
    "executionInfo": {
     "elapsed": 4,
     "status": "ok",
     "timestamp": 1731696530327,
     "user": {
      "displayName": "Daniel",
      "userId": "16112051572976373875"
     },
     "user_tz": -120
    },
    "id": "9BSloO7uUQo6",
    "outputId": "69860edd-e3b7-4320-9076-a6f9b321e346"
   },
   "outputs": [
    {
     "name": "stdout",
     "output_type": "stream",
     "text": [
      "\n",
      "Accuracy: 0.8866382373845061\n",
      "Precision: 0.8783515392254221\n",
      "Recall: 0.8182238667900092\n"
     ]
    }
   ],
   "source": [
    "test_classificator_qualitty(results['Actual'], results['Predicted'])"
   ]
  },
  {
   "cell_type": "markdown",
   "metadata": {},
   "source": [
    "## Testarea modelului cu toate fisierele"
   ]
  },
  {
   "cell_type": "code",
   "execution_count": 20,
   "metadata": {},
   "outputs": [],
   "source": [
    "def reshape_data(data, timeline_length, features=1):\n",
    "    \"\"\"\n",
    "    Reshape the flat data array into samples of timeline_length.\n",
    "    \"\"\"\n",
    "    num_samples = len(data) // timeline_length\n",
    "    return np.array(data[:num_samples * timeline_length]).reshape(num_samples, timeline_length, features)\n"
   ]
  },
  {
   "cell_type": "code",
   "execution_count": 21,
   "metadata": {},
   "outputs": [],
   "source": [
    "from imblearn.over_sampling import SMOTE\n",
    "from sklearn.utils import class_weight\n",
    "import numpy as np\n",
    "import pandas as pd\n",
    "\n",
    "def testModel(dataset, testSize, length_of_consecutive_timeline, number_of_features, number_of_neurons_in_ann, nr_of_epochs):\n",
    "    model = get_model(length_of_consecutive_timeline, number_of_features, number_of_neurons_in_ann)\n",
    "    \n",
    "    train_set, test_set = getTrainingAndTestData(dataset, testSize)\n",
    "    print(train_set['label'].value_counts())\n",
    "    print(test_set['label'].value_counts())\n",
    "\n",
    "    model.summary()\n",
    "\n",
    "    train_inputs = [\n",
    "        reshape_data(train_set['acc_x'], length_of_consecutive_timeline),\n",
    "        reshape_data(train_set['acc_y'], length_of_consecutive_timeline),\n",
    "        reshape_data(train_set['acc_z'], length_of_consecutive_timeline),\n",
    "        reshape_data(train_set['bvp'], length_of_consecutive_timeline),\n",
    "        reshape_data(train_set['eda'], length_of_consecutive_timeline),\n",
    "        reshape_data(train_set['temp'], length_of_consecutive_timeline)\n",
    "    ]\n",
    "\n",
    "    train_labels = train_set['label'].replace({'baseline': 0, 'stress': 1}).values[:len(train_inputs[0])] \n",
    "\n",
    "    class_weights = class_weight.compute_class_weight(\n",
    "        'balanced',\n",
    "        classes=np.unique(train_labels),\n",
    "        y=train_labels\n",
    "    )\n",
    "    class_weight_dict = dict(zip(np.unique(train_labels), class_weights))\n",
    "\n",
    "    import time\n",
    "    start_time = time.time()\n",
    "    model.fit(train_inputs, train_labels, epochs=nr_of_epochs, class_weight=class_weight_dict)\n",
    "    end_time = time.time()\n",
    "\n",
    "    print(f\"Model trained in : {end_time - start_time} seconds\")\n",
    "\n",
    "    test_inputs = [\n",
    "        reshape_data(test_set['acc_x'], length_of_consecutive_timeline),\n",
    "        reshape_data(test_set['acc_y'], length_of_consecutive_timeline),\n",
    "        reshape_data(test_set['acc_z'], length_of_consecutive_timeline),\n",
    "        reshape_data(test_set['bvp'], length_of_consecutive_timeline),\n",
    "        reshape_data(test_set['eda'], length_of_consecutive_timeline),\n",
    "        reshape_data(test_set['temp'], length_of_consecutive_timeline)\n",
    "    ]\n",
    "\n",
    "    test_labels = test_set['label'].replace({'baseline': 0, 'stress': 1}).values[:len(test_inputs[0])] \n",
    "\n",
    "    predictions = model.predict(test_inputs)\n",
    "\n",
    "    predicted_classes = (predictions > 0.5).astype(int)\n",
    "\n",
    "    results = pd.DataFrame({\n",
    "        'Actual': test_labels,\n",
    "        'Predicted': predicted_classes.flatten()\n",
    "    })\n",
    "\n",
    "    results.replace({0: 'baseline', 1: 'stress'}, inplace=True)\n",
    "\n",
    "    print(results)\n",
    "\n",
    "    test_classificator_qualitty(results['Actual'], results['Predicted'])\n",
    "\n",
    "    model.save('my_model.keras')\n"
   ]
  },
  {
   "cell_type": "code",
   "execution_count": 22,
   "metadata": {},
   "outputs": [],
   "source": [
    "indexes = [2, 3, 4, 5, 6, 7, 8, 9, 10, 11, 13, 14, 15, 16, 17]\n",
    "list_of_pkls = ['WESAD/S' + str(index) + '.pkl' for index in indexes]\n",
    "dataset = getCombinedDataset(list_of_pkls)\n"
   ]
  },
  {
   "cell_type": "markdown",
   "metadata": {},
   "source": [
    "Dataset: toti subjects\n",
    "\n",
    "Numarul de consecutive timeline: 20\n",
    "\n",
    "Numarul de neuroni: 60\n",
    "\n",
    "Epoci: 10"
   ]
  },
  {
   "cell_type": "code",
   "execution_count": 63,
   "metadata": {},
   "outputs": [
    {
     "name": "stdout",
     "output_type": "stream",
     "text": [
      "label\n",
      "baseline    47992\n",
      "stress      25886\n",
      "Name: count, dtype: int64\n",
      "label\n",
      "baseline    20648\n",
      "stress      11014\n",
      "Name: count, dtype: int64\n"
     ]
    },
    {
     "data": {
      "text/html": [
       "<pre style=\"white-space:pre;overflow-x:auto;line-height:normal;font-family:Menlo,'DejaVu Sans Mono',consolas,'Courier New',monospace\"><span style=\"font-weight: bold\">Model: \"functional_16\"</span>\n",
       "</pre>\n"
      ],
      "text/plain": [
       "\u001b[1mModel: \"functional_16\"\u001b[0m\n"
      ]
     },
     "metadata": {},
     "output_type": "display_data"
    },
    {
     "data": {
      "text/html": [
       "<pre style=\"white-space:pre;overflow-x:auto;line-height:normal;font-family:Menlo,'DejaVu Sans Mono',consolas,'Courier New',monospace\">┏━━━━━━━━━━━━━━━━━━━━━┳━━━━━━━━━━━━━━━━━━━┳━━━━━━━━━━━━┳━━━━━━━━━━━━━━━━━━━┓\n",
       "┃<span style=\"font-weight: bold\"> Layer (type)        </span>┃<span style=\"font-weight: bold\"> Output Shape      </span>┃<span style=\"font-weight: bold\">    Param # </span>┃<span style=\"font-weight: bold\"> Connected to      </span>┃\n",
       "┡━━━━━━━━━━━━━━━━━━━━━╇━━━━━━━━━━━━━━━━━━━╇━━━━━━━━━━━━╇━━━━━━━━━━━━━━━━━━━┩\n",
       "│ input_acc_x         │ (<span style=\"color: #00d7ff; text-decoration-color: #00d7ff\">None</span>, <span style=\"color: #00af00; text-decoration-color: #00af00\">20</span>, <span style=\"color: #00af00; text-decoration-color: #00af00\">1</span>)     │          <span style=\"color: #00af00; text-decoration-color: #00af00\">0</span> │ -                 │\n",
       "│ (<span style=\"color: #0087ff; text-decoration-color: #0087ff\">InputLayer</span>)        │                   │            │                   │\n",
       "├─────────────────────┼───────────────────┼────────────┼───────────────────┤\n",
       "│ input_acc_y         │ (<span style=\"color: #00d7ff; text-decoration-color: #00d7ff\">None</span>, <span style=\"color: #00af00; text-decoration-color: #00af00\">20</span>, <span style=\"color: #00af00; text-decoration-color: #00af00\">1</span>)     │          <span style=\"color: #00af00; text-decoration-color: #00af00\">0</span> │ -                 │\n",
       "│ (<span style=\"color: #0087ff; text-decoration-color: #0087ff\">InputLayer</span>)        │                   │            │                   │\n",
       "├─────────────────────┼───────────────────┼────────────┼───────────────────┤\n",
       "│ input_acc_z         │ (<span style=\"color: #00d7ff; text-decoration-color: #00d7ff\">None</span>, <span style=\"color: #00af00; text-decoration-color: #00af00\">20</span>, <span style=\"color: #00af00; text-decoration-color: #00af00\">1</span>)     │          <span style=\"color: #00af00; text-decoration-color: #00af00\">0</span> │ -                 │\n",
       "│ (<span style=\"color: #0087ff; text-decoration-color: #0087ff\">InputLayer</span>)        │                   │            │                   │\n",
       "├─────────────────────┼───────────────────┼────────────┼───────────────────┤\n",
       "│ input_bvp           │ (<span style=\"color: #00d7ff; text-decoration-color: #00d7ff\">None</span>, <span style=\"color: #00af00; text-decoration-color: #00af00\">20</span>, <span style=\"color: #00af00; text-decoration-color: #00af00\">1</span>)     │          <span style=\"color: #00af00; text-decoration-color: #00af00\">0</span> │ -                 │\n",
       "│ (<span style=\"color: #0087ff; text-decoration-color: #0087ff\">InputLayer</span>)        │                   │            │                   │\n",
       "├─────────────────────┼───────────────────┼────────────┼───────────────────┤\n",
       "│ input_eda           │ (<span style=\"color: #00d7ff; text-decoration-color: #00d7ff\">None</span>, <span style=\"color: #00af00; text-decoration-color: #00af00\">20</span>, <span style=\"color: #00af00; text-decoration-color: #00af00\">1</span>)     │          <span style=\"color: #00af00; text-decoration-color: #00af00\">0</span> │ -                 │\n",
       "│ (<span style=\"color: #0087ff; text-decoration-color: #0087ff\">InputLayer</span>)        │                   │            │                   │\n",
       "├─────────────────────┼───────────────────┼────────────┼───────────────────┤\n",
       "│ input_temp          │ (<span style=\"color: #00d7ff; text-decoration-color: #00d7ff\">None</span>, <span style=\"color: #00af00; text-decoration-color: #00af00\">20</span>, <span style=\"color: #00af00; text-decoration-color: #00af00\">1</span>)     │          <span style=\"color: #00af00; text-decoration-color: #00af00\">0</span> │ -                 │\n",
       "│ (<span style=\"color: #0087ff; text-decoration-color: #0087ff\">InputLayer</span>)        │                   │            │                   │\n",
       "├─────────────────────┼───────────────────┼────────────┼───────────────────┤\n",
       "│ lstm_90 (<span style=\"color: #0087ff; text-decoration-color: #0087ff\">LSTM</span>)      │ (<span style=\"color: #00d7ff; text-decoration-color: #00d7ff\">None</span>, <span style=\"color: #00af00; text-decoration-color: #00af00\">20</span>)        │      <span style=\"color: #00af00; text-decoration-color: #00af00\">1,760</span> │ input_acc_x[<span style=\"color: #00af00; text-decoration-color: #00af00\">0</span>][<span style=\"color: #00af00; text-decoration-color: #00af00\">0</span>] │\n",
       "├─────────────────────┼───────────────────┼────────────┼───────────────────┤\n",
       "│ lstm_91 (<span style=\"color: #0087ff; text-decoration-color: #0087ff\">LSTM</span>)      │ (<span style=\"color: #00d7ff; text-decoration-color: #00d7ff\">None</span>, <span style=\"color: #00af00; text-decoration-color: #00af00\">20</span>)        │      <span style=\"color: #00af00; text-decoration-color: #00af00\">1,760</span> │ input_acc_y[<span style=\"color: #00af00; text-decoration-color: #00af00\">0</span>][<span style=\"color: #00af00; text-decoration-color: #00af00\">0</span>] │\n",
       "├─────────────────────┼───────────────────┼────────────┼───────────────────┤\n",
       "│ lstm_92 (<span style=\"color: #0087ff; text-decoration-color: #0087ff\">LSTM</span>)      │ (<span style=\"color: #00d7ff; text-decoration-color: #00d7ff\">None</span>, <span style=\"color: #00af00; text-decoration-color: #00af00\">20</span>)        │      <span style=\"color: #00af00; text-decoration-color: #00af00\">1,760</span> │ input_acc_z[<span style=\"color: #00af00; text-decoration-color: #00af00\">0</span>][<span style=\"color: #00af00; text-decoration-color: #00af00\">0</span>] │\n",
       "├─────────────────────┼───────────────────┼────────────┼───────────────────┤\n",
       "│ lstm_93 (<span style=\"color: #0087ff; text-decoration-color: #0087ff\">LSTM</span>)      │ (<span style=\"color: #00d7ff; text-decoration-color: #00d7ff\">None</span>, <span style=\"color: #00af00; text-decoration-color: #00af00\">20</span>)        │      <span style=\"color: #00af00; text-decoration-color: #00af00\">1,760</span> │ input_bvp[<span style=\"color: #00af00; text-decoration-color: #00af00\">0</span>][<span style=\"color: #00af00; text-decoration-color: #00af00\">0</span>]   │\n",
       "├─────────────────────┼───────────────────┼────────────┼───────────────────┤\n",
       "│ lstm_94 (<span style=\"color: #0087ff; text-decoration-color: #0087ff\">LSTM</span>)      │ (<span style=\"color: #00d7ff; text-decoration-color: #00d7ff\">None</span>, <span style=\"color: #00af00; text-decoration-color: #00af00\">20</span>)        │      <span style=\"color: #00af00; text-decoration-color: #00af00\">1,760</span> │ input_eda[<span style=\"color: #00af00; text-decoration-color: #00af00\">0</span>][<span style=\"color: #00af00; text-decoration-color: #00af00\">0</span>]   │\n",
       "├─────────────────────┼───────────────────┼────────────┼───────────────────┤\n",
       "│ lstm_95 (<span style=\"color: #0087ff; text-decoration-color: #0087ff\">LSTM</span>)      │ (<span style=\"color: #00d7ff; text-decoration-color: #00d7ff\">None</span>, <span style=\"color: #00af00; text-decoration-color: #00af00\">20</span>)        │      <span style=\"color: #00af00; text-decoration-color: #00af00\">1,760</span> │ input_temp[<span style=\"color: #00af00; text-decoration-color: #00af00\">0</span>][<span style=\"color: #00af00; text-decoration-color: #00af00\">0</span>]  │\n",
       "├─────────────────────┼───────────────────┼────────────┼───────────────────┤\n",
       "│ concatenate_16      │ (<span style=\"color: #00d7ff; text-decoration-color: #00d7ff\">None</span>, <span style=\"color: #00af00; text-decoration-color: #00af00\">120</span>)       │          <span style=\"color: #00af00; text-decoration-color: #00af00\">0</span> │ lstm_90[<span style=\"color: #00af00; text-decoration-color: #00af00\">0</span>][<span style=\"color: #00af00; text-decoration-color: #00af00\">0</span>],    │\n",
       "│ (<span style=\"color: #0087ff; text-decoration-color: #0087ff\">Concatenate</span>)       │                   │            │ lstm_91[<span style=\"color: #00af00; text-decoration-color: #00af00\">0</span>][<span style=\"color: #00af00; text-decoration-color: #00af00\">0</span>],    │\n",
       "│                     │                   │            │ lstm_92[<span style=\"color: #00af00; text-decoration-color: #00af00\">0</span>][<span style=\"color: #00af00; text-decoration-color: #00af00\">0</span>],    │\n",
       "│                     │                   │            │ lstm_93[<span style=\"color: #00af00; text-decoration-color: #00af00\">0</span>][<span style=\"color: #00af00; text-decoration-color: #00af00\">0</span>],    │\n",
       "│                     │                   │            │ lstm_94[<span style=\"color: #00af00; text-decoration-color: #00af00\">0</span>][<span style=\"color: #00af00; text-decoration-color: #00af00\">0</span>],    │\n",
       "│                     │                   │            │ lstm_95[<span style=\"color: #00af00; text-decoration-color: #00af00\">0</span>][<span style=\"color: #00af00; text-decoration-color: #00af00\">0</span>]     │\n",
       "├─────────────────────┼───────────────────┼────────────┼───────────────────┤\n",
       "│ dense_32 (<span style=\"color: #0087ff; text-decoration-color: #0087ff\">Dense</span>)    │ (<span style=\"color: #00d7ff; text-decoration-color: #00d7ff\">None</span>, <span style=\"color: #00af00; text-decoration-color: #00af00\">60</span>)        │      <span style=\"color: #00af00; text-decoration-color: #00af00\">7,260</span> │ concatenate_16[<span style=\"color: #00af00; text-decoration-color: #00af00\">0</span>… │\n",
       "├─────────────────────┼───────────────────┼────────────┼───────────────────┤\n",
       "│ dense_33 (<span style=\"color: #0087ff; text-decoration-color: #0087ff\">Dense</span>)    │ (<span style=\"color: #00d7ff; text-decoration-color: #00d7ff\">None</span>, <span style=\"color: #00af00; text-decoration-color: #00af00\">1</span>)         │         <span style=\"color: #00af00; text-decoration-color: #00af00\">61</span> │ dense_32[<span style=\"color: #00af00; text-decoration-color: #00af00\">0</span>][<span style=\"color: #00af00; text-decoration-color: #00af00\">0</span>]    │\n",
       "└─────────────────────┴───────────────────┴────────────┴───────────────────┘\n",
       "</pre>\n"
      ],
      "text/plain": [
       "┏━━━━━━━━━━━━━━━━━━━━━┳━━━━━━━━━━━━━━━━━━━┳━━━━━━━━━━━━┳━━━━━━━━━━━━━━━━━━━┓\n",
       "┃\u001b[1m \u001b[0m\u001b[1mLayer (type)       \u001b[0m\u001b[1m \u001b[0m┃\u001b[1m \u001b[0m\u001b[1mOutput Shape     \u001b[0m\u001b[1m \u001b[0m┃\u001b[1m \u001b[0m\u001b[1m   Param #\u001b[0m\u001b[1m \u001b[0m┃\u001b[1m \u001b[0m\u001b[1mConnected to     \u001b[0m\u001b[1m \u001b[0m┃\n",
       "┡━━━━━━━━━━━━━━━━━━━━━╇━━━━━━━━━━━━━━━━━━━╇━━━━━━━━━━━━╇━━━━━━━━━━━━━━━━━━━┩\n",
       "│ input_acc_x         │ (\u001b[38;5;45mNone\u001b[0m, \u001b[38;5;34m20\u001b[0m, \u001b[38;5;34m1\u001b[0m)     │          \u001b[38;5;34m0\u001b[0m │ -                 │\n",
       "│ (\u001b[38;5;33mInputLayer\u001b[0m)        │                   │            │                   │\n",
       "├─────────────────────┼───────────────────┼────────────┼───────────────────┤\n",
       "│ input_acc_y         │ (\u001b[38;5;45mNone\u001b[0m, \u001b[38;5;34m20\u001b[0m, \u001b[38;5;34m1\u001b[0m)     │          \u001b[38;5;34m0\u001b[0m │ -                 │\n",
       "│ (\u001b[38;5;33mInputLayer\u001b[0m)        │                   │            │                   │\n",
       "├─────────────────────┼───────────────────┼────────────┼───────────────────┤\n",
       "│ input_acc_z         │ (\u001b[38;5;45mNone\u001b[0m, \u001b[38;5;34m20\u001b[0m, \u001b[38;5;34m1\u001b[0m)     │          \u001b[38;5;34m0\u001b[0m │ -                 │\n",
       "│ (\u001b[38;5;33mInputLayer\u001b[0m)        │                   │            │                   │\n",
       "├─────────────────────┼───────────────────┼────────────┼───────────────────┤\n",
       "│ input_bvp           │ (\u001b[38;5;45mNone\u001b[0m, \u001b[38;5;34m20\u001b[0m, \u001b[38;5;34m1\u001b[0m)     │          \u001b[38;5;34m0\u001b[0m │ -                 │\n",
       "│ (\u001b[38;5;33mInputLayer\u001b[0m)        │                   │            │                   │\n",
       "├─────────────────────┼───────────────────┼────────────┼───────────────────┤\n",
       "│ input_eda           │ (\u001b[38;5;45mNone\u001b[0m, \u001b[38;5;34m20\u001b[0m, \u001b[38;5;34m1\u001b[0m)     │          \u001b[38;5;34m0\u001b[0m │ -                 │\n",
       "│ (\u001b[38;5;33mInputLayer\u001b[0m)        │                   │            │                   │\n",
       "├─────────────────────┼───────────────────┼────────────┼───────────────────┤\n",
       "│ input_temp          │ (\u001b[38;5;45mNone\u001b[0m, \u001b[38;5;34m20\u001b[0m, \u001b[38;5;34m1\u001b[0m)     │          \u001b[38;5;34m0\u001b[0m │ -                 │\n",
       "│ (\u001b[38;5;33mInputLayer\u001b[0m)        │                   │            │                   │\n",
       "├─────────────────────┼───────────────────┼────────────┼───────────────────┤\n",
       "│ lstm_90 (\u001b[38;5;33mLSTM\u001b[0m)      │ (\u001b[38;5;45mNone\u001b[0m, \u001b[38;5;34m20\u001b[0m)        │      \u001b[38;5;34m1,760\u001b[0m │ input_acc_x[\u001b[38;5;34m0\u001b[0m][\u001b[38;5;34m0\u001b[0m] │\n",
       "├─────────────────────┼───────────────────┼────────────┼───────────────────┤\n",
       "│ lstm_91 (\u001b[38;5;33mLSTM\u001b[0m)      │ (\u001b[38;5;45mNone\u001b[0m, \u001b[38;5;34m20\u001b[0m)        │      \u001b[38;5;34m1,760\u001b[0m │ input_acc_y[\u001b[38;5;34m0\u001b[0m][\u001b[38;5;34m0\u001b[0m] │\n",
       "├─────────────────────┼───────────────────┼────────────┼───────────────────┤\n",
       "│ lstm_92 (\u001b[38;5;33mLSTM\u001b[0m)      │ (\u001b[38;5;45mNone\u001b[0m, \u001b[38;5;34m20\u001b[0m)        │      \u001b[38;5;34m1,760\u001b[0m │ input_acc_z[\u001b[38;5;34m0\u001b[0m][\u001b[38;5;34m0\u001b[0m] │\n",
       "├─────────────────────┼───────────────────┼────────────┼───────────────────┤\n",
       "│ lstm_93 (\u001b[38;5;33mLSTM\u001b[0m)      │ (\u001b[38;5;45mNone\u001b[0m, \u001b[38;5;34m20\u001b[0m)        │      \u001b[38;5;34m1,760\u001b[0m │ input_bvp[\u001b[38;5;34m0\u001b[0m][\u001b[38;5;34m0\u001b[0m]   │\n",
       "├─────────────────────┼───────────────────┼────────────┼───────────────────┤\n",
       "│ lstm_94 (\u001b[38;5;33mLSTM\u001b[0m)      │ (\u001b[38;5;45mNone\u001b[0m, \u001b[38;5;34m20\u001b[0m)        │      \u001b[38;5;34m1,760\u001b[0m │ input_eda[\u001b[38;5;34m0\u001b[0m][\u001b[38;5;34m0\u001b[0m]   │\n",
       "├─────────────────────┼───────────────────┼────────────┼───────────────────┤\n",
       "│ lstm_95 (\u001b[38;5;33mLSTM\u001b[0m)      │ (\u001b[38;5;45mNone\u001b[0m, \u001b[38;5;34m20\u001b[0m)        │      \u001b[38;5;34m1,760\u001b[0m │ input_temp[\u001b[38;5;34m0\u001b[0m][\u001b[38;5;34m0\u001b[0m]  │\n",
       "├─────────────────────┼───────────────────┼────────────┼───────────────────┤\n",
       "│ concatenate_16      │ (\u001b[38;5;45mNone\u001b[0m, \u001b[38;5;34m120\u001b[0m)       │          \u001b[38;5;34m0\u001b[0m │ lstm_90[\u001b[38;5;34m0\u001b[0m][\u001b[38;5;34m0\u001b[0m],    │\n",
       "│ (\u001b[38;5;33mConcatenate\u001b[0m)       │                   │            │ lstm_91[\u001b[38;5;34m0\u001b[0m][\u001b[38;5;34m0\u001b[0m],    │\n",
       "│                     │                   │            │ lstm_92[\u001b[38;5;34m0\u001b[0m][\u001b[38;5;34m0\u001b[0m],    │\n",
       "│                     │                   │            │ lstm_93[\u001b[38;5;34m0\u001b[0m][\u001b[38;5;34m0\u001b[0m],    │\n",
       "│                     │                   │            │ lstm_94[\u001b[38;5;34m0\u001b[0m][\u001b[38;5;34m0\u001b[0m],    │\n",
       "│                     │                   │            │ lstm_95[\u001b[38;5;34m0\u001b[0m][\u001b[38;5;34m0\u001b[0m]     │\n",
       "├─────────────────────┼───────────────────┼────────────┼───────────────────┤\n",
       "│ dense_32 (\u001b[38;5;33mDense\u001b[0m)    │ (\u001b[38;5;45mNone\u001b[0m, \u001b[38;5;34m60\u001b[0m)        │      \u001b[38;5;34m7,260\u001b[0m │ concatenate_16[\u001b[38;5;34m0\u001b[0m… │\n",
       "├─────────────────────┼───────────────────┼────────────┼───────────────────┤\n",
       "│ dense_33 (\u001b[38;5;33mDense\u001b[0m)    │ (\u001b[38;5;45mNone\u001b[0m, \u001b[38;5;34m1\u001b[0m)         │         \u001b[38;5;34m61\u001b[0m │ dense_32[\u001b[38;5;34m0\u001b[0m][\u001b[38;5;34m0\u001b[0m]    │\n",
       "└─────────────────────┴───────────────────┴────────────┴───────────────────┘\n"
      ]
     },
     "metadata": {},
     "output_type": "display_data"
    },
    {
     "data": {
      "text/html": [
       "<pre style=\"white-space:pre;overflow-x:auto;line-height:normal;font-family:Menlo,'DejaVu Sans Mono',consolas,'Courier New',monospace\"><span style=\"font-weight: bold\"> Total params: </span><span style=\"color: #00af00; text-decoration-color: #00af00\">17,881</span> (69.85 KB)\n",
       "</pre>\n"
      ],
      "text/plain": [
       "\u001b[1m Total params: \u001b[0m\u001b[38;5;34m17,881\u001b[0m (69.85 KB)\n"
      ]
     },
     "metadata": {},
     "output_type": "display_data"
    },
    {
     "data": {
      "text/html": [
       "<pre style=\"white-space:pre;overflow-x:auto;line-height:normal;font-family:Menlo,'DejaVu Sans Mono',consolas,'Courier New',monospace\"><span style=\"font-weight: bold\"> Trainable params: </span><span style=\"color: #00af00; text-decoration-color: #00af00\">17,881</span> (69.85 KB)\n",
       "</pre>\n"
      ],
      "text/plain": [
       "\u001b[1m Trainable params: \u001b[0m\u001b[38;5;34m17,881\u001b[0m (69.85 KB)\n"
      ]
     },
     "metadata": {},
     "output_type": "display_data"
    },
    {
     "data": {
      "text/html": [
       "<pre style=\"white-space:pre;overflow-x:auto;line-height:normal;font-family:Menlo,'DejaVu Sans Mono',consolas,'Courier New',monospace\"><span style=\"font-weight: bold\"> Non-trainable params: </span><span style=\"color: #00af00; text-decoration-color: #00af00\">0</span> (0.00 B)\n",
       "</pre>\n"
      ],
      "text/plain": [
       "\u001b[1m Non-trainable params: \u001b[0m\u001b[38;5;34m0\u001b[0m (0.00 B)\n"
      ]
     },
     "metadata": {},
     "output_type": "display_data"
    },
    {
     "name": "stdout",
     "output_type": "stream",
     "text": [
      "Shape of train_inputs: 6, (3693, 20, 1)\n",
      "Length of train_labels: 3693\n",
      "Class weights: {0: 0.5910691421254801, 1: 3.2451669595782073}\n",
      "Epoch 1/10\n"
     ]
    },
    {
     "name": "stderr",
     "output_type": "stream",
     "text": [
      "C:\\Users\\Irimieş Vasile\\AppData\\Local\\Temp\\ipykernel_18884\\2136188881.py:26: FutureWarning: Downcasting behavior in `replace` is deprecated and will be removed in a future version. To retain the old behavior, explicitly call `result.infer_objects(copy=False)`. To opt-in to the future behavior, set `pd.set_option('future.no_silent_downcasting', True)`\n",
      "  train_labels = train_set['label'].replace({'baseline': 0, 'stress': 1}).values[:len(train_inputs[0])]  # Convert to numpy array\n",
      "c:\\Python310\\lib\\site-packages\\keras\\src\\models\\functional.py:225: UserWarning: The structure of `inputs` doesn't match the expected structure: ['input_acc_x', 'input_acc_y', 'input_acc_z', 'input_bvp', 'input_eda', 'input_temp']. Received: the structure of inputs=('*', '*', '*', '*', '*', '*')\n",
      "  warnings.warn(\n"
     ]
    },
    {
     "name": "stdout",
     "output_type": "stream",
     "text": [
      "\u001b[1m116/116\u001b[0m \u001b[32m━━━━━━━━━━━━━━━━━━━━\u001b[0m\u001b[37m\u001b[0m \u001b[1m9s\u001b[0m 22ms/step - accuracy: 0.5237 - loss: 0.6973\n",
      "Epoch 2/10\n",
      "\u001b[1m116/116\u001b[0m \u001b[32m━━━━━━━━━━━━━━━━━━━━\u001b[0m\u001b[37m\u001b[0m \u001b[1m3s\u001b[0m 23ms/step - accuracy: 0.6153 - loss: 0.6948\n",
      "Epoch 3/10\n",
      "\u001b[1m116/116\u001b[0m \u001b[32m━━━━━━━━━━━━━━━━━━━━\u001b[0m\u001b[37m\u001b[0m \u001b[1m3s\u001b[0m 22ms/step - accuracy: 0.5108 - loss: 0.7048\n",
      "Epoch 4/10\n",
      "\u001b[1m116/116\u001b[0m \u001b[32m━━━━━━━━━━━━━━━━━━━━\u001b[0m\u001b[37m\u001b[0m \u001b[1m3s\u001b[0m 23ms/step - accuracy: 0.5997 - loss: 0.6877\n",
      "Epoch 5/10\n",
      "\u001b[1m116/116\u001b[0m \u001b[32m━━━━━━━━━━━━━━━━━━━━\u001b[0m\u001b[37m\u001b[0m \u001b[1m3s\u001b[0m 22ms/step - accuracy: 0.6298 - loss: 0.6823\n",
      "Epoch 6/10\n",
      "\u001b[1m116/116\u001b[0m \u001b[32m━━━━━━━━━━━━━━━━━━━━\u001b[0m\u001b[37m\u001b[0m \u001b[1m3s\u001b[0m 23ms/step - accuracy: 0.6175 - loss: 0.6863\n",
      "Epoch 7/10\n",
      "\u001b[1m116/116\u001b[0m \u001b[32m━━━━━━━━━━━━━━━━━━━━\u001b[0m\u001b[37m\u001b[0m \u001b[1m3s\u001b[0m 27ms/step - accuracy: 0.4447 - loss: 0.6902\n",
      "Epoch 8/10\n",
      "\u001b[1m116/116\u001b[0m \u001b[32m━━━━━━━━━━━━━━━━━━━━\u001b[0m\u001b[37m\u001b[0m \u001b[1m3s\u001b[0m 25ms/step - accuracy: 0.6166 - loss: 0.6974\n",
      "Epoch 9/10\n",
      "\u001b[1m116/116\u001b[0m \u001b[32m━━━━━━━━━━━━━━━━━━━━\u001b[0m\u001b[37m\u001b[0m \u001b[1m3s\u001b[0m 25ms/step - accuracy: 0.6177 - loss: 0.6861\n",
      "Epoch 10/10\n",
      "\u001b[1m116/116\u001b[0m \u001b[32m━━━━━━━━━━━━━━━━━━━━\u001b[0m\u001b[37m\u001b[0m \u001b[1m3s\u001b[0m 28ms/step - accuracy: 0.6200 - loss: 0.6974\n",
      "Model trained in : 35.05873107910156 seconds\n"
     ]
    },
    {
     "name": "stderr",
     "output_type": "stream",
     "text": [
      "C:\\Users\\Irimieş Vasile\\AppData\\Local\\Temp\\ipykernel_18884\\2136188881.py:61: FutureWarning: Downcasting behavior in `replace` is deprecated and will be removed in a future version. To retain the old behavior, explicitly call `result.infer_objects(copy=False)`. To opt-in to the future behavior, set `pd.set_option('future.no_silent_downcasting', True)`\n",
      "  test_labels = test_set['label'].replace({'baseline': 0, 'stress': 1}).values[:len(test_inputs[0])]\n"
     ]
    },
    {
     "name": "stdout",
     "output_type": "stream",
     "text": [
      "\u001b[1m50/50\u001b[0m \u001b[32m━━━━━━━━━━━━━━━━━━━━\u001b[0m\u001b[37m\u001b[0m \u001b[1m2s\u001b[0m 27ms/step\n",
      "        Actual Predicted\n",
      "0     baseline    stress\n",
      "1       stress  baseline\n",
      "2       stress    stress\n",
      "3       stress  baseline\n",
      "4     baseline  baseline\n",
      "...        ...       ...\n",
      "1578    stress  baseline\n",
      "1579    stress    stress\n",
      "1580    stress  baseline\n",
      "1581  baseline  baseline\n",
      "1582  baseline    stress\n",
      "\n",
      "[1583 rows x 2 columns]\n",
      "\n",
      "Accuracy: 0.5293746051800379\n",
      "Precision: 0.4207650273224044\n",
      "Recall: 0.35106382978723405\n"
     ]
    }
   ],
   "source": [
    "testModel(dataset, 0.3,20,1,60,10)"
   ]
  },
  {
   "cell_type": "markdown",
   "metadata": {},
   "source": [
    "Dataset: toti subjects\n",
    "\n",
    "Numarul de consecutive timeline: 20\n",
    "\n",
    "Numarul de neuroni: 60\n",
    "\n",
    "Epoci: 10"
   ]
  },
  {
   "cell_type": "code",
   "execution_count": 66,
   "metadata": {},
   "outputs": [
    {
     "name": "stdout",
     "output_type": "stream",
     "text": [
      "label\n",
      "baseline    47992\n",
      "stress      25886\n",
      "Name: count, dtype: int64\n",
      "label\n",
      "baseline    20648\n",
      "stress      11014\n",
      "Name: count, dtype: int64\n"
     ]
    },
    {
     "data": {
      "text/html": [
       "<pre style=\"white-space:pre;overflow-x:auto;line-height:normal;font-family:Menlo,'DejaVu Sans Mono',consolas,'Courier New',monospace\"><span style=\"font-weight: bold\">Model: \"functional_19\"</span>\n",
       "</pre>\n"
      ],
      "text/plain": [
       "\u001b[1mModel: \"functional_19\"\u001b[0m\n"
      ]
     },
     "metadata": {},
     "output_type": "display_data"
    },
    {
     "data": {
      "text/html": [
       "<pre style=\"white-space:pre;overflow-x:auto;line-height:normal;font-family:Menlo,'DejaVu Sans Mono',consolas,'Courier New',monospace\">┏━━━━━━━━━━━━━━━━━━━━━┳━━━━━━━━━━━━━━━━━━━┳━━━━━━━━━━━━┳━━━━━━━━━━━━━━━━━━━┓\n",
       "┃<span style=\"font-weight: bold\"> Layer (type)        </span>┃<span style=\"font-weight: bold\"> Output Shape      </span>┃<span style=\"font-weight: bold\">    Param # </span>┃<span style=\"font-weight: bold\"> Connected to      </span>┃\n",
       "┡━━━━━━━━━━━━━━━━━━━━━╇━━━━━━━━━━━━━━━━━━━╇━━━━━━━━━━━━╇━━━━━━━━━━━━━━━━━━━┩\n",
       "│ input_acc_x         │ (<span style=\"color: #00d7ff; text-decoration-color: #00d7ff\">None</span>, <span style=\"color: #00af00; text-decoration-color: #00af00\">15</span>, <span style=\"color: #00af00; text-decoration-color: #00af00\">1</span>)     │          <span style=\"color: #00af00; text-decoration-color: #00af00\">0</span> │ -                 │\n",
       "│ (<span style=\"color: #0087ff; text-decoration-color: #0087ff\">InputLayer</span>)        │                   │            │                   │\n",
       "├─────────────────────┼───────────────────┼────────────┼───────────────────┤\n",
       "│ input_acc_y         │ (<span style=\"color: #00d7ff; text-decoration-color: #00d7ff\">None</span>, <span style=\"color: #00af00; text-decoration-color: #00af00\">15</span>, <span style=\"color: #00af00; text-decoration-color: #00af00\">1</span>)     │          <span style=\"color: #00af00; text-decoration-color: #00af00\">0</span> │ -                 │\n",
       "│ (<span style=\"color: #0087ff; text-decoration-color: #0087ff\">InputLayer</span>)        │                   │            │                   │\n",
       "├─────────────────────┼───────────────────┼────────────┼───────────────────┤\n",
       "│ input_acc_z         │ (<span style=\"color: #00d7ff; text-decoration-color: #00d7ff\">None</span>, <span style=\"color: #00af00; text-decoration-color: #00af00\">15</span>, <span style=\"color: #00af00; text-decoration-color: #00af00\">1</span>)     │          <span style=\"color: #00af00; text-decoration-color: #00af00\">0</span> │ -                 │\n",
       "│ (<span style=\"color: #0087ff; text-decoration-color: #0087ff\">InputLayer</span>)        │                   │            │                   │\n",
       "├─────────────────────┼───────────────────┼────────────┼───────────────────┤\n",
       "│ input_bvp           │ (<span style=\"color: #00d7ff; text-decoration-color: #00d7ff\">None</span>, <span style=\"color: #00af00; text-decoration-color: #00af00\">15</span>, <span style=\"color: #00af00; text-decoration-color: #00af00\">1</span>)     │          <span style=\"color: #00af00; text-decoration-color: #00af00\">0</span> │ -                 │\n",
       "│ (<span style=\"color: #0087ff; text-decoration-color: #0087ff\">InputLayer</span>)        │                   │            │                   │\n",
       "├─────────────────────┼───────────────────┼────────────┼───────────────────┤\n",
       "│ input_eda           │ (<span style=\"color: #00d7ff; text-decoration-color: #00d7ff\">None</span>, <span style=\"color: #00af00; text-decoration-color: #00af00\">15</span>, <span style=\"color: #00af00; text-decoration-color: #00af00\">1</span>)     │          <span style=\"color: #00af00; text-decoration-color: #00af00\">0</span> │ -                 │\n",
       "│ (<span style=\"color: #0087ff; text-decoration-color: #0087ff\">InputLayer</span>)        │                   │            │                   │\n",
       "├─────────────────────┼───────────────────┼────────────┼───────────────────┤\n",
       "│ input_temp          │ (<span style=\"color: #00d7ff; text-decoration-color: #00d7ff\">None</span>, <span style=\"color: #00af00; text-decoration-color: #00af00\">15</span>, <span style=\"color: #00af00; text-decoration-color: #00af00\">1</span>)     │          <span style=\"color: #00af00; text-decoration-color: #00af00\">0</span> │ -                 │\n",
       "│ (<span style=\"color: #0087ff; text-decoration-color: #0087ff\">InputLayer</span>)        │                   │            │                   │\n",
       "├─────────────────────┼───────────────────┼────────────┼───────────────────┤\n",
       "│ lstm_108 (<span style=\"color: #0087ff; text-decoration-color: #0087ff\">LSTM</span>)     │ (<span style=\"color: #00d7ff; text-decoration-color: #00d7ff\">None</span>, <span style=\"color: #00af00; text-decoration-color: #00af00\">15</span>)        │      <span style=\"color: #00af00; text-decoration-color: #00af00\">1,020</span> │ input_acc_x[<span style=\"color: #00af00; text-decoration-color: #00af00\">0</span>][<span style=\"color: #00af00; text-decoration-color: #00af00\">0</span>] │\n",
       "├─────────────────────┼───────────────────┼────────────┼───────────────────┤\n",
       "│ lstm_109 (<span style=\"color: #0087ff; text-decoration-color: #0087ff\">LSTM</span>)     │ (<span style=\"color: #00d7ff; text-decoration-color: #00d7ff\">None</span>, <span style=\"color: #00af00; text-decoration-color: #00af00\">15</span>)        │      <span style=\"color: #00af00; text-decoration-color: #00af00\">1,020</span> │ input_acc_y[<span style=\"color: #00af00; text-decoration-color: #00af00\">0</span>][<span style=\"color: #00af00; text-decoration-color: #00af00\">0</span>] │\n",
       "├─────────────────────┼───────────────────┼────────────┼───────────────────┤\n",
       "│ lstm_110 (<span style=\"color: #0087ff; text-decoration-color: #0087ff\">LSTM</span>)     │ (<span style=\"color: #00d7ff; text-decoration-color: #00d7ff\">None</span>, <span style=\"color: #00af00; text-decoration-color: #00af00\">15</span>)        │      <span style=\"color: #00af00; text-decoration-color: #00af00\">1,020</span> │ input_acc_z[<span style=\"color: #00af00; text-decoration-color: #00af00\">0</span>][<span style=\"color: #00af00; text-decoration-color: #00af00\">0</span>] │\n",
       "├─────────────────────┼───────────────────┼────────────┼───────────────────┤\n",
       "│ lstm_111 (<span style=\"color: #0087ff; text-decoration-color: #0087ff\">LSTM</span>)     │ (<span style=\"color: #00d7ff; text-decoration-color: #00d7ff\">None</span>, <span style=\"color: #00af00; text-decoration-color: #00af00\">15</span>)        │      <span style=\"color: #00af00; text-decoration-color: #00af00\">1,020</span> │ input_bvp[<span style=\"color: #00af00; text-decoration-color: #00af00\">0</span>][<span style=\"color: #00af00; text-decoration-color: #00af00\">0</span>]   │\n",
       "├─────────────────────┼───────────────────┼────────────┼───────────────────┤\n",
       "│ lstm_112 (<span style=\"color: #0087ff; text-decoration-color: #0087ff\">LSTM</span>)     │ (<span style=\"color: #00d7ff; text-decoration-color: #00d7ff\">None</span>, <span style=\"color: #00af00; text-decoration-color: #00af00\">15</span>)        │      <span style=\"color: #00af00; text-decoration-color: #00af00\">1,020</span> │ input_eda[<span style=\"color: #00af00; text-decoration-color: #00af00\">0</span>][<span style=\"color: #00af00; text-decoration-color: #00af00\">0</span>]   │\n",
       "├─────────────────────┼───────────────────┼────────────┼───────────────────┤\n",
       "│ lstm_113 (<span style=\"color: #0087ff; text-decoration-color: #0087ff\">LSTM</span>)     │ (<span style=\"color: #00d7ff; text-decoration-color: #00d7ff\">None</span>, <span style=\"color: #00af00; text-decoration-color: #00af00\">15</span>)        │      <span style=\"color: #00af00; text-decoration-color: #00af00\">1,020</span> │ input_temp[<span style=\"color: #00af00; text-decoration-color: #00af00\">0</span>][<span style=\"color: #00af00; text-decoration-color: #00af00\">0</span>]  │\n",
       "├─────────────────────┼───────────────────┼────────────┼───────────────────┤\n",
       "│ concatenate_19      │ (<span style=\"color: #00d7ff; text-decoration-color: #00d7ff\">None</span>, <span style=\"color: #00af00; text-decoration-color: #00af00\">90</span>)        │          <span style=\"color: #00af00; text-decoration-color: #00af00\">0</span> │ lstm_108[<span style=\"color: #00af00; text-decoration-color: #00af00\">0</span>][<span style=\"color: #00af00; text-decoration-color: #00af00\">0</span>],   │\n",
       "│ (<span style=\"color: #0087ff; text-decoration-color: #0087ff\">Concatenate</span>)       │                   │            │ lstm_109[<span style=\"color: #00af00; text-decoration-color: #00af00\">0</span>][<span style=\"color: #00af00; text-decoration-color: #00af00\">0</span>],   │\n",
       "│                     │                   │            │ lstm_110[<span style=\"color: #00af00; text-decoration-color: #00af00\">0</span>][<span style=\"color: #00af00; text-decoration-color: #00af00\">0</span>],   │\n",
       "│                     │                   │            │ lstm_111[<span style=\"color: #00af00; text-decoration-color: #00af00\">0</span>][<span style=\"color: #00af00; text-decoration-color: #00af00\">0</span>],   │\n",
       "│                     │                   │            │ lstm_112[<span style=\"color: #00af00; text-decoration-color: #00af00\">0</span>][<span style=\"color: #00af00; text-decoration-color: #00af00\">0</span>],   │\n",
       "│                     │                   │            │ lstm_113[<span style=\"color: #00af00; text-decoration-color: #00af00\">0</span>][<span style=\"color: #00af00; text-decoration-color: #00af00\">0</span>]    │\n",
       "├─────────────────────┼───────────────────┼────────────┼───────────────────┤\n",
       "│ dense_38 (<span style=\"color: #0087ff; text-decoration-color: #0087ff\">Dense</span>)    │ (<span style=\"color: #00d7ff; text-decoration-color: #00d7ff\">None</span>, <span style=\"color: #00af00; text-decoration-color: #00af00\">145</span>)       │     <span style=\"color: #00af00; text-decoration-color: #00af00\">13,195</span> │ concatenate_19[<span style=\"color: #00af00; text-decoration-color: #00af00\">0</span>… │\n",
       "├─────────────────────┼───────────────────┼────────────┼───────────────────┤\n",
       "│ dense_39 (<span style=\"color: #0087ff; text-decoration-color: #0087ff\">Dense</span>)    │ (<span style=\"color: #00d7ff; text-decoration-color: #00d7ff\">None</span>, <span style=\"color: #00af00; text-decoration-color: #00af00\">1</span>)         │        <span style=\"color: #00af00; text-decoration-color: #00af00\">146</span> │ dense_38[<span style=\"color: #00af00; text-decoration-color: #00af00\">0</span>][<span style=\"color: #00af00; text-decoration-color: #00af00\">0</span>]    │\n",
       "└─────────────────────┴───────────────────┴────────────┴───────────────────┘\n",
       "</pre>\n"
      ],
      "text/plain": [
       "┏━━━━━━━━━━━━━━━━━━━━━┳━━━━━━━━━━━━━━━━━━━┳━━━━━━━━━━━━┳━━━━━━━━━━━━━━━━━━━┓\n",
       "┃\u001b[1m \u001b[0m\u001b[1mLayer (type)       \u001b[0m\u001b[1m \u001b[0m┃\u001b[1m \u001b[0m\u001b[1mOutput Shape     \u001b[0m\u001b[1m \u001b[0m┃\u001b[1m \u001b[0m\u001b[1m   Param #\u001b[0m\u001b[1m \u001b[0m┃\u001b[1m \u001b[0m\u001b[1mConnected to     \u001b[0m\u001b[1m \u001b[0m┃\n",
       "┡━━━━━━━━━━━━━━━━━━━━━╇━━━━━━━━━━━━━━━━━━━╇━━━━━━━━━━━━╇━━━━━━━━━━━━━━━━━━━┩\n",
       "│ input_acc_x         │ (\u001b[38;5;45mNone\u001b[0m, \u001b[38;5;34m15\u001b[0m, \u001b[38;5;34m1\u001b[0m)     │          \u001b[38;5;34m0\u001b[0m │ -                 │\n",
       "│ (\u001b[38;5;33mInputLayer\u001b[0m)        │                   │            │                   │\n",
       "├─────────────────────┼───────────────────┼────────────┼───────────────────┤\n",
       "│ input_acc_y         │ (\u001b[38;5;45mNone\u001b[0m, \u001b[38;5;34m15\u001b[0m, \u001b[38;5;34m1\u001b[0m)     │          \u001b[38;5;34m0\u001b[0m │ -                 │\n",
       "│ (\u001b[38;5;33mInputLayer\u001b[0m)        │                   │            │                   │\n",
       "├─────────────────────┼───────────────────┼────────────┼───────────────────┤\n",
       "│ input_acc_z         │ (\u001b[38;5;45mNone\u001b[0m, \u001b[38;5;34m15\u001b[0m, \u001b[38;5;34m1\u001b[0m)     │          \u001b[38;5;34m0\u001b[0m │ -                 │\n",
       "│ (\u001b[38;5;33mInputLayer\u001b[0m)        │                   │            │                   │\n",
       "├─────────────────────┼───────────────────┼────────────┼───────────────────┤\n",
       "│ input_bvp           │ (\u001b[38;5;45mNone\u001b[0m, \u001b[38;5;34m15\u001b[0m, \u001b[38;5;34m1\u001b[0m)     │          \u001b[38;5;34m0\u001b[0m │ -                 │\n",
       "│ (\u001b[38;5;33mInputLayer\u001b[0m)        │                   │            │                   │\n",
       "├─────────────────────┼───────────────────┼────────────┼───────────────────┤\n",
       "│ input_eda           │ (\u001b[38;5;45mNone\u001b[0m, \u001b[38;5;34m15\u001b[0m, \u001b[38;5;34m1\u001b[0m)     │          \u001b[38;5;34m0\u001b[0m │ -                 │\n",
       "│ (\u001b[38;5;33mInputLayer\u001b[0m)        │                   │            │                   │\n",
       "├─────────────────────┼───────────────────┼────────────┼───────────────────┤\n",
       "│ input_temp          │ (\u001b[38;5;45mNone\u001b[0m, \u001b[38;5;34m15\u001b[0m, \u001b[38;5;34m1\u001b[0m)     │          \u001b[38;5;34m0\u001b[0m │ -                 │\n",
       "│ (\u001b[38;5;33mInputLayer\u001b[0m)        │                   │            │                   │\n",
       "├─────────────────────┼───────────────────┼────────────┼───────────────────┤\n",
       "│ lstm_108 (\u001b[38;5;33mLSTM\u001b[0m)     │ (\u001b[38;5;45mNone\u001b[0m, \u001b[38;5;34m15\u001b[0m)        │      \u001b[38;5;34m1,020\u001b[0m │ input_acc_x[\u001b[38;5;34m0\u001b[0m][\u001b[38;5;34m0\u001b[0m] │\n",
       "├─────────────────────┼───────────────────┼────────────┼───────────────────┤\n",
       "│ lstm_109 (\u001b[38;5;33mLSTM\u001b[0m)     │ (\u001b[38;5;45mNone\u001b[0m, \u001b[38;5;34m15\u001b[0m)        │      \u001b[38;5;34m1,020\u001b[0m │ input_acc_y[\u001b[38;5;34m0\u001b[0m][\u001b[38;5;34m0\u001b[0m] │\n",
       "├─────────────────────┼───────────────────┼────────────┼───────────────────┤\n",
       "│ lstm_110 (\u001b[38;5;33mLSTM\u001b[0m)     │ (\u001b[38;5;45mNone\u001b[0m, \u001b[38;5;34m15\u001b[0m)        │      \u001b[38;5;34m1,020\u001b[0m │ input_acc_z[\u001b[38;5;34m0\u001b[0m][\u001b[38;5;34m0\u001b[0m] │\n",
       "├─────────────────────┼───────────────────┼────────────┼───────────────────┤\n",
       "│ lstm_111 (\u001b[38;5;33mLSTM\u001b[0m)     │ (\u001b[38;5;45mNone\u001b[0m, \u001b[38;5;34m15\u001b[0m)        │      \u001b[38;5;34m1,020\u001b[0m │ input_bvp[\u001b[38;5;34m0\u001b[0m][\u001b[38;5;34m0\u001b[0m]   │\n",
       "├─────────────────────┼───────────────────┼────────────┼───────────────────┤\n",
       "│ lstm_112 (\u001b[38;5;33mLSTM\u001b[0m)     │ (\u001b[38;5;45mNone\u001b[0m, \u001b[38;5;34m15\u001b[0m)        │      \u001b[38;5;34m1,020\u001b[0m │ input_eda[\u001b[38;5;34m0\u001b[0m][\u001b[38;5;34m0\u001b[0m]   │\n",
       "├─────────────────────┼───────────────────┼────────────┼───────────────────┤\n",
       "│ lstm_113 (\u001b[38;5;33mLSTM\u001b[0m)     │ (\u001b[38;5;45mNone\u001b[0m, \u001b[38;5;34m15\u001b[0m)        │      \u001b[38;5;34m1,020\u001b[0m │ input_temp[\u001b[38;5;34m0\u001b[0m][\u001b[38;5;34m0\u001b[0m]  │\n",
       "├─────────────────────┼───────────────────┼────────────┼───────────────────┤\n",
       "│ concatenate_19      │ (\u001b[38;5;45mNone\u001b[0m, \u001b[38;5;34m90\u001b[0m)        │          \u001b[38;5;34m0\u001b[0m │ lstm_108[\u001b[38;5;34m0\u001b[0m][\u001b[38;5;34m0\u001b[0m],   │\n",
       "│ (\u001b[38;5;33mConcatenate\u001b[0m)       │                   │            │ lstm_109[\u001b[38;5;34m0\u001b[0m][\u001b[38;5;34m0\u001b[0m],   │\n",
       "│                     │                   │            │ lstm_110[\u001b[38;5;34m0\u001b[0m][\u001b[38;5;34m0\u001b[0m],   │\n",
       "│                     │                   │            │ lstm_111[\u001b[38;5;34m0\u001b[0m][\u001b[38;5;34m0\u001b[0m],   │\n",
       "│                     │                   │            │ lstm_112[\u001b[38;5;34m0\u001b[0m][\u001b[38;5;34m0\u001b[0m],   │\n",
       "│                     │                   │            │ lstm_113[\u001b[38;5;34m0\u001b[0m][\u001b[38;5;34m0\u001b[0m]    │\n",
       "├─────────────────────┼───────────────────┼────────────┼───────────────────┤\n",
       "│ dense_38 (\u001b[38;5;33mDense\u001b[0m)    │ (\u001b[38;5;45mNone\u001b[0m, \u001b[38;5;34m145\u001b[0m)       │     \u001b[38;5;34m13,195\u001b[0m │ concatenate_19[\u001b[38;5;34m0\u001b[0m… │\n",
       "├─────────────────────┼───────────────────┼────────────┼───────────────────┤\n",
       "│ dense_39 (\u001b[38;5;33mDense\u001b[0m)    │ (\u001b[38;5;45mNone\u001b[0m, \u001b[38;5;34m1\u001b[0m)         │        \u001b[38;5;34m146\u001b[0m │ dense_38[\u001b[38;5;34m0\u001b[0m][\u001b[38;5;34m0\u001b[0m]    │\n",
       "└─────────────────────┴───────────────────┴────────────┴───────────────────┘\n"
      ]
     },
     "metadata": {},
     "output_type": "display_data"
    },
    {
     "data": {
      "text/html": [
       "<pre style=\"white-space:pre;overflow-x:auto;line-height:normal;font-family:Menlo,'DejaVu Sans Mono',consolas,'Courier New',monospace\"><span style=\"font-weight: bold\"> Total params: </span><span style=\"color: #00af00; text-decoration-color: #00af00\">19,461</span> (76.02 KB)\n",
       "</pre>\n"
      ],
      "text/plain": [
       "\u001b[1m Total params: \u001b[0m\u001b[38;5;34m19,461\u001b[0m (76.02 KB)\n"
      ]
     },
     "metadata": {},
     "output_type": "display_data"
    },
    {
     "data": {
      "text/html": [
       "<pre style=\"white-space:pre;overflow-x:auto;line-height:normal;font-family:Menlo,'DejaVu Sans Mono',consolas,'Courier New',monospace\"><span style=\"font-weight: bold\"> Trainable params: </span><span style=\"color: #00af00; text-decoration-color: #00af00\">19,461</span> (76.02 KB)\n",
       "</pre>\n"
      ],
      "text/plain": [
       "\u001b[1m Trainable params: \u001b[0m\u001b[38;5;34m19,461\u001b[0m (76.02 KB)\n"
      ]
     },
     "metadata": {},
     "output_type": "display_data"
    },
    {
     "data": {
      "text/html": [
       "<pre style=\"white-space:pre;overflow-x:auto;line-height:normal;font-family:Menlo,'DejaVu Sans Mono',consolas,'Courier New',monospace\"><span style=\"font-weight: bold\"> Non-trainable params: </span><span style=\"color: #00af00; text-decoration-color: #00af00\">0</span> (0.00 B)\n",
       "</pre>\n"
      ],
      "text/plain": [
       "\u001b[1m Non-trainable params: \u001b[0m\u001b[38;5;34m0\u001b[0m (0.00 B)\n"
      ]
     },
     "metadata": {},
     "output_type": "display_data"
    },
    {
     "name": "stdout",
     "output_type": "stream",
     "text": [
      "Shape of train_inputs: 6, (4925, 15, 1)\n",
      "Length of train_labels: 4925\n",
      "Class weights: {0: 0.7676122194513716, 1: 1.4341875364006988}\n",
      "Epoch 1/15\n"
     ]
    },
    {
     "name": "stderr",
     "output_type": "stream",
     "text": [
      "C:\\Users\\Irimieş Vasile\\AppData\\Local\\Temp\\ipykernel_18884\\2136188881.py:26: FutureWarning: Downcasting behavior in `replace` is deprecated and will be removed in a future version. To retain the old behavior, explicitly call `result.infer_objects(copy=False)`. To opt-in to the future behavior, set `pd.set_option('future.no_silent_downcasting', True)`\n",
      "  train_labels = train_set['label'].replace({'baseline': 0, 'stress': 1}).values[:len(train_inputs[0])]  # Convert to numpy array\n",
      "c:\\Python310\\lib\\site-packages\\keras\\src\\models\\functional.py:225: UserWarning: The structure of `inputs` doesn't match the expected structure: ['input_acc_x', 'input_acc_y', 'input_acc_z', 'input_bvp', 'input_eda', 'input_temp']. Received: the structure of inputs=('*', '*', '*', '*', '*', '*')\n",
      "  warnings.warn(\n"
     ]
    },
    {
     "name": "stdout",
     "output_type": "stream",
     "text": [
      "\u001b[1m154/154\u001b[0m \u001b[32m━━━━━━━━━━━━━━━━━━━━\u001b[0m\u001b[37m\u001b[0m \u001b[1m11s\u001b[0m 20ms/step - accuracy: 0.5565 - loss: 0.6915\n",
      "Epoch 2/15\n",
      "\u001b[1m154/154\u001b[0m \u001b[32m━━━━━━━━━━━━━━━━━━━━\u001b[0m\u001b[37m\u001b[0m \u001b[1m3s\u001b[0m 19ms/step - accuracy: 0.5961 - loss: 0.6906\n",
      "Epoch 3/15\n",
      "\u001b[1m154/154\u001b[0m \u001b[32m━━━━━━━━━━━━━━━━━━━━\u001b[0m\u001b[37m\u001b[0m \u001b[1m3s\u001b[0m 19ms/step - accuracy: 0.4701 - loss: 0.6947\n",
      "Epoch 4/15\n",
      "\u001b[1m154/154\u001b[0m \u001b[32m━━━━━━━━━━━━━━━━━━━━\u001b[0m\u001b[37m\u001b[0m \u001b[1m3s\u001b[0m 20ms/step - accuracy: 0.4314 - loss: 0.7003\n",
      "Epoch 5/15\n",
      "\u001b[1m154/154\u001b[0m \u001b[32m━━━━━━━━━━━━━━━━━━━━\u001b[0m\u001b[37m\u001b[0m \u001b[1m3s\u001b[0m 19ms/step - accuracy: 0.5823 - loss: 0.6901\n",
      "Epoch 6/15\n",
      "\u001b[1m154/154\u001b[0m \u001b[32m━━━━━━━━━━━━━━━━━━━━\u001b[0m\u001b[37m\u001b[0m \u001b[1m3s\u001b[0m 20ms/step - accuracy: 0.4930 - loss: 0.6938\n",
      "Epoch 7/15\n",
      "\u001b[1m154/154\u001b[0m \u001b[32m━━━━━━━━━━━━━━━━━━━━\u001b[0m\u001b[37m\u001b[0m \u001b[1m3s\u001b[0m 20ms/step - accuracy: 0.3845 - loss: 0.6990\n",
      "Epoch 8/15\n",
      "\u001b[1m154/154\u001b[0m \u001b[32m━━━━━━━━━━━━━━━━━━━━\u001b[0m\u001b[37m\u001b[0m \u001b[1m3s\u001b[0m 21ms/step - accuracy: 0.6178 - loss: 0.6930\n",
      "Epoch 9/15\n",
      "\u001b[1m154/154\u001b[0m \u001b[32m━━━━━━━━━━━━━━━━━━━━\u001b[0m\u001b[37m\u001b[0m \u001b[1m3s\u001b[0m 19ms/step - accuracy: 0.6190 - loss: 0.6899\n",
      "Epoch 10/15\n",
      "\u001b[1m154/154\u001b[0m \u001b[32m━━━━━━━━━━━━━━━━━━━━\u001b[0m\u001b[37m\u001b[0m \u001b[1m3s\u001b[0m 20ms/step - accuracy: 0.3743 - loss: 0.6962\n",
      "Epoch 11/15\n",
      "\u001b[1m154/154\u001b[0m \u001b[32m━━━━━━━━━━━━━━━━━━━━\u001b[0m\u001b[37m\u001b[0m \u001b[1m3s\u001b[0m 19ms/step - accuracy: 0.5525 - loss: 0.6961\n",
      "Epoch 12/15\n",
      "\u001b[1m154/154\u001b[0m \u001b[32m━━━━━━━━━━━━━━━━━━━━\u001b[0m\u001b[37m\u001b[0m \u001b[1m3s\u001b[0m 20ms/step - accuracy: 0.6096 - loss: 0.6914\n",
      "Epoch 13/15\n",
      "\u001b[1m154/154\u001b[0m \u001b[32m━━━━━━━━━━━━━━━━━━━━\u001b[0m\u001b[37m\u001b[0m \u001b[1m3s\u001b[0m 21ms/step - accuracy: 0.4295 - loss: 0.6923\n",
      "Epoch 14/15\n",
      "\u001b[1m154/154\u001b[0m \u001b[32m━━━━━━━━━━━━━━━━━━━━\u001b[0m\u001b[37m\u001b[0m \u001b[1m4s\u001b[0m 24ms/step - accuracy: 0.4711 - loss: 0.6947\n",
      "Epoch 15/15\n",
      "\u001b[1m154/154\u001b[0m \u001b[32m━━━━━━━━━━━━━━━━━━━━\u001b[0m\u001b[37m\u001b[0m \u001b[1m4s\u001b[0m 25ms/step - accuracy: 0.5323 - loss: 0.6937\n",
      "Model trained in : 55.943456172943115 seconds\n"
     ]
    },
    {
     "name": "stderr",
     "output_type": "stream",
     "text": [
      "C:\\Users\\Irimieş Vasile\\AppData\\Local\\Temp\\ipykernel_18884\\2136188881.py:61: FutureWarning: Downcasting behavior in `replace` is deprecated and will be removed in a future version. To retain the old behavior, explicitly call `result.infer_objects(copy=False)`. To opt-in to the future behavior, set `pd.set_option('future.no_silent_downcasting', True)`\n",
      "  test_labels = test_set['label'].replace({'baseline': 0, 'stress': 1}).values[:len(test_inputs[0])]\n"
     ]
    },
    {
     "name": "stdout",
     "output_type": "stream",
     "text": [
      "\u001b[1m66/66\u001b[0m \u001b[32m━━━━━━━━━━━━━━━━━━━━\u001b[0m\u001b[37m\u001b[0m \u001b[1m3s\u001b[0m 23ms/step\n",
      "        Actual Predicted\n",
      "0     baseline    stress\n",
      "1       stress    stress\n",
      "2       stress    stress\n",
      "3       stress  baseline\n",
      "4     baseline    stress\n",
      "...        ...       ...\n",
      "2105  baseline    stress\n",
      "2106  baseline    stress\n",
      "2107  baseline    stress\n",
      "2108    stress    stress\n",
      "2109  baseline    stress\n",
      "\n",
      "[2110 rows x 2 columns]\n",
      "\n",
      "Accuracy: 0.33838862559241706\n",
      "Precision: 0.997179125528914\n",
      "Recall: 0.3365064255116611\n"
     ]
    }
   ],
   "source": [
    "testModel(dataset, 0.3,15,1,145,15)"
   ]
  },
  {
   "cell_type": "markdown",
   "metadata": {},
   "source": [
    "Dataset: toti subjects\n",
    "\n",
    "Numarul de consecutive timeline: 15\n",
    "\n",
    "Numarul de neuroni: 80\n",
    "\n",
    "Epoci: 50"
   ]
  },
  {
   "cell_type": "code",
   "execution_count": 24,
   "metadata": {},
   "outputs": [
    {
     "name": "stdout",
     "output_type": "stream",
     "text": [
      "label\n",
      "baseline    47992\n",
      "stress      25886\n",
      "Name: count, dtype: int64\n",
      "label\n",
      "baseline    20648\n",
      "stress      11014\n",
      "Name: count, dtype: int64\n"
     ]
    },
    {
     "data": {
      "text/html": [
       "<pre style=\"white-space:pre;overflow-x:auto;line-height:normal;font-family:Menlo,'DejaVu Sans Mono',consolas,'Courier New',monospace\"><span style=\"font-weight: bold\">Model: \"functional_1\"</span>\n",
       "</pre>\n"
      ],
      "text/plain": [
       "\u001b[1mModel: \"functional_1\"\u001b[0m\n"
      ]
     },
     "metadata": {},
     "output_type": "display_data"
    },
    {
     "data": {
      "text/html": [
       "<pre style=\"white-space:pre;overflow-x:auto;line-height:normal;font-family:Menlo,'DejaVu Sans Mono',consolas,'Courier New',monospace\">┏━━━━━━━━━━━━━━━━━━━━━┳━━━━━━━━━━━━━━━━━━━┳━━━━━━━━━━━━┳━━━━━━━━━━━━━━━━━━━┓\n",
       "┃<span style=\"font-weight: bold\"> Layer (type)        </span>┃<span style=\"font-weight: bold\"> Output Shape      </span>┃<span style=\"font-weight: bold\">    Param # </span>┃<span style=\"font-weight: bold\"> Connected to      </span>┃\n",
       "┡━━━━━━━━━━━━━━━━━━━━━╇━━━━━━━━━━━━━━━━━━━╇━━━━━━━━━━━━╇━━━━━━━━━━━━━━━━━━━┩\n",
       "│ input_acc_x         │ (<span style=\"color: #00d7ff; text-decoration-color: #00d7ff\">None</span>, <span style=\"color: #00af00; text-decoration-color: #00af00\">15</span>, <span style=\"color: #00af00; text-decoration-color: #00af00\">1</span>)     │          <span style=\"color: #00af00; text-decoration-color: #00af00\">0</span> │ -                 │\n",
       "│ (<span style=\"color: #0087ff; text-decoration-color: #0087ff\">InputLayer</span>)        │                   │            │                   │\n",
       "├─────────────────────┼───────────────────┼────────────┼───────────────────┤\n",
       "│ input_acc_y         │ (<span style=\"color: #00d7ff; text-decoration-color: #00d7ff\">None</span>, <span style=\"color: #00af00; text-decoration-color: #00af00\">15</span>, <span style=\"color: #00af00; text-decoration-color: #00af00\">1</span>)     │          <span style=\"color: #00af00; text-decoration-color: #00af00\">0</span> │ -                 │\n",
       "│ (<span style=\"color: #0087ff; text-decoration-color: #0087ff\">InputLayer</span>)        │                   │            │                   │\n",
       "├─────────────────────┼───────────────────┼────────────┼───────────────────┤\n",
       "│ input_acc_z         │ (<span style=\"color: #00d7ff; text-decoration-color: #00d7ff\">None</span>, <span style=\"color: #00af00; text-decoration-color: #00af00\">15</span>, <span style=\"color: #00af00; text-decoration-color: #00af00\">1</span>)     │          <span style=\"color: #00af00; text-decoration-color: #00af00\">0</span> │ -                 │\n",
       "│ (<span style=\"color: #0087ff; text-decoration-color: #0087ff\">InputLayer</span>)        │                   │            │                   │\n",
       "├─────────────────────┼───────────────────┼────────────┼───────────────────┤\n",
       "│ input_bvp           │ (<span style=\"color: #00d7ff; text-decoration-color: #00d7ff\">None</span>, <span style=\"color: #00af00; text-decoration-color: #00af00\">15</span>, <span style=\"color: #00af00; text-decoration-color: #00af00\">1</span>)     │          <span style=\"color: #00af00; text-decoration-color: #00af00\">0</span> │ -                 │\n",
       "│ (<span style=\"color: #0087ff; text-decoration-color: #0087ff\">InputLayer</span>)        │                   │            │                   │\n",
       "├─────────────────────┼───────────────────┼────────────┼───────────────────┤\n",
       "│ input_eda           │ (<span style=\"color: #00d7ff; text-decoration-color: #00d7ff\">None</span>, <span style=\"color: #00af00; text-decoration-color: #00af00\">15</span>, <span style=\"color: #00af00; text-decoration-color: #00af00\">1</span>)     │          <span style=\"color: #00af00; text-decoration-color: #00af00\">0</span> │ -                 │\n",
       "│ (<span style=\"color: #0087ff; text-decoration-color: #0087ff\">InputLayer</span>)        │                   │            │                   │\n",
       "├─────────────────────┼───────────────────┼────────────┼───────────────────┤\n",
       "│ input_temp          │ (<span style=\"color: #00d7ff; text-decoration-color: #00d7ff\">None</span>, <span style=\"color: #00af00; text-decoration-color: #00af00\">15</span>, <span style=\"color: #00af00; text-decoration-color: #00af00\">1</span>)     │          <span style=\"color: #00af00; text-decoration-color: #00af00\">0</span> │ -                 │\n",
       "│ (<span style=\"color: #0087ff; text-decoration-color: #0087ff\">InputLayer</span>)        │                   │            │                   │\n",
       "├─────────────────────┼───────────────────┼────────────┼───────────────────┤\n",
       "│ lstm_6 (<span style=\"color: #0087ff; text-decoration-color: #0087ff\">LSTM</span>)       │ (<span style=\"color: #00d7ff; text-decoration-color: #00d7ff\">None</span>, <span style=\"color: #00af00; text-decoration-color: #00af00\">15</span>)        │      <span style=\"color: #00af00; text-decoration-color: #00af00\">1,020</span> │ input_acc_x[<span style=\"color: #00af00; text-decoration-color: #00af00\">0</span>][<span style=\"color: #00af00; text-decoration-color: #00af00\">0</span>] │\n",
       "├─────────────────────┼───────────────────┼────────────┼───────────────────┤\n",
       "│ lstm_7 (<span style=\"color: #0087ff; text-decoration-color: #0087ff\">LSTM</span>)       │ (<span style=\"color: #00d7ff; text-decoration-color: #00d7ff\">None</span>, <span style=\"color: #00af00; text-decoration-color: #00af00\">15</span>)        │      <span style=\"color: #00af00; text-decoration-color: #00af00\">1,020</span> │ input_acc_y[<span style=\"color: #00af00; text-decoration-color: #00af00\">0</span>][<span style=\"color: #00af00; text-decoration-color: #00af00\">0</span>] │\n",
       "├─────────────────────┼───────────────────┼────────────┼───────────────────┤\n",
       "│ lstm_8 (<span style=\"color: #0087ff; text-decoration-color: #0087ff\">LSTM</span>)       │ (<span style=\"color: #00d7ff; text-decoration-color: #00d7ff\">None</span>, <span style=\"color: #00af00; text-decoration-color: #00af00\">15</span>)        │      <span style=\"color: #00af00; text-decoration-color: #00af00\">1,020</span> │ input_acc_z[<span style=\"color: #00af00; text-decoration-color: #00af00\">0</span>][<span style=\"color: #00af00; text-decoration-color: #00af00\">0</span>] │\n",
       "├─────────────────────┼───────────────────┼────────────┼───────────────────┤\n",
       "│ lstm_9 (<span style=\"color: #0087ff; text-decoration-color: #0087ff\">LSTM</span>)       │ (<span style=\"color: #00d7ff; text-decoration-color: #00d7ff\">None</span>, <span style=\"color: #00af00; text-decoration-color: #00af00\">15</span>)        │      <span style=\"color: #00af00; text-decoration-color: #00af00\">1,020</span> │ input_bvp[<span style=\"color: #00af00; text-decoration-color: #00af00\">0</span>][<span style=\"color: #00af00; text-decoration-color: #00af00\">0</span>]   │\n",
       "├─────────────────────┼───────────────────┼────────────┼───────────────────┤\n",
       "│ lstm_10 (<span style=\"color: #0087ff; text-decoration-color: #0087ff\">LSTM</span>)      │ (<span style=\"color: #00d7ff; text-decoration-color: #00d7ff\">None</span>, <span style=\"color: #00af00; text-decoration-color: #00af00\">15</span>)        │      <span style=\"color: #00af00; text-decoration-color: #00af00\">1,020</span> │ input_eda[<span style=\"color: #00af00; text-decoration-color: #00af00\">0</span>][<span style=\"color: #00af00; text-decoration-color: #00af00\">0</span>]   │\n",
       "├─────────────────────┼───────────────────┼────────────┼───────────────────┤\n",
       "│ lstm_11 (<span style=\"color: #0087ff; text-decoration-color: #0087ff\">LSTM</span>)      │ (<span style=\"color: #00d7ff; text-decoration-color: #00d7ff\">None</span>, <span style=\"color: #00af00; text-decoration-color: #00af00\">15</span>)        │      <span style=\"color: #00af00; text-decoration-color: #00af00\">1,020</span> │ input_temp[<span style=\"color: #00af00; text-decoration-color: #00af00\">0</span>][<span style=\"color: #00af00; text-decoration-color: #00af00\">0</span>]  │\n",
       "├─────────────────────┼───────────────────┼────────────┼───────────────────┤\n",
       "│ concatenate_1       │ (<span style=\"color: #00d7ff; text-decoration-color: #00d7ff\">None</span>, <span style=\"color: #00af00; text-decoration-color: #00af00\">90</span>)        │          <span style=\"color: #00af00; text-decoration-color: #00af00\">0</span> │ lstm_6[<span style=\"color: #00af00; text-decoration-color: #00af00\">0</span>][<span style=\"color: #00af00; text-decoration-color: #00af00\">0</span>],     │\n",
       "│ (<span style=\"color: #0087ff; text-decoration-color: #0087ff\">Concatenate</span>)       │                   │            │ lstm_7[<span style=\"color: #00af00; text-decoration-color: #00af00\">0</span>][<span style=\"color: #00af00; text-decoration-color: #00af00\">0</span>],     │\n",
       "│                     │                   │            │ lstm_8[<span style=\"color: #00af00; text-decoration-color: #00af00\">0</span>][<span style=\"color: #00af00; text-decoration-color: #00af00\">0</span>],     │\n",
       "│                     │                   │            │ lstm_9[<span style=\"color: #00af00; text-decoration-color: #00af00\">0</span>][<span style=\"color: #00af00; text-decoration-color: #00af00\">0</span>],     │\n",
       "│                     │                   │            │ lstm_10[<span style=\"color: #00af00; text-decoration-color: #00af00\">0</span>][<span style=\"color: #00af00; text-decoration-color: #00af00\">0</span>],    │\n",
       "│                     │                   │            │ lstm_11[<span style=\"color: #00af00; text-decoration-color: #00af00\">0</span>][<span style=\"color: #00af00; text-decoration-color: #00af00\">0</span>]     │\n",
       "├─────────────────────┼───────────────────┼────────────┼───────────────────┤\n",
       "│ dense_2 (<span style=\"color: #0087ff; text-decoration-color: #0087ff\">Dense</span>)     │ (<span style=\"color: #00d7ff; text-decoration-color: #00d7ff\">None</span>, <span style=\"color: #00af00; text-decoration-color: #00af00\">65</span>)        │      <span style=\"color: #00af00; text-decoration-color: #00af00\">5,915</span> │ concatenate_1[<span style=\"color: #00af00; text-decoration-color: #00af00\">0</span>]… │\n",
       "├─────────────────────┼───────────────────┼────────────┼───────────────────┤\n",
       "│ dense_3 (<span style=\"color: #0087ff; text-decoration-color: #0087ff\">Dense</span>)     │ (<span style=\"color: #00d7ff; text-decoration-color: #00d7ff\">None</span>, <span style=\"color: #00af00; text-decoration-color: #00af00\">1</span>)         │         <span style=\"color: #00af00; text-decoration-color: #00af00\">66</span> │ dense_2[<span style=\"color: #00af00; text-decoration-color: #00af00\">0</span>][<span style=\"color: #00af00; text-decoration-color: #00af00\">0</span>]     │\n",
       "└─────────────────────┴───────────────────┴────────────┴───────────────────┘\n",
       "</pre>\n"
      ],
      "text/plain": [
       "┏━━━━━━━━━━━━━━━━━━━━━┳━━━━━━━━━━━━━━━━━━━┳━━━━━━━━━━━━┳━━━━━━━━━━━━━━━━━━━┓\n",
       "┃\u001b[1m \u001b[0m\u001b[1mLayer (type)       \u001b[0m\u001b[1m \u001b[0m┃\u001b[1m \u001b[0m\u001b[1mOutput Shape     \u001b[0m\u001b[1m \u001b[0m┃\u001b[1m \u001b[0m\u001b[1m   Param #\u001b[0m\u001b[1m \u001b[0m┃\u001b[1m \u001b[0m\u001b[1mConnected to     \u001b[0m\u001b[1m \u001b[0m┃\n",
       "┡━━━━━━━━━━━━━━━━━━━━━╇━━━━━━━━━━━━━━━━━━━╇━━━━━━━━━━━━╇━━━━━━━━━━━━━━━━━━━┩\n",
       "│ input_acc_x         │ (\u001b[38;5;45mNone\u001b[0m, \u001b[38;5;34m15\u001b[0m, \u001b[38;5;34m1\u001b[0m)     │          \u001b[38;5;34m0\u001b[0m │ -                 │\n",
       "│ (\u001b[38;5;33mInputLayer\u001b[0m)        │                   │            │                   │\n",
       "├─────────────────────┼───────────────────┼────────────┼───────────────────┤\n",
       "│ input_acc_y         │ (\u001b[38;5;45mNone\u001b[0m, \u001b[38;5;34m15\u001b[0m, \u001b[38;5;34m1\u001b[0m)     │          \u001b[38;5;34m0\u001b[0m │ -                 │\n",
       "│ (\u001b[38;5;33mInputLayer\u001b[0m)        │                   │            │                   │\n",
       "├─────────────────────┼───────────────────┼────────────┼───────────────────┤\n",
       "│ input_acc_z         │ (\u001b[38;5;45mNone\u001b[0m, \u001b[38;5;34m15\u001b[0m, \u001b[38;5;34m1\u001b[0m)     │          \u001b[38;5;34m0\u001b[0m │ -                 │\n",
       "│ (\u001b[38;5;33mInputLayer\u001b[0m)        │                   │            │                   │\n",
       "├─────────────────────┼───────────────────┼────────────┼───────────────────┤\n",
       "│ input_bvp           │ (\u001b[38;5;45mNone\u001b[0m, \u001b[38;5;34m15\u001b[0m, \u001b[38;5;34m1\u001b[0m)     │          \u001b[38;5;34m0\u001b[0m │ -                 │\n",
       "│ (\u001b[38;5;33mInputLayer\u001b[0m)        │                   │            │                   │\n",
       "├─────────────────────┼───────────────────┼────────────┼───────────────────┤\n",
       "│ input_eda           │ (\u001b[38;5;45mNone\u001b[0m, \u001b[38;5;34m15\u001b[0m, \u001b[38;5;34m1\u001b[0m)     │          \u001b[38;5;34m0\u001b[0m │ -                 │\n",
       "│ (\u001b[38;5;33mInputLayer\u001b[0m)        │                   │            │                   │\n",
       "├─────────────────────┼───────────────────┼────────────┼───────────────────┤\n",
       "│ input_temp          │ (\u001b[38;5;45mNone\u001b[0m, \u001b[38;5;34m15\u001b[0m, \u001b[38;5;34m1\u001b[0m)     │          \u001b[38;5;34m0\u001b[0m │ -                 │\n",
       "│ (\u001b[38;5;33mInputLayer\u001b[0m)        │                   │            │                   │\n",
       "├─────────────────────┼───────────────────┼────────────┼───────────────────┤\n",
       "│ lstm_6 (\u001b[38;5;33mLSTM\u001b[0m)       │ (\u001b[38;5;45mNone\u001b[0m, \u001b[38;5;34m15\u001b[0m)        │      \u001b[38;5;34m1,020\u001b[0m │ input_acc_x[\u001b[38;5;34m0\u001b[0m][\u001b[38;5;34m0\u001b[0m] │\n",
       "├─────────────────────┼───────────────────┼────────────┼───────────────────┤\n",
       "│ lstm_7 (\u001b[38;5;33mLSTM\u001b[0m)       │ (\u001b[38;5;45mNone\u001b[0m, \u001b[38;5;34m15\u001b[0m)        │      \u001b[38;5;34m1,020\u001b[0m │ input_acc_y[\u001b[38;5;34m0\u001b[0m][\u001b[38;5;34m0\u001b[0m] │\n",
       "├─────────────────────┼───────────────────┼────────────┼───────────────────┤\n",
       "│ lstm_8 (\u001b[38;5;33mLSTM\u001b[0m)       │ (\u001b[38;5;45mNone\u001b[0m, \u001b[38;5;34m15\u001b[0m)        │      \u001b[38;5;34m1,020\u001b[0m │ input_acc_z[\u001b[38;5;34m0\u001b[0m][\u001b[38;5;34m0\u001b[0m] │\n",
       "├─────────────────────┼───────────────────┼────────────┼───────────────────┤\n",
       "│ lstm_9 (\u001b[38;5;33mLSTM\u001b[0m)       │ (\u001b[38;5;45mNone\u001b[0m, \u001b[38;5;34m15\u001b[0m)        │      \u001b[38;5;34m1,020\u001b[0m │ input_bvp[\u001b[38;5;34m0\u001b[0m][\u001b[38;5;34m0\u001b[0m]   │\n",
       "├─────────────────────┼───────────────────┼────────────┼───────────────────┤\n",
       "│ lstm_10 (\u001b[38;5;33mLSTM\u001b[0m)      │ (\u001b[38;5;45mNone\u001b[0m, \u001b[38;5;34m15\u001b[0m)        │      \u001b[38;5;34m1,020\u001b[0m │ input_eda[\u001b[38;5;34m0\u001b[0m][\u001b[38;5;34m0\u001b[0m]   │\n",
       "├─────────────────────┼───────────────────┼────────────┼───────────────────┤\n",
       "│ lstm_11 (\u001b[38;5;33mLSTM\u001b[0m)      │ (\u001b[38;5;45mNone\u001b[0m, \u001b[38;5;34m15\u001b[0m)        │      \u001b[38;5;34m1,020\u001b[0m │ input_temp[\u001b[38;5;34m0\u001b[0m][\u001b[38;5;34m0\u001b[0m]  │\n",
       "├─────────────────────┼───────────────────┼────────────┼───────────────────┤\n",
       "│ concatenate_1       │ (\u001b[38;5;45mNone\u001b[0m, \u001b[38;5;34m90\u001b[0m)        │          \u001b[38;5;34m0\u001b[0m │ lstm_6[\u001b[38;5;34m0\u001b[0m][\u001b[38;5;34m0\u001b[0m],     │\n",
       "│ (\u001b[38;5;33mConcatenate\u001b[0m)       │                   │            │ lstm_7[\u001b[38;5;34m0\u001b[0m][\u001b[38;5;34m0\u001b[0m],     │\n",
       "│                     │                   │            │ lstm_8[\u001b[38;5;34m0\u001b[0m][\u001b[38;5;34m0\u001b[0m],     │\n",
       "│                     │                   │            │ lstm_9[\u001b[38;5;34m0\u001b[0m][\u001b[38;5;34m0\u001b[0m],     │\n",
       "│                     │                   │            │ lstm_10[\u001b[38;5;34m0\u001b[0m][\u001b[38;5;34m0\u001b[0m],    │\n",
       "│                     │                   │            │ lstm_11[\u001b[38;5;34m0\u001b[0m][\u001b[38;5;34m0\u001b[0m]     │\n",
       "├─────────────────────┼───────────────────┼────────────┼───────────────────┤\n",
       "│ dense_2 (\u001b[38;5;33mDense\u001b[0m)     │ (\u001b[38;5;45mNone\u001b[0m, \u001b[38;5;34m65\u001b[0m)        │      \u001b[38;5;34m5,915\u001b[0m │ concatenate_1[\u001b[38;5;34m0\u001b[0m]… │\n",
       "├─────────────────────┼───────────────────┼────────────┼───────────────────┤\n",
       "│ dense_3 (\u001b[38;5;33mDense\u001b[0m)     │ (\u001b[38;5;45mNone\u001b[0m, \u001b[38;5;34m1\u001b[0m)         │         \u001b[38;5;34m66\u001b[0m │ dense_2[\u001b[38;5;34m0\u001b[0m][\u001b[38;5;34m0\u001b[0m]     │\n",
       "└─────────────────────┴───────────────────┴────────────┴───────────────────┘\n"
      ]
     },
     "metadata": {},
     "output_type": "display_data"
    },
    {
     "data": {
      "text/html": [
       "<pre style=\"white-space:pre;overflow-x:auto;line-height:normal;font-family:Menlo,'DejaVu Sans Mono',consolas,'Courier New',monospace\"><span style=\"font-weight: bold\"> Total params: </span><span style=\"color: #00af00; text-decoration-color: #00af00\">12,101</span> (47.27 KB)\n",
       "</pre>\n"
      ],
      "text/plain": [
       "\u001b[1m Total params: \u001b[0m\u001b[38;5;34m12,101\u001b[0m (47.27 KB)\n"
      ]
     },
     "metadata": {},
     "output_type": "display_data"
    },
    {
     "data": {
      "text/html": [
       "<pre style=\"white-space:pre;overflow-x:auto;line-height:normal;font-family:Menlo,'DejaVu Sans Mono',consolas,'Courier New',monospace\"><span style=\"font-weight: bold\"> Trainable params: </span><span style=\"color: #00af00; text-decoration-color: #00af00\">12,101</span> (47.27 KB)\n",
       "</pre>\n"
      ],
      "text/plain": [
       "\u001b[1m Trainable params: \u001b[0m\u001b[38;5;34m12,101\u001b[0m (47.27 KB)\n"
      ]
     },
     "metadata": {},
     "output_type": "display_data"
    },
    {
     "data": {
      "text/html": [
       "<pre style=\"white-space:pre;overflow-x:auto;line-height:normal;font-family:Menlo,'DejaVu Sans Mono',consolas,'Courier New',monospace\"><span style=\"font-weight: bold\"> Non-trainable params: </span><span style=\"color: #00af00; text-decoration-color: #00af00\">0</span> (0.00 B)\n",
       "</pre>\n"
      ],
      "text/plain": [
       "\u001b[1m Non-trainable params: \u001b[0m\u001b[38;5;34m0\u001b[0m (0.00 B)\n"
      ]
     },
     "metadata": {},
     "output_type": "display_data"
    },
    {
     "name": "stdout",
     "output_type": "stream",
     "text": [
      "Epoch 1/50\n"
     ]
    },
    {
     "name": "stderr",
     "output_type": "stream",
     "text": [
      "C:\\Users\\Irimieş Vasile\\AppData\\Local\\Temp\\ipykernel_10380\\1395992318.py:24: FutureWarning: Downcasting behavior in `replace` is deprecated and will be removed in a future version. To retain the old behavior, explicitly call `result.infer_objects(copy=False)`. To opt-in to the future behavior, set `pd.set_option('future.no_silent_downcasting', True)`\n",
      "  train_labels = train_set['label'].replace({'baseline': 0, 'stress': 1}).values[:len(train_inputs[0])]\n",
      "c:\\Python310\\lib\\site-packages\\keras\\src\\models\\functional.py:225: UserWarning: The structure of `inputs` doesn't match the expected structure: ['input_acc_x', 'input_acc_y', 'input_acc_z', 'input_bvp', 'input_eda', 'input_temp']. Received: the structure of inputs=('*', '*', '*', '*', '*', '*')\n",
      "  warnings.warn(\n"
     ]
    },
    {
     "name": "stdout",
     "output_type": "stream",
     "text": [
      "\u001b[1m154/154\u001b[0m \u001b[32m━━━━━━━━━━━━━━━━━━━━\u001b[0m\u001b[37m\u001b[0m \u001b[1m25s\u001b[0m 32ms/step - accuracy: 0.4928 - loss: 0.6947\n",
      "Epoch 2/50\n",
      "\u001b[1m154/154\u001b[0m \u001b[32m━━━━━━━━━━━━━━━━━━━━\u001b[0m\u001b[37m\u001b[0m \u001b[1m5s\u001b[0m 32ms/step - accuracy: 0.4875 - loss: 0.6948\n",
      "Epoch 3/50\n",
      "\u001b[1m154/154\u001b[0m \u001b[32m━━━━━━━━━━━━━━━━━━━━\u001b[0m\u001b[37m\u001b[0m \u001b[1m5s\u001b[0m 33ms/step - accuracy: 0.5244 - loss: 0.6931\n",
      "Epoch 4/50\n",
      "\u001b[1m154/154\u001b[0m \u001b[32m━━━━━━━━━━━━━━━━━━━━\u001b[0m\u001b[37m\u001b[0m \u001b[1m5s\u001b[0m 33ms/step - accuracy: 0.4818 - loss: 0.6938\n",
      "Epoch 5/50\n",
      "\u001b[1m154/154\u001b[0m \u001b[32m━━━━━━━━━━━━━━━━━━━━\u001b[0m\u001b[37m\u001b[0m \u001b[1m5s\u001b[0m 35ms/step - accuracy: 0.5091 - loss: 0.6940\n",
      "Epoch 6/50\n",
      "\u001b[1m154/154\u001b[0m \u001b[32m━━━━━━━━━━━━━━━━━━━━\u001b[0m\u001b[37m\u001b[0m \u001b[1m5s\u001b[0m 31ms/step - accuracy: 0.5851 - loss: 0.6873\n",
      "Epoch 7/50\n",
      "\u001b[1m154/154\u001b[0m \u001b[32m━━━━━━━━━━━━━━━━━━━━\u001b[0m\u001b[37m\u001b[0m \u001b[1m5s\u001b[0m 33ms/step - accuracy: 0.4843 - loss: 0.6940\n",
      "Epoch 8/50\n",
      "\u001b[1m154/154\u001b[0m \u001b[32m━━━━━━━━━━━━━━━━━━━━\u001b[0m\u001b[37m\u001b[0m \u001b[1m6s\u001b[0m 36ms/step - accuracy: 0.4697 - loss: 0.6951\n",
      "Epoch 9/50\n",
      "\u001b[1m154/154\u001b[0m \u001b[32m━━━━━━━━━━━━━━━━━━━━\u001b[0m\u001b[37m\u001b[0m \u001b[1m5s\u001b[0m 35ms/step - accuracy: 0.6254 - loss: 0.6899\n",
      "Epoch 10/50\n",
      "\u001b[1m154/154\u001b[0m \u001b[32m━━━━━━━━━━━━━━━━━━━━\u001b[0m\u001b[37m\u001b[0m \u001b[1m5s\u001b[0m 32ms/step - accuracy: 0.3955 - loss: 0.6962\n",
      "Epoch 11/50\n",
      "\u001b[1m154/154\u001b[0m \u001b[32m━━━━━━━━━━━━━━━━━━━━\u001b[0m\u001b[37m\u001b[0m \u001b[1m5s\u001b[0m 30ms/step - accuracy: 0.4713 - loss: 0.6955\n",
      "Epoch 12/50\n",
      "\u001b[1m154/154\u001b[0m \u001b[32m━━━━━━━━━━━━━━━━━━━━\u001b[0m\u001b[37m\u001b[0m \u001b[1m5s\u001b[0m 31ms/step - accuracy: 0.5187 - loss: 0.6934\n",
      "Epoch 13/50\n",
      "\u001b[1m154/154\u001b[0m \u001b[32m━━━━━━━━━━━━━━━━━━━━\u001b[0m\u001b[37m\u001b[0m \u001b[1m5s\u001b[0m 32ms/step - accuracy: 0.5525 - loss: 0.6898\n",
      "Epoch 14/50\n",
      "\u001b[1m154/154\u001b[0m \u001b[32m━━━━━━━━━━━━━━━━━━━━\u001b[0m\u001b[37m\u001b[0m \u001b[1m5s\u001b[0m 32ms/step - accuracy: 0.4366 - loss: 0.6947\n",
      "Epoch 15/50\n",
      "\u001b[1m154/154\u001b[0m \u001b[32m━━━━━━━━━━━━━━━━━━━━\u001b[0m\u001b[37m\u001b[0m \u001b[1m5s\u001b[0m 32ms/step - accuracy: 0.5598 - loss: 0.6914\n",
      "Epoch 16/50\n",
      "\u001b[1m154/154\u001b[0m \u001b[32m━━━━━━━━━━━━━━━━━━━━\u001b[0m\u001b[37m\u001b[0m \u001b[1m5s\u001b[0m 31ms/step - accuracy: 0.5323 - loss: 0.6872\n",
      "Epoch 17/50\n",
      "\u001b[1m154/154\u001b[0m \u001b[32m━━━━━━━━━━━━━━━━━━━━\u001b[0m\u001b[37m\u001b[0m \u001b[1m5s\u001b[0m 30ms/step - accuracy: 0.4060 - loss: 0.6961\n",
      "Epoch 18/50\n",
      "\u001b[1m154/154\u001b[0m \u001b[32m━━━━━━━━━━━━━━━━━━━━\u001b[0m\u001b[37m\u001b[0m \u001b[1m5s\u001b[0m 31ms/step - accuracy: 0.5082 - loss: 0.6921\n",
      "Epoch 19/50\n",
      "\u001b[1m154/154\u001b[0m \u001b[32m━━━━━━━━━━━━━━━━━━━━\u001b[0m\u001b[37m\u001b[0m \u001b[1m5s\u001b[0m 30ms/step - accuracy: 0.4928 - loss: 0.6925\n",
      "Epoch 20/50\n",
      "\u001b[1m154/154\u001b[0m \u001b[32m━━━━━━━━━━━━━━━━━━━━\u001b[0m\u001b[37m\u001b[0m \u001b[1m5s\u001b[0m 31ms/step - accuracy: 0.4814 - loss: 0.6941\n",
      "Epoch 21/50\n",
      "\u001b[1m154/154\u001b[0m \u001b[32m━━━━━━━━━━━━━━━━━━━━\u001b[0m\u001b[37m\u001b[0m \u001b[1m5s\u001b[0m 31ms/step - accuracy: 0.5997 - loss: 0.6924\n",
      "Epoch 22/50\n",
      "\u001b[1m154/154\u001b[0m \u001b[32m━━━━━━━━━━━━━━━━━━━━\u001b[0m\u001b[37m\u001b[0m \u001b[1m5s\u001b[0m 31ms/step - accuracy: 0.5325 - loss: 0.6869\n",
      "Epoch 23/50\n",
      "\u001b[1m154/154\u001b[0m \u001b[32m━━━━━━━━━━━━━━━━━━━━\u001b[0m\u001b[37m\u001b[0m \u001b[1m5s\u001b[0m 33ms/step - accuracy: 0.4246 - loss: 0.6960\n",
      "Epoch 24/50\n",
      "\u001b[1m154/154\u001b[0m \u001b[32m━━━━━━━━━━━━━━━━━━━━\u001b[0m\u001b[37m\u001b[0m \u001b[1m6s\u001b[0m 39ms/step - accuracy: 0.4818 - loss: 0.6966\n",
      "Epoch 25/50\n",
      "\u001b[1m154/154\u001b[0m \u001b[32m━━━━━━━━━━━━━━━━━━━━\u001b[0m\u001b[37m\u001b[0m \u001b[1m5s\u001b[0m 33ms/step - accuracy: 0.5058 - loss: 0.6953\n",
      "Epoch 26/50\n",
      "\u001b[1m154/154\u001b[0m \u001b[32m━━━━━━━━━━━━━━━━━━━━\u001b[0m\u001b[37m\u001b[0m \u001b[1m5s\u001b[0m 34ms/step - accuracy: 0.4711 - loss: 0.6969\n",
      "Epoch 27/50\n",
      "\u001b[1m154/154\u001b[0m \u001b[32m━━━━━━━━━━━━━━━━━━━━\u001b[0m\u001b[37m\u001b[0m \u001b[1m5s\u001b[0m 30ms/step - accuracy: 0.5952 - loss: 0.6907\n",
      "Epoch 28/50\n",
      "\u001b[1m154/154\u001b[0m \u001b[32m━━━━━━━━━━━━━━━━━━━━\u001b[0m\u001b[37m\u001b[0m \u001b[1m5s\u001b[0m 34ms/step - accuracy: 0.4889 - loss: 0.6923\n",
      "Epoch 29/50\n",
      "\u001b[1m154/154\u001b[0m \u001b[32m━━━━━━━━━━━━━━━━━━━━\u001b[0m\u001b[37m\u001b[0m \u001b[1m5s\u001b[0m 33ms/step - accuracy: 0.5370 - loss: 0.6894\n",
      "Epoch 30/50\n",
      "\u001b[1m154/154\u001b[0m \u001b[32m━━━━━━━━━━━━━━━━━━━━\u001b[0m\u001b[37m\u001b[0m \u001b[1m5s\u001b[0m 31ms/step - accuracy: 0.4472 - loss: 0.6897\n",
      "Epoch 31/50\n",
      "\u001b[1m154/154\u001b[0m \u001b[32m━━━━━━━━━━━━━━━━━━━━\u001b[0m\u001b[37m\u001b[0m \u001b[1m5s\u001b[0m 31ms/step - accuracy: 0.4442 - loss: 0.6983\n",
      "Epoch 32/50\n",
      "\u001b[1m154/154\u001b[0m \u001b[32m━━━━━━━━━━━━━━━━━━━━\u001b[0m\u001b[37m\u001b[0m \u001b[1m5s\u001b[0m 31ms/step - accuracy: 0.5218 - loss: 0.6953\n",
      "Epoch 33/50\n",
      "\u001b[1m154/154\u001b[0m \u001b[32m━━━━━━━━━━━━━━━━━━━━\u001b[0m\u001b[37m\u001b[0m \u001b[1m5s\u001b[0m 30ms/step - accuracy: 0.5082 - loss: 0.6962\n",
      "Epoch 34/50\n",
      "\u001b[1m154/154\u001b[0m \u001b[32m━━━━━━━━━━━━━━━━━━━━\u001b[0m\u001b[37m\u001b[0m \u001b[1m5s\u001b[0m 31ms/step - accuracy: 0.5007 - loss: 0.6931\n",
      "Epoch 35/50\n",
      "\u001b[1m154/154\u001b[0m \u001b[32m━━━━━━━━━━━━━━━━━━━━\u001b[0m\u001b[37m\u001b[0m \u001b[1m6s\u001b[0m 35ms/step - accuracy: 0.5574 - loss: 0.6874\n",
      "Epoch 36/50\n",
      "\u001b[1m154/154\u001b[0m \u001b[32m━━━━━━━━━━━━━━━━━━━━\u001b[0m\u001b[37m\u001b[0m \u001b[1m5s\u001b[0m 33ms/step - accuracy: 0.4645 - loss: 0.6916\n",
      "Epoch 37/50\n",
      "\u001b[1m154/154\u001b[0m \u001b[32m━━━━━━━━━━━━━━━━━━━━\u001b[0m\u001b[37m\u001b[0m \u001b[1m5s\u001b[0m 34ms/step - accuracy: 0.4874 - loss: 0.6954\n",
      "Epoch 38/50\n",
      "\u001b[1m154/154\u001b[0m \u001b[32m━━━━━━━━━━━━━━━━━━━━\u001b[0m\u001b[37m\u001b[0m \u001b[1m5s\u001b[0m 33ms/step - accuracy: 0.6006 - loss: 0.6897\n",
      "Epoch 39/50\n",
      "\u001b[1m154/154\u001b[0m \u001b[32m━━━━━━━━━━━━━━━━━━━━\u001b[0m\u001b[37m\u001b[0m \u001b[1m5s\u001b[0m 33ms/step - accuracy: 0.4564 - loss: 0.6939\n",
      "Epoch 40/50\n",
      "\u001b[1m154/154\u001b[0m \u001b[32m━━━━━━━━━━━━━━━━━━━━\u001b[0m\u001b[37m\u001b[0m \u001b[1m5s\u001b[0m 32ms/step - accuracy: 0.5295 - loss: 0.6904\n",
      "Epoch 41/50\n",
      "\u001b[1m154/154\u001b[0m \u001b[32m━━━━━━━━━━━━━━━━━━━━\u001b[0m\u001b[37m\u001b[0m \u001b[1m5s\u001b[0m 33ms/step - accuracy: 0.4232 - loss: 0.6932\n",
      "Epoch 42/50\n",
      "\u001b[1m154/154\u001b[0m \u001b[32m━━━━━━━━━━━━━━━━━━━━\u001b[0m\u001b[37m\u001b[0m \u001b[1m5s\u001b[0m 32ms/step - accuracy: 0.5035 - loss: 0.6908\n",
      "Epoch 43/50\n",
      "\u001b[1m154/154\u001b[0m \u001b[32m━━━━━━━━━━━━━━━━━━━━\u001b[0m\u001b[37m\u001b[0m \u001b[1m5s\u001b[0m 31ms/step - accuracy: 0.5173 - loss: 0.6901\n",
      "Epoch 44/50\n",
      "\u001b[1m154/154\u001b[0m \u001b[32m━━━━━━━━━━━━━━━━━━━━\u001b[0m\u001b[37m\u001b[0m \u001b[1m6s\u001b[0m 36ms/step - accuracy: 0.4544 - loss: 0.6934\n",
      "Epoch 45/50\n",
      "\u001b[1m154/154\u001b[0m \u001b[32m━━━━━━━━━━━━━━━━━━━━\u001b[0m\u001b[37m\u001b[0m \u001b[1m5s\u001b[0m 31ms/step - accuracy: 0.4711 - loss: 0.6919\n",
      "Epoch 46/50\n",
      "\u001b[1m154/154\u001b[0m \u001b[32m━━━━━━━━━━━━━━━━━━━━\u001b[0m\u001b[37m\u001b[0m \u001b[1m6s\u001b[0m 35ms/step - accuracy: 0.4680 - loss: 0.6933\n",
      "Epoch 47/50\n",
      "\u001b[1m154/154\u001b[0m \u001b[32m━━━━━━━━━━━━━━━━━━━━\u001b[0m\u001b[37m\u001b[0m \u001b[1m5s\u001b[0m 34ms/step - accuracy: 0.4933 - loss: 0.6910\n",
      "Epoch 48/50\n",
      "\u001b[1m154/154\u001b[0m \u001b[32m━━━━━━━━━━━━━━━━━━━━\u001b[0m\u001b[37m\u001b[0m \u001b[1m5s\u001b[0m 33ms/step - accuracy: 0.5054 - loss: 0.6895\n",
      "Epoch 49/50\n",
      "\u001b[1m154/154\u001b[0m \u001b[32m━━━━━━━━━━━━━━━━━━━━\u001b[0m\u001b[37m\u001b[0m \u001b[1m5s\u001b[0m 30ms/step - accuracy: 0.4860 - loss: 0.6903\n",
      "Epoch 50/50\n",
      "\u001b[1m154/154\u001b[0m \u001b[32m━━━━━━━━━━━━━━━━━━━━\u001b[0m\u001b[37m\u001b[0m \u001b[1m5s\u001b[0m 32ms/step - accuracy: 0.4877 - loss: 0.6906\n",
      "Model trained in : 272.7023346424103 seconds\n"
     ]
    },
    {
     "name": "stderr",
     "output_type": "stream",
     "text": [
      "C:\\Users\\Irimieş Vasile\\AppData\\Local\\Temp\\ipykernel_10380\\1395992318.py:49: FutureWarning: Downcasting behavior in `replace` is deprecated and will be removed in a future version. To retain the old behavior, explicitly call `result.infer_objects(copy=False)`. To opt-in to the future behavior, set `pd.set_option('future.no_silent_downcasting', True)`\n",
      "  test_labels = test_set['label'].replace({'baseline': 0, 'stress': 1}).values[:len(test_inputs[0])]\n"
     ]
    },
    {
     "name": "stdout",
     "output_type": "stream",
     "text": [
      "\u001b[1m66/66\u001b[0m \u001b[32m━━━━━━━━━━━━━━━━━━━━\u001b[0m\u001b[37m\u001b[0m \u001b[1m6s\u001b[0m 47ms/step\n",
      "        Actual Predicted\n",
      "0     baseline    stress\n",
      "1       stress    stress\n",
      "2       stress    stress\n",
      "3       stress  baseline\n",
      "4     baseline    stress\n",
      "...        ...       ...\n",
      "2105  baseline  baseline\n",
      "2106  baseline    stress\n",
      "2107  baseline    stress\n",
      "2108    stress    stress\n",
      "2109  baseline    stress\n",
      "\n",
      "[2110 rows x 2 columns]\n",
      "\n",
      "Accuracy: 0.42274881516587676\n",
      "Precision: 0.7306064880112835\n",
      "Recall: 0.3352750809061489\n"
     ]
    }
   ],
   "source": [
    "testModel(dataset, 0.3,15,1,65,50)"
   ]
  },
  {
   "cell_type": "markdown",
   "metadata": {},
   "source": [
    "Dataset: toti subjects\n",
    "\n",
    "Numarul de consecutive timeline: 20\n",
    "\n",
    "Numarul de neuroni: 160\n",
    "\n",
    "Epoci: 100"
   ]
  },
  {
   "cell_type": "code",
   "execution_count": 68,
   "metadata": {},
   "outputs": [
    {
     "name": "stdout",
     "output_type": "stream",
     "text": [
      "label\n",
      "baseline    47992\n",
      "stress      25886\n",
      "Name: count, dtype: int64\n",
      "label\n",
      "baseline    20648\n",
      "stress      11014\n",
      "Name: count, dtype: int64\n"
     ]
    },
    {
     "data": {
      "text/html": [
       "<pre style=\"white-space:pre;overflow-x:auto;line-height:normal;font-family:Menlo,'DejaVu Sans Mono',consolas,'Courier New',monospace\"><span style=\"font-weight: bold\">Model: \"functional_21\"</span>\n",
       "</pre>\n"
      ],
      "text/plain": [
       "\u001b[1mModel: \"functional_21\"\u001b[0m\n"
      ]
     },
     "metadata": {},
     "output_type": "display_data"
    },
    {
     "data": {
      "text/html": [
       "<pre style=\"white-space:pre;overflow-x:auto;line-height:normal;font-family:Menlo,'DejaVu Sans Mono',consolas,'Courier New',monospace\">┏━━━━━━━━━━━━━━━━━━━━━┳━━━━━━━━━━━━━━━━━━━┳━━━━━━━━━━━━┳━━━━━━━━━━━━━━━━━━━┓\n",
       "┃<span style=\"font-weight: bold\"> Layer (type)        </span>┃<span style=\"font-weight: bold\"> Output Shape      </span>┃<span style=\"font-weight: bold\">    Param # </span>┃<span style=\"font-weight: bold\"> Connected to      </span>┃\n",
       "┡━━━━━━━━━━━━━━━━━━━━━╇━━━━━━━━━━━━━━━━━━━╇━━━━━━━━━━━━╇━━━━━━━━━━━━━━━━━━━┩\n",
       "│ input_acc_x         │ (<span style=\"color: #00d7ff; text-decoration-color: #00d7ff\">None</span>, <span style=\"color: #00af00; text-decoration-color: #00af00\">20</span>, <span style=\"color: #00af00; text-decoration-color: #00af00\">1</span>)     │          <span style=\"color: #00af00; text-decoration-color: #00af00\">0</span> │ -                 │\n",
       "│ (<span style=\"color: #0087ff; text-decoration-color: #0087ff\">InputLayer</span>)        │                   │            │                   │\n",
       "├─────────────────────┼───────────────────┼────────────┼───────────────────┤\n",
       "│ input_acc_y         │ (<span style=\"color: #00d7ff; text-decoration-color: #00d7ff\">None</span>, <span style=\"color: #00af00; text-decoration-color: #00af00\">20</span>, <span style=\"color: #00af00; text-decoration-color: #00af00\">1</span>)     │          <span style=\"color: #00af00; text-decoration-color: #00af00\">0</span> │ -                 │\n",
       "│ (<span style=\"color: #0087ff; text-decoration-color: #0087ff\">InputLayer</span>)        │                   │            │                   │\n",
       "├─────────────────────┼───────────────────┼────────────┼───────────────────┤\n",
       "│ input_acc_z         │ (<span style=\"color: #00d7ff; text-decoration-color: #00d7ff\">None</span>, <span style=\"color: #00af00; text-decoration-color: #00af00\">20</span>, <span style=\"color: #00af00; text-decoration-color: #00af00\">1</span>)     │          <span style=\"color: #00af00; text-decoration-color: #00af00\">0</span> │ -                 │\n",
       "│ (<span style=\"color: #0087ff; text-decoration-color: #0087ff\">InputLayer</span>)        │                   │            │                   │\n",
       "├─────────────────────┼───────────────────┼────────────┼───────────────────┤\n",
       "│ input_bvp           │ (<span style=\"color: #00d7ff; text-decoration-color: #00d7ff\">None</span>, <span style=\"color: #00af00; text-decoration-color: #00af00\">20</span>, <span style=\"color: #00af00; text-decoration-color: #00af00\">1</span>)     │          <span style=\"color: #00af00; text-decoration-color: #00af00\">0</span> │ -                 │\n",
       "│ (<span style=\"color: #0087ff; text-decoration-color: #0087ff\">InputLayer</span>)        │                   │            │                   │\n",
       "├─────────────────────┼───────────────────┼────────────┼───────────────────┤\n",
       "│ input_eda           │ (<span style=\"color: #00d7ff; text-decoration-color: #00d7ff\">None</span>, <span style=\"color: #00af00; text-decoration-color: #00af00\">20</span>, <span style=\"color: #00af00; text-decoration-color: #00af00\">1</span>)     │          <span style=\"color: #00af00; text-decoration-color: #00af00\">0</span> │ -                 │\n",
       "│ (<span style=\"color: #0087ff; text-decoration-color: #0087ff\">InputLayer</span>)        │                   │            │                   │\n",
       "├─────────────────────┼───────────────────┼────────────┼───────────────────┤\n",
       "│ input_temp          │ (<span style=\"color: #00d7ff; text-decoration-color: #00d7ff\">None</span>, <span style=\"color: #00af00; text-decoration-color: #00af00\">20</span>, <span style=\"color: #00af00; text-decoration-color: #00af00\">1</span>)     │          <span style=\"color: #00af00; text-decoration-color: #00af00\">0</span> │ -                 │\n",
       "│ (<span style=\"color: #0087ff; text-decoration-color: #0087ff\">InputLayer</span>)        │                   │            │                   │\n",
       "├─────────────────────┼───────────────────┼────────────┼───────────────────┤\n",
       "│ lstm_120 (<span style=\"color: #0087ff; text-decoration-color: #0087ff\">LSTM</span>)     │ (<span style=\"color: #00d7ff; text-decoration-color: #00d7ff\">None</span>, <span style=\"color: #00af00; text-decoration-color: #00af00\">20</span>)        │      <span style=\"color: #00af00; text-decoration-color: #00af00\">1,760</span> │ input_acc_x[<span style=\"color: #00af00; text-decoration-color: #00af00\">0</span>][<span style=\"color: #00af00; text-decoration-color: #00af00\">0</span>] │\n",
       "├─────────────────────┼───────────────────┼────────────┼───────────────────┤\n",
       "│ lstm_121 (<span style=\"color: #0087ff; text-decoration-color: #0087ff\">LSTM</span>)     │ (<span style=\"color: #00d7ff; text-decoration-color: #00d7ff\">None</span>, <span style=\"color: #00af00; text-decoration-color: #00af00\">20</span>)        │      <span style=\"color: #00af00; text-decoration-color: #00af00\">1,760</span> │ input_acc_y[<span style=\"color: #00af00; text-decoration-color: #00af00\">0</span>][<span style=\"color: #00af00; text-decoration-color: #00af00\">0</span>] │\n",
       "├─────────────────────┼───────────────────┼────────────┼───────────────────┤\n",
       "│ lstm_122 (<span style=\"color: #0087ff; text-decoration-color: #0087ff\">LSTM</span>)     │ (<span style=\"color: #00d7ff; text-decoration-color: #00d7ff\">None</span>, <span style=\"color: #00af00; text-decoration-color: #00af00\">20</span>)        │      <span style=\"color: #00af00; text-decoration-color: #00af00\">1,760</span> │ input_acc_z[<span style=\"color: #00af00; text-decoration-color: #00af00\">0</span>][<span style=\"color: #00af00; text-decoration-color: #00af00\">0</span>] │\n",
       "├─────────────────────┼───────────────────┼────────────┼───────────────────┤\n",
       "│ lstm_123 (<span style=\"color: #0087ff; text-decoration-color: #0087ff\">LSTM</span>)     │ (<span style=\"color: #00d7ff; text-decoration-color: #00d7ff\">None</span>, <span style=\"color: #00af00; text-decoration-color: #00af00\">20</span>)        │      <span style=\"color: #00af00; text-decoration-color: #00af00\">1,760</span> │ input_bvp[<span style=\"color: #00af00; text-decoration-color: #00af00\">0</span>][<span style=\"color: #00af00; text-decoration-color: #00af00\">0</span>]   │\n",
       "├─────────────────────┼───────────────────┼────────────┼───────────────────┤\n",
       "│ lstm_124 (<span style=\"color: #0087ff; text-decoration-color: #0087ff\">LSTM</span>)     │ (<span style=\"color: #00d7ff; text-decoration-color: #00d7ff\">None</span>, <span style=\"color: #00af00; text-decoration-color: #00af00\">20</span>)        │      <span style=\"color: #00af00; text-decoration-color: #00af00\">1,760</span> │ input_eda[<span style=\"color: #00af00; text-decoration-color: #00af00\">0</span>][<span style=\"color: #00af00; text-decoration-color: #00af00\">0</span>]   │\n",
       "├─────────────────────┼───────────────────┼────────────┼───────────────────┤\n",
       "│ lstm_125 (<span style=\"color: #0087ff; text-decoration-color: #0087ff\">LSTM</span>)     │ (<span style=\"color: #00d7ff; text-decoration-color: #00d7ff\">None</span>, <span style=\"color: #00af00; text-decoration-color: #00af00\">20</span>)        │      <span style=\"color: #00af00; text-decoration-color: #00af00\">1,760</span> │ input_temp[<span style=\"color: #00af00; text-decoration-color: #00af00\">0</span>][<span style=\"color: #00af00; text-decoration-color: #00af00\">0</span>]  │\n",
       "├─────────────────────┼───────────────────┼────────────┼───────────────────┤\n",
       "│ concatenate_21      │ (<span style=\"color: #00d7ff; text-decoration-color: #00d7ff\">None</span>, <span style=\"color: #00af00; text-decoration-color: #00af00\">120</span>)       │          <span style=\"color: #00af00; text-decoration-color: #00af00\">0</span> │ lstm_120[<span style=\"color: #00af00; text-decoration-color: #00af00\">0</span>][<span style=\"color: #00af00; text-decoration-color: #00af00\">0</span>],   │\n",
       "│ (<span style=\"color: #0087ff; text-decoration-color: #0087ff\">Concatenate</span>)       │                   │            │ lstm_121[<span style=\"color: #00af00; text-decoration-color: #00af00\">0</span>][<span style=\"color: #00af00; text-decoration-color: #00af00\">0</span>],   │\n",
       "│                     │                   │            │ lstm_122[<span style=\"color: #00af00; text-decoration-color: #00af00\">0</span>][<span style=\"color: #00af00; text-decoration-color: #00af00\">0</span>],   │\n",
       "│                     │                   │            │ lstm_123[<span style=\"color: #00af00; text-decoration-color: #00af00\">0</span>][<span style=\"color: #00af00; text-decoration-color: #00af00\">0</span>],   │\n",
       "│                     │                   │            │ lstm_124[<span style=\"color: #00af00; text-decoration-color: #00af00\">0</span>][<span style=\"color: #00af00; text-decoration-color: #00af00\">0</span>],   │\n",
       "│                     │                   │            │ lstm_125[<span style=\"color: #00af00; text-decoration-color: #00af00\">0</span>][<span style=\"color: #00af00; text-decoration-color: #00af00\">0</span>]    │\n",
       "├─────────────────────┼───────────────────┼────────────┼───────────────────┤\n",
       "│ dense_42 (<span style=\"color: #0087ff; text-decoration-color: #0087ff\">Dense</span>)    │ (<span style=\"color: #00d7ff; text-decoration-color: #00d7ff\">None</span>, <span style=\"color: #00af00; text-decoration-color: #00af00\">160</span>)       │     <span style=\"color: #00af00; text-decoration-color: #00af00\">19,360</span> │ concatenate_21[<span style=\"color: #00af00; text-decoration-color: #00af00\">0</span>… │\n",
       "├─────────────────────┼───────────────────┼────────────┼───────────────────┤\n",
       "│ dense_43 (<span style=\"color: #0087ff; text-decoration-color: #0087ff\">Dense</span>)    │ (<span style=\"color: #00d7ff; text-decoration-color: #00d7ff\">None</span>, <span style=\"color: #00af00; text-decoration-color: #00af00\">1</span>)         │        <span style=\"color: #00af00; text-decoration-color: #00af00\">161</span> │ dense_42[<span style=\"color: #00af00; text-decoration-color: #00af00\">0</span>][<span style=\"color: #00af00; text-decoration-color: #00af00\">0</span>]    │\n",
       "└─────────────────────┴───────────────────┴────────────┴───────────────────┘\n",
       "</pre>\n"
      ],
      "text/plain": [
       "┏━━━━━━━━━━━━━━━━━━━━━┳━━━━━━━━━━━━━━━━━━━┳━━━━━━━━━━━━┳━━━━━━━━━━━━━━━━━━━┓\n",
       "┃\u001b[1m \u001b[0m\u001b[1mLayer (type)       \u001b[0m\u001b[1m \u001b[0m┃\u001b[1m \u001b[0m\u001b[1mOutput Shape     \u001b[0m\u001b[1m \u001b[0m┃\u001b[1m \u001b[0m\u001b[1m   Param #\u001b[0m\u001b[1m \u001b[0m┃\u001b[1m \u001b[0m\u001b[1mConnected to     \u001b[0m\u001b[1m \u001b[0m┃\n",
       "┡━━━━━━━━━━━━━━━━━━━━━╇━━━━━━━━━━━━━━━━━━━╇━━━━━━━━━━━━╇━━━━━━━━━━━━━━━━━━━┩\n",
       "│ input_acc_x         │ (\u001b[38;5;45mNone\u001b[0m, \u001b[38;5;34m20\u001b[0m, \u001b[38;5;34m1\u001b[0m)     │          \u001b[38;5;34m0\u001b[0m │ -                 │\n",
       "│ (\u001b[38;5;33mInputLayer\u001b[0m)        │                   │            │                   │\n",
       "├─────────────────────┼───────────────────┼────────────┼───────────────────┤\n",
       "│ input_acc_y         │ (\u001b[38;5;45mNone\u001b[0m, \u001b[38;5;34m20\u001b[0m, \u001b[38;5;34m1\u001b[0m)     │          \u001b[38;5;34m0\u001b[0m │ -                 │\n",
       "│ (\u001b[38;5;33mInputLayer\u001b[0m)        │                   │            │                   │\n",
       "├─────────────────────┼───────────────────┼────────────┼───────────────────┤\n",
       "│ input_acc_z         │ (\u001b[38;5;45mNone\u001b[0m, \u001b[38;5;34m20\u001b[0m, \u001b[38;5;34m1\u001b[0m)     │          \u001b[38;5;34m0\u001b[0m │ -                 │\n",
       "│ (\u001b[38;5;33mInputLayer\u001b[0m)        │                   │            │                   │\n",
       "├─────────────────────┼───────────────────┼────────────┼───────────────────┤\n",
       "│ input_bvp           │ (\u001b[38;5;45mNone\u001b[0m, \u001b[38;5;34m20\u001b[0m, \u001b[38;5;34m1\u001b[0m)     │          \u001b[38;5;34m0\u001b[0m │ -                 │\n",
       "│ (\u001b[38;5;33mInputLayer\u001b[0m)        │                   │            │                   │\n",
       "├─────────────────────┼───────────────────┼────────────┼───────────────────┤\n",
       "│ input_eda           │ (\u001b[38;5;45mNone\u001b[0m, \u001b[38;5;34m20\u001b[0m, \u001b[38;5;34m1\u001b[0m)     │          \u001b[38;5;34m0\u001b[0m │ -                 │\n",
       "│ (\u001b[38;5;33mInputLayer\u001b[0m)        │                   │            │                   │\n",
       "├─────────────────────┼───────────────────┼────────────┼───────────────────┤\n",
       "│ input_temp          │ (\u001b[38;5;45mNone\u001b[0m, \u001b[38;5;34m20\u001b[0m, \u001b[38;5;34m1\u001b[0m)     │          \u001b[38;5;34m0\u001b[0m │ -                 │\n",
       "│ (\u001b[38;5;33mInputLayer\u001b[0m)        │                   │            │                   │\n",
       "├─────────────────────┼───────────────────┼────────────┼───────────────────┤\n",
       "│ lstm_120 (\u001b[38;5;33mLSTM\u001b[0m)     │ (\u001b[38;5;45mNone\u001b[0m, \u001b[38;5;34m20\u001b[0m)        │      \u001b[38;5;34m1,760\u001b[0m │ input_acc_x[\u001b[38;5;34m0\u001b[0m][\u001b[38;5;34m0\u001b[0m] │\n",
       "├─────────────────────┼───────────────────┼────────────┼───────────────────┤\n",
       "│ lstm_121 (\u001b[38;5;33mLSTM\u001b[0m)     │ (\u001b[38;5;45mNone\u001b[0m, \u001b[38;5;34m20\u001b[0m)        │      \u001b[38;5;34m1,760\u001b[0m │ input_acc_y[\u001b[38;5;34m0\u001b[0m][\u001b[38;5;34m0\u001b[0m] │\n",
       "├─────────────────────┼───────────────────┼────────────┼───────────────────┤\n",
       "│ lstm_122 (\u001b[38;5;33mLSTM\u001b[0m)     │ (\u001b[38;5;45mNone\u001b[0m, \u001b[38;5;34m20\u001b[0m)        │      \u001b[38;5;34m1,760\u001b[0m │ input_acc_z[\u001b[38;5;34m0\u001b[0m][\u001b[38;5;34m0\u001b[0m] │\n",
       "├─────────────────────┼───────────────────┼────────────┼───────────────────┤\n",
       "│ lstm_123 (\u001b[38;5;33mLSTM\u001b[0m)     │ (\u001b[38;5;45mNone\u001b[0m, \u001b[38;5;34m20\u001b[0m)        │      \u001b[38;5;34m1,760\u001b[0m │ input_bvp[\u001b[38;5;34m0\u001b[0m][\u001b[38;5;34m0\u001b[0m]   │\n",
       "├─────────────────────┼───────────────────┼────────────┼───────────────────┤\n",
       "│ lstm_124 (\u001b[38;5;33mLSTM\u001b[0m)     │ (\u001b[38;5;45mNone\u001b[0m, \u001b[38;5;34m20\u001b[0m)        │      \u001b[38;5;34m1,760\u001b[0m │ input_eda[\u001b[38;5;34m0\u001b[0m][\u001b[38;5;34m0\u001b[0m]   │\n",
       "├─────────────────────┼───────────────────┼────────────┼───────────────────┤\n",
       "│ lstm_125 (\u001b[38;5;33mLSTM\u001b[0m)     │ (\u001b[38;5;45mNone\u001b[0m, \u001b[38;5;34m20\u001b[0m)        │      \u001b[38;5;34m1,760\u001b[0m │ input_temp[\u001b[38;5;34m0\u001b[0m][\u001b[38;5;34m0\u001b[0m]  │\n",
       "├─────────────────────┼───────────────────┼────────────┼───────────────────┤\n",
       "│ concatenate_21      │ (\u001b[38;5;45mNone\u001b[0m, \u001b[38;5;34m120\u001b[0m)       │          \u001b[38;5;34m0\u001b[0m │ lstm_120[\u001b[38;5;34m0\u001b[0m][\u001b[38;5;34m0\u001b[0m],   │\n",
       "│ (\u001b[38;5;33mConcatenate\u001b[0m)       │                   │            │ lstm_121[\u001b[38;5;34m0\u001b[0m][\u001b[38;5;34m0\u001b[0m],   │\n",
       "│                     │                   │            │ lstm_122[\u001b[38;5;34m0\u001b[0m][\u001b[38;5;34m0\u001b[0m],   │\n",
       "│                     │                   │            │ lstm_123[\u001b[38;5;34m0\u001b[0m][\u001b[38;5;34m0\u001b[0m],   │\n",
       "│                     │                   │            │ lstm_124[\u001b[38;5;34m0\u001b[0m][\u001b[38;5;34m0\u001b[0m],   │\n",
       "│                     │                   │            │ lstm_125[\u001b[38;5;34m0\u001b[0m][\u001b[38;5;34m0\u001b[0m]    │\n",
       "├─────────────────────┼───────────────────┼────────────┼───────────────────┤\n",
       "│ dense_42 (\u001b[38;5;33mDense\u001b[0m)    │ (\u001b[38;5;45mNone\u001b[0m, \u001b[38;5;34m160\u001b[0m)       │     \u001b[38;5;34m19,360\u001b[0m │ concatenate_21[\u001b[38;5;34m0\u001b[0m… │\n",
       "├─────────────────────┼───────────────────┼────────────┼───────────────────┤\n",
       "│ dense_43 (\u001b[38;5;33mDense\u001b[0m)    │ (\u001b[38;5;45mNone\u001b[0m, \u001b[38;5;34m1\u001b[0m)         │        \u001b[38;5;34m161\u001b[0m │ dense_42[\u001b[38;5;34m0\u001b[0m][\u001b[38;5;34m0\u001b[0m]    │\n",
       "└─────────────────────┴───────────────────┴────────────┴───────────────────┘\n"
      ]
     },
     "metadata": {},
     "output_type": "display_data"
    },
    {
     "data": {
      "text/html": [
       "<pre style=\"white-space:pre;overflow-x:auto;line-height:normal;font-family:Menlo,'DejaVu Sans Mono',consolas,'Courier New',monospace\"><span style=\"font-weight: bold\"> Total params: </span><span style=\"color: #00af00; text-decoration-color: #00af00\">30,081</span> (117.50 KB)\n",
       "</pre>\n"
      ],
      "text/plain": [
       "\u001b[1m Total params: \u001b[0m\u001b[38;5;34m30,081\u001b[0m (117.50 KB)\n"
      ]
     },
     "metadata": {},
     "output_type": "display_data"
    },
    {
     "data": {
      "text/html": [
       "<pre style=\"white-space:pre;overflow-x:auto;line-height:normal;font-family:Menlo,'DejaVu Sans Mono',consolas,'Courier New',monospace\"><span style=\"font-weight: bold\"> Trainable params: </span><span style=\"color: #00af00; text-decoration-color: #00af00\">30,081</span> (117.50 KB)\n",
       "</pre>\n"
      ],
      "text/plain": [
       "\u001b[1m Trainable params: \u001b[0m\u001b[38;5;34m30,081\u001b[0m (117.50 KB)\n"
      ]
     },
     "metadata": {},
     "output_type": "display_data"
    },
    {
     "data": {
      "text/html": [
       "<pre style=\"white-space:pre;overflow-x:auto;line-height:normal;font-family:Menlo,'DejaVu Sans Mono',consolas,'Courier New',monospace\"><span style=\"font-weight: bold\"> Non-trainable params: </span><span style=\"color: #00af00; text-decoration-color: #00af00\">0</span> (0.00 B)\n",
       "</pre>\n"
      ],
      "text/plain": [
       "\u001b[1m Non-trainable params: \u001b[0m\u001b[38;5;34m0\u001b[0m (0.00 B)\n"
      ]
     },
     "metadata": {},
     "output_type": "display_data"
    },
    {
     "name": "stdout",
     "output_type": "stream",
     "text": [
      "Shape of train_inputs: 6, (3693, 20, 1)\n",
      "Length of train_labels: 3693\n",
      "Class weights: {0: 0.5910691421254801, 1: 3.2451669595782073}\n",
      "Epoch 1/100\n"
     ]
    },
    {
     "name": "stderr",
     "output_type": "stream",
     "text": [
      "C:\\Users\\Irimieş Vasile\\AppData\\Local\\Temp\\ipykernel_18884\\2136188881.py:26: FutureWarning: Downcasting behavior in `replace` is deprecated and will be removed in a future version. To retain the old behavior, explicitly call `result.infer_objects(copy=False)`. To opt-in to the future behavior, set `pd.set_option('future.no_silent_downcasting', True)`\n",
      "  train_labels = train_set['label'].replace({'baseline': 0, 'stress': 1}).values[:len(train_inputs[0])]  # Convert to numpy array\n",
      "c:\\Python310\\lib\\site-packages\\keras\\src\\models\\functional.py:225: UserWarning: The structure of `inputs` doesn't match the expected structure: ['input_acc_x', 'input_acc_y', 'input_acc_z', 'input_bvp', 'input_eda', 'input_temp']. Received: the structure of inputs=('*', '*', '*', '*', '*', '*')\n",
      "  warnings.warn(\n"
     ]
    },
    {
     "name": "stdout",
     "output_type": "stream",
     "text": [
      "\u001b[1m116/116\u001b[0m \u001b[32m━━━━━━━━━━━━━━━━━━━━\u001b[0m\u001b[37m\u001b[0m \u001b[1m10s\u001b[0m 22ms/step - accuracy: 0.6363 - loss: 0.6849\n",
      "Epoch 2/100\n",
      "\u001b[1m116/116\u001b[0m \u001b[32m━━━━━━━━━━━━━━━━━━━━\u001b[0m\u001b[37m\u001b[0m \u001b[1m3s\u001b[0m 22ms/step - accuracy: 0.6065 - loss: 0.6931\n",
      "Epoch 3/100\n",
      "\u001b[1m116/116\u001b[0m \u001b[32m━━━━━━━━━━━━━━━━━━━━\u001b[0m\u001b[37m\u001b[0m \u001b[1m3s\u001b[0m 22ms/step - accuracy: 0.5975 - loss: 0.6931\n",
      "Epoch 4/100\n",
      "\u001b[1m116/116\u001b[0m \u001b[32m━━━━━━━━━━━━━━━━━━━━\u001b[0m\u001b[37m\u001b[0m \u001b[1m3s\u001b[0m 24ms/step - accuracy: 0.5970 - loss: 0.6872\n",
      "Epoch 5/100\n",
      "\u001b[1m116/116\u001b[0m \u001b[32m━━━━━━━━━━━━━━━━━━━━\u001b[0m\u001b[37m\u001b[0m \u001b[1m5s\u001b[0m 22ms/step - accuracy: 0.6261 - loss: 0.6851\n",
      "Epoch 6/100\n",
      "\u001b[1m116/116\u001b[0m \u001b[32m━━━━━━━━━━━━━━━━━━━━\u001b[0m\u001b[37m\u001b[0m \u001b[1m3s\u001b[0m 26ms/step - accuracy: 0.5871 - loss: 0.7048\n",
      "Epoch 7/100\n",
      "\u001b[1m116/116\u001b[0m \u001b[32m━━━━━━━━━━━━━━━━━━━━\u001b[0m\u001b[37m\u001b[0m \u001b[1m3s\u001b[0m 27ms/step - accuracy: 0.5387 - loss: 0.7112\n",
      "Epoch 8/100\n",
      "\u001b[1m116/116\u001b[0m \u001b[32m━━━━━━━━━━━━━━━━━━━━\u001b[0m\u001b[37m\u001b[0m \u001b[1m3s\u001b[0m 26ms/step - accuracy: 0.5918 - loss: 0.7102\n",
      "Epoch 9/100\n",
      "\u001b[1m116/116\u001b[0m \u001b[32m━━━━━━━━━━━━━━━━━━━━\u001b[0m\u001b[37m\u001b[0m \u001b[1m3s\u001b[0m 25ms/step - accuracy: 0.6166 - loss: 0.6923\n",
      "Epoch 10/100\n",
      "\u001b[1m116/116\u001b[0m \u001b[32m━━━━━━━━━━━━━━━━━━━━\u001b[0m\u001b[37m\u001b[0m \u001b[1m3s\u001b[0m 25ms/step - accuracy: 0.6265 - loss: 0.6799\n",
      "Epoch 11/100\n",
      "\u001b[1m116/116\u001b[0m \u001b[32m━━━━━━━━━━━━━━━━━━━━\u001b[0m\u001b[37m\u001b[0m \u001b[1m3s\u001b[0m 26ms/step - accuracy: 0.6197 - loss: 0.6686\n",
      "Epoch 12/100\n",
      "\u001b[1m116/116\u001b[0m \u001b[32m━━━━━━━━━━━━━━━━━━━━\u001b[0m\u001b[37m\u001b[0m \u001b[1m3s\u001b[0m 26ms/step - accuracy: 0.5164 - loss: 0.7001\n",
      "Epoch 13/100\n",
      "\u001b[1m116/116\u001b[0m \u001b[32m━━━━━━━━━━━━━━━━━━━━\u001b[0m\u001b[37m\u001b[0m \u001b[1m3s\u001b[0m 26ms/step - accuracy: 0.6318 - loss: 0.6957\n",
      "Epoch 14/100\n",
      "\u001b[1m116/116\u001b[0m \u001b[32m━━━━━━━━━━━━━━━━━━━━\u001b[0m\u001b[37m\u001b[0m \u001b[1m4s\u001b[0m 34ms/step - accuracy: 0.5810 - loss: 0.7005\n",
      "Epoch 15/100\n",
      "\u001b[1m116/116\u001b[0m \u001b[32m━━━━━━━━━━━━━━━━━━━━\u001b[0m\u001b[37m\u001b[0m \u001b[1m4s\u001b[0m 31ms/step - accuracy: 0.6407 - loss: 0.6671\n",
      "Epoch 16/100\n",
      "\u001b[1m116/116\u001b[0m \u001b[32m━━━━━━━━━━━━━━━━━━━━\u001b[0m\u001b[37m\u001b[0m \u001b[1m3s\u001b[0m 27ms/step - accuracy: 0.6234 - loss: 0.7018\n",
      "Epoch 17/100\n",
      "\u001b[1m116/116\u001b[0m \u001b[32m━━━━━━━━━━━━━━━━━━━━\u001b[0m\u001b[37m\u001b[0m \u001b[1m3s\u001b[0m 26ms/step - accuracy: 0.6421 - loss: 0.6900\n",
      "Epoch 18/100\n",
      "\u001b[1m116/116\u001b[0m \u001b[32m━━━━━━━━━━━━━━━━━━━━\u001b[0m\u001b[37m\u001b[0m \u001b[1m3s\u001b[0m 27ms/step - accuracy: 0.6225 - loss: 0.6801\n",
      "Epoch 19/100\n",
      "\u001b[1m116/116\u001b[0m \u001b[32m━━━━━━━━━━━━━━━━━━━━\u001b[0m\u001b[37m\u001b[0m \u001b[1m3s\u001b[0m 28ms/step - accuracy: 0.6276 - loss: 0.6791\n",
      "Epoch 20/100\n",
      "\u001b[1m116/116\u001b[0m \u001b[32m━━━━━━━━━━━━━━━━━━━━\u001b[0m\u001b[37m\u001b[0m \u001b[1m3s\u001b[0m 27ms/step - accuracy: 0.6310 - loss: 0.6996\n",
      "Epoch 21/100\n",
      "\u001b[1m116/116\u001b[0m \u001b[32m━━━━━━━━━━━━━━━━━━━━\u001b[0m\u001b[37m\u001b[0m \u001b[1m3s\u001b[0m 26ms/step - accuracy: 0.6286 - loss: 0.6820\n",
      "Epoch 22/100\n",
      "\u001b[1m116/116\u001b[0m \u001b[32m━━━━━━━━━━━━━━━━━━━━\u001b[0m\u001b[37m\u001b[0m \u001b[1m3s\u001b[0m 27ms/step - accuracy: 0.6260 - loss: 0.7072\n",
      "Epoch 23/100\n",
      "\u001b[1m116/116\u001b[0m \u001b[32m━━━━━━━━━━━━━━━━━━━━\u001b[0m\u001b[37m\u001b[0m \u001b[1m3s\u001b[0m 27ms/step - accuracy: 0.6288 - loss: 0.6853\n",
      "Epoch 24/100\n",
      "\u001b[1m116/116\u001b[0m \u001b[32m━━━━━━━━━━━━━━━━━━━━\u001b[0m\u001b[37m\u001b[0m \u001b[1m3s\u001b[0m 25ms/step - accuracy: 0.6191 - loss: 0.7017\n",
      "Epoch 25/100\n",
      "\u001b[1m116/116\u001b[0m \u001b[32m━━━━━━━━━━━━━━━━━━━━\u001b[0m\u001b[37m\u001b[0m \u001b[1m3s\u001b[0m 27ms/step - accuracy: 0.6337 - loss: 0.6948\n",
      "Epoch 26/100\n",
      "\u001b[1m116/116\u001b[0m \u001b[32m━━━━━━━━━━━━━━━━━━━━\u001b[0m\u001b[37m\u001b[0m \u001b[1m3s\u001b[0m 27ms/step - accuracy: 0.6380 - loss: 0.6889\n",
      "Epoch 27/100\n",
      "\u001b[1m116/116\u001b[0m \u001b[32m━━━━━━━━━━━━━━━━━━━━\u001b[0m\u001b[37m\u001b[0m \u001b[1m3s\u001b[0m 29ms/step - accuracy: 0.6394 - loss: 0.7001\n",
      "Epoch 28/100\n",
      "\u001b[1m116/116\u001b[0m \u001b[32m━━━━━━━━━━━━━━━━━━━━\u001b[0m\u001b[37m\u001b[0m \u001b[1m3s\u001b[0m 27ms/step - accuracy: 0.6402 - loss: 0.6790\n",
      "Epoch 29/100\n",
      "\u001b[1m116/116\u001b[0m \u001b[32m━━━━━━━━━━━━━━━━━━━━\u001b[0m\u001b[37m\u001b[0m \u001b[1m3s\u001b[0m 26ms/step - accuracy: 0.6111 - loss: 0.6874\n",
      "Epoch 30/100\n",
      "\u001b[1m116/116\u001b[0m \u001b[32m━━━━━━━━━━━━━━━━━━━━\u001b[0m\u001b[37m\u001b[0m \u001b[1m3s\u001b[0m 26ms/step - accuracy: 0.6309 - loss: 0.6831\n",
      "Epoch 31/100\n",
      "\u001b[1m116/116\u001b[0m \u001b[32m━━━━━━━━━━━━━━━━━━━━\u001b[0m\u001b[37m\u001b[0m \u001b[1m4s\u001b[0m 32ms/step - accuracy: 0.6237 - loss: 0.6962\n",
      "Epoch 32/100\n",
      "\u001b[1m116/116\u001b[0m \u001b[32m━━━━━━━━━━━━━━━━━━━━\u001b[0m\u001b[37m\u001b[0m \u001b[1m4s\u001b[0m 30ms/step - accuracy: 0.6387 - loss: 0.6784\n",
      "Epoch 33/100\n",
      "\u001b[1m116/116\u001b[0m \u001b[32m━━━━━━━━━━━━━━━━━━━━\u001b[0m\u001b[37m\u001b[0m \u001b[1m3s\u001b[0m 29ms/step - accuracy: 0.6245 - loss: 0.6831\n",
      "Epoch 34/100\n",
      "\u001b[1m116/116\u001b[0m \u001b[32m━━━━━━━━━━━━━━━━━━━━\u001b[0m\u001b[37m\u001b[0m \u001b[1m3s\u001b[0m 26ms/step - accuracy: 0.6323 - loss: 0.6798\n",
      "Epoch 35/100\n",
      "\u001b[1m116/116\u001b[0m \u001b[32m━━━━━━━━━━━━━━━━━━━━\u001b[0m\u001b[37m\u001b[0m \u001b[1m3s\u001b[0m 27ms/step - accuracy: 0.6312 - loss: 0.6823\n",
      "Epoch 36/100\n",
      "\u001b[1m116/116\u001b[0m \u001b[32m━━━━━━━━━━━━━━━━━━━━\u001b[0m\u001b[37m\u001b[0m \u001b[1m3s\u001b[0m 26ms/step - accuracy: 0.6205 - loss: 0.7001\n",
      "Epoch 37/100\n",
      "\u001b[1m116/116\u001b[0m \u001b[32m━━━━━━━━━━━━━━━━━━━━\u001b[0m\u001b[37m\u001b[0m \u001b[1m3s\u001b[0m 26ms/step - accuracy: 0.6239 - loss: 0.6983\n",
      "Epoch 38/100\n",
      "\u001b[1m116/116\u001b[0m \u001b[32m━━━━━━━━━━━━━━━━━━━━\u001b[0m\u001b[37m\u001b[0m \u001b[1m3s\u001b[0m 26ms/step - accuracy: 0.6264 - loss: 0.6916\n",
      "Epoch 39/100\n",
      "\u001b[1m116/116\u001b[0m \u001b[32m━━━━━━━━━━━━━━━━━━━━\u001b[0m\u001b[37m\u001b[0m \u001b[1m3s\u001b[0m 26ms/step - accuracy: 0.6251 - loss: 0.6936\n",
      "Epoch 40/100\n",
      "\u001b[1m116/116\u001b[0m \u001b[32m━━━━━━━━━━━━━━━━━━━━\u001b[0m\u001b[37m\u001b[0m \u001b[1m3s\u001b[0m 26ms/step - accuracy: 0.6230 - loss: 0.6980\n",
      "Epoch 41/100\n",
      "\u001b[1m116/116\u001b[0m \u001b[32m━━━━━━━━━━━━━━━━━━━━\u001b[0m\u001b[37m\u001b[0m \u001b[1m3s\u001b[0m 27ms/step - accuracy: 0.6329 - loss: 0.6813\n",
      "Epoch 42/100\n",
      "\u001b[1m116/116\u001b[0m \u001b[32m━━━━━━━━━━━━━━━━━━━━\u001b[0m\u001b[37m\u001b[0m \u001b[1m3s\u001b[0m 26ms/step - accuracy: 0.6252 - loss: 0.6719\n",
      "Epoch 43/100\n",
      "\u001b[1m116/116\u001b[0m \u001b[32m━━━━━━━━━━━━━━━━━━━━\u001b[0m\u001b[37m\u001b[0m \u001b[1m3s\u001b[0m 27ms/step - accuracy: 0.6408 - loss: 0.6754\n",
      "Epoch 44/100\n",
      "\u001b[1m116/116\u001b[0m \u001b[32m━━━━━━━━━━━━━━━━━━━━\u001b[0m\u001b[37m\u001b[0m \u001b[1m3s\u001b[0m 26ms/step - accuracy: 0.6257 - loss: 0.6904\n",
      "Epoch 45/100\n",
      "\u001b[1m116/116\u001b[0m \u001b[32m━━━━━━━━━━━━━━━━━━━━\u001b[0m\u001b[37m\u001b[0m \u001b[1m3s\u001b[0m 26ms/step - accuracy: 0.6256 - loss: 0.6896\n",
      "Epoch 46/100\n",
      "\u001b[1m116/116\u001b[0m \u001b[32m━━━━━━━━━━━━━━━━━━━━\u001b[0m\u001b[37m\u001b[0m \u001b[1m3s\u001b[0m 27ms/step - accuracy: 0.6204 - loss: 0.6960\n",
      "Epoch 47/100\n",
      "\u001b[1m116/116\u001b[0m \u001b[32m━━━━━━━━━━━━━━━━━━━━\u001b[0m\u001b[37m\u001b[0m \u001b[1m3s\u001b[0m 29ms/step - accuracy: 0.6420 - loss: 0.6749\n",
      "Epoch 48/100\n",
      "\u001b[1m116/116\u001b[0m \u001b[32m━━━━━━━━━━━━━━━━━━━━\u001b[0m\u001b[37m\u001b[0m \u001b[1m4s\u001b[0m 30ms/step - accuracy: 0.6363 - loss: 0.6815\n",
      "Epoch 49/100\n",
      "\u001b[1m116/116\u001b[0m \u001b[32m━━━━━━━━━━━━━━━━━━━━\u001b[0m\u001b[37m\u001b[0m \u001b[1m3s\u001b[0m 26ms/step - accuracy: 0.6361 - loss: 0.6971\n",
      "Epoch 50/100\n",
      "\u001b[1m116/116\u001b[0m \u001b[32m━━━━━━━━━━━━━━━━━━━━\u001b[0m\u001b[37m\u001b[0m \u001b[1m3s\u001b[0m 26ms/step - accuracy: 0.6252 - loss: 0.6931\n",
      "Epoch 51/100\n",
      "\u001b[1m116/116\u001b[0m \u001b[32m━━━━━━━━━━━━━━━━━━━━\u001b[0m\u001b[37m\u001b[0m \u001b[1m3s\u001b[0m 28ms/step - accuracy: 0.6135 - loss: 0.6913\n",
      "Epoch 52/100\n",
      "\u001b[1m116/116\u001b[0m \u001b[32m━━━━━━━━━━━━━━━━━━━━\u001b[0m\u001b[37m\u001b[0m \u001b[1m3s\u001b[0m 29ms/step - accuracy: 0.6308 - loss: 0.6993\n",
      "Epoch 53/100\n",
      "\u001b[1m116/116\u001b[0m \u001b[32m━━━━━━━━━━━━━━━━━━━━\u001b[0m\u001b[37m\u001b[0m \u001b[1m3s\u001b[0m 27ms/step - accuracy: 0.6348 - loss: 0.6922\n",
      "Epoch 54/100\n",
      "\u001b[1m116/116\u001b[0m \u001b[32m━━━━━━━━━━━━━━━━━━━━\u001b[0m\u001b[37m\u001b[0m \u001b[1m3s\u001b[0m 27ms/step - accuracy: 0.6331 - loss: 0.6839\n",
      "Epoch 55/100\n",
      "\u001b[1m116/116\u001b[0m \u001b[32m━━━━━━━━━━━━━━━━━━━━\u001b[0m\u001b[37m\u001b[0m \u001b[1m3s\u001b[0m 28ms/step - accuracy: 0.6329 - loss: 0.6720\n",
      "Epoch 56/100\n",
      "\u001b[1m116/116\u001b[0m \u001b[32m━━━━━━━━━━━━━━━━━━━━\u001b[0m\u001b[37m\u001b[0m \u001b[1m3s\u001b[0m 27ms/step - accuracy: 0.6318 - loss: 0.6953\n",
      "Epoch 57/100\n",
      "\u001b[1m116/116\u001b[0m \u001b[32m━━━━━━━━━━━━━━━━━━━━\u001b[0m\u001b[37m\u001b[0m \u001b[1m3s\u001b[0m 27ms/step - accuracy: 0.6390 - loss: 0.6742\n",
      "Epoch 58/100\n",
      "\u001b[1m116/116\u001b[0m \u001b[32m━━━━━━━━━━━━━━━━━━━━\u001b[0m\u001b[37m\u001b[0m \u001b[1m3s\u001b[0m 28ms/step - accuracy: 0.6386 - loss: 0.6734\n",
      "Epoch 59/100\n",
      "\u001b[1m116/116\u001b[0m \u001b[32m━━━━━━━━━━━━━━━━━━━━\u001b[0m\u001b[37m\u001b[0m \u001b[1m3s\u001b[0m 27ms/step - accuracy: 0.6244 - loss: 0.6964\n",
      "Epoch 60/100\n",
      "\u001b[1m116/116\u001b[0m \u001b[32m━━━━━━━━━━━━━━━━━━━━\u001b[0m\u001b[37m\u001b[0m \u001b[1m3s\u001b[0m 28ms/step - accuracy: 0.6257 - loss: 0.6938\n",
      "Epoch 61/100\n",
      "\u001b[1m116/116\u001b[0m \u001b[32m━━━━━━━━━━━━━━━━━━━━\u001b[0m\u001b[37m\u001b[0m \u001b[1m3s\u001b[0m 27ms/step - accuracy: 0.6368 - loss: 0.6869\n",
      "Epoch 62/100\n",
      "\u001b[1m116/116\u001b[0m \u001b[32m━━━━━━━━━━━━━━━━━━━━\u001b[0m\u001b[37m\u001b[0m \u001b[1m3s\u001b[0m 28ms/step - accuracy: 0.5121 - loss: 0.7079\n",
      "Epoch 63/100\n",
      "\u001b[1m116/116\u001b[0m \u001b[32m━━━━━━━━━━━━━━━━━━━━\u001b[0m\u001b[37m\u001b[0m \u001b[1m3s\u001b[0m 28ms/step - accuracy: 0.6282 - loss: 0.6824\n",
      "Epoch 64/100\n",
      "\u001b[1m116/116\u001b[0m \u001b[32m━━━━━━━━━━━━━━━━━━━━\u001b[0m\u001b[37m\u001b[0m \u001b[1m3s\u001b[0m 27ms/step - accuracy: 0.6356 - loss: 0.6779\n",
      "Epoch 65/100\n",
      "\u001b[1m116/116\u001b[0m \u001b[32m━━━━━━━━━━━━━━━━━━━━\u001b[0m\u001b[37m\u001b[0m \u001b[1m3s\u001b[0m 27ms/step - accuracy: 0.6262 - loss: 0.7073\n",
      "Epoch 66/100\n",
      "\u001b[1m116/116\u001b[0m \u001b[32m━━━━━━━━━━━━━━━━━━━━\u001b[0m\u001b[37m\u001b[0m \u001b[1m3s\u001b[0m 27ms/step - accuracy: 0.6239 - loss: 0.6797\n",
      "Epoch 67/100\n",
      "\u001b[1m116/116\u001b[0m \u001b[32m━━━━━━━━━━━━━━━━━━━━\u001b[0m\u001b[37m\u001b[0m \u001b[1m4s\u001b[0m 30ms/step - accuracy: 0.6264 - loss: 0.6888\n",
      "Epoch 68/100\n",
      "\u001b[1m116/116\u001b[0m \u001b[32m━━━━━━━━━━━━━━━━━━━━\u001b[0m\u001b[37m\u001b[0m \u001b[1m3s\u001b[0m 30ms/step - accuracy: 0.6271 - loss: 0.6896\n",
      "Epoch 69/100\n",
      "\u001b[1m116/116\u001b[0m \u001b[32m━━━━━━━━━━━━━━━━━━━━\u001b[0m\u001b[37m\u001b[0m \u001b[1m3s\u001b[0m 29ms/step - accuracy: 0.6326 - loss: 0.6899\n",
      "Epoch 70/100\n",
      "\u001b[1m116/116\u001b[0m \u001b[32m━━━━━━━━━━━━━━━━━━━━\u001b[0m\u001b[37m\u001b[0m \u001b[1m3s\u001b[0m 27ms/step - accuracy: 0.6221 - loss: 0.6914\n",
      "Epoch 71/100\n",
      "\u001b[1m116/116\u001b[0m \u001b[32m━━━━━━━━━━━━━━━━━━━━\u001b[0m\u001b[37m\u001b[0m \u001b[1m3s\u001b[0m 28ms/step - accuracy: 0.6341 - loss: 0.6993\n",
      "Epoch 72/100\n",
      "\u001b[1m116/116\u001b[0m \u001b[32m━━━━━━━━━━━━━━━━━━━━\u001b[0m\u001b[37m\u001b[0m \u001b[1m3s\u001b[0m 28ms/step - accuracy: 0.6289 - loss: 0.6904\n",
      "Epoch 73/100\n",
      "\u001b[1m116/116\u001b[0m \u001b[32m━━━━━━━━━━━━━━━━━━━━\u001b[0m\u001b[37m\u001b[0m \u001b[1m3s\u001b[0m 28ms/step - accuracy: 0.6231 - loss: 0.6928\n",
      "Epoch 74/100\n",
      "\u001b[1m116/116\u001b[0m \u001b[32m━━━━━━━━━━━━━━━━━━━━\u001b[0m\u001b[37m\u001b[0m \u001b[1m3s\u001b[0m 28ms/step - accuracy: 0.6242 - loss: 0.7024\n",
      "Epoch 75/100\n",
      "\u001b[1m116/116\u001b[0m \u001b[32m━━━━━━━━━━━━━━━━━━━━\u001b[0m\u001b[37m\u001b[0m \u001b[1m3s\u001b[0m 29ms/step - accuracy: 0.6415 - loss: 0.6800\n",
      "Epoch 76/100\n",
      "\u001b[1m116/116\u001b[0m \u001b[32m━━━━━━━━━━━━━━━━━━━━\u001b[0m\u001b[37m\u001b[0m \u001b[1m3s\u001b[0m 28ms/step - accuracy: 0.6295 - loss: 0.6854\n",
      "Epoch 77/100\n",
      "\u001b[1m116/116\u001b[0m \u001b[32m━━━━━━━━━━━━━━━━━━━━\u001b[0m\u001b[37m\u001b[0m \u001b[1m3s\u001b[0m 28ms/step - accuracy: 0.6401 - loss: 0.6809\n",
      "Epoch 78/100\n",
      "\u001b[1m116/116\u001b[0m \u001b[32m━━━━━━━━━━━━━━━━━━━━\u001b[0m\u001b[37m\u001b[0m \u001b[1m3s\u001b[0m 28ms/step - accuracy: 0.6201 - loss: 0.6880\n",
      "Epoch 79/100\n",
      "\u001b[1m116/116\u001b[0m \u001b[32m━━━━━━━━━━━━━━━━━━━━\u001b[0m\u001b[37m\u001b[0m \u001b[1m3s\u001b[0m 28ms/step - accuracy: 0.6380 - loss: 0.6721\n",
      "Epoch 80/100\n",
      "\u001b[1m116/116\u001b[0m \u001b[32m━━━━━━━━━━━━━━━━━━━━\u001b[0m\u001b[37m\u001b[0m \u001b[1m3s\u001b[0m 29ms/step - accuracy: 0.6162 - loss: 0.7000\n",
      "Epoch 81/100\n",
      "\u001b[1m116/116\u001b[0m \u001b[32m━━━━━━━━━━━━━━━━━━━━\u001b[0m\u001b[37m\u001b[0m \u001b[1m3s\u001b[0m 29ms/step - accuracy: 0.6313 - loss: 0.6883\n",
      "Epoch 82/100\n",
      "\u001b[1m116/116\u001b[0m \u001b[32m━━━━━━━━━━━━━━━━━━━━\u001b[0m\u001b[37m\u001b[0m \u001b[1m3s\u001b[0m 28ms/step - accuracy: 0.6255 - loss: 0.6855\n",
      "Epoch 83/100\n",
      "\u001b[1m116/116\u001b[0m \u001b[32m━━━━━━━━━━━━━━━━━━━━\u001b[0m\u001b[37m\u001b[0m \u001b[1m3s\u001b[0m 28ms/step - accuracy: 0.6055 - loss: 0.6985\n",
      "Epoch 84/100\n",
      "\u001b[1m116/116\u001b[0m \u001b[32m━━━━━━━━━━━━━━━━━━━━\u001b[0m\u001b[37m\u001b[0m \u001b[1m3s\u001b[0m 27ms/step - accuracy: 0.6356 - loss: 0.6848\n",
      "Epoch 85/100\n",
      "\u001b[1m116/116\u001b[0m \u001b[32m━━━━━━━━━━━━━━━━━━━━\u001b[0m\u001b[37m\u001b[0m \u001b[1m3s\u001b[0m 29ms/step - accuracy: 0.6352 - loss: 0.6828\n",
      "Epoch 86/100\n",
      "\u001b[1m116/116\u001b[0m \u001b[32m━━━━━━━━━━━━━━━━━━━━\u001b[0m\u001b[37m\u001b[0m \u001b[1m3s\u001b[0m 28ms/step - accuracy: 0.6185 - loss: 0.7013\n",
      "Epoch 87/100\n",
      "\u001b[1m116/116\u001b[0m \u001b[32m━━━━━━━━━━━━━━━━━━━━\u001b[0m\u001b[37m\u001b[0m \u001b[1m4s\u001b[0m 31ms/step - accuracy: 0.6249 - loss: 0.7041\n",
      "Epoch 88/100\n",
      "\u001b[1m116/116\u001b[0m \u001b[32m━━━━━━━━━━━━━━━━━━━━\u001b[0m\u001b[37m\u001b[0m \u001b[1m3s\u001b[0m 29ms/step - accuracy: 0.6147 - loss: 0.6874\n",
      "Epoch 89/100\n",
      "\u001b[1m116/116\u001b[0m \u001b[32m━━━━━━━━━━━━━━━━━━━━\u001b[0m\u001b[37m\u001b[0m \u001b[1m3s\u001b[0m 28ms/step - accuracy: 0.6289 - loss: 0.7049\n",
      "Epoch 90/100\n",
      "\u001b[1m116/116\u001b[0m \u001b[32m━━━━━━━━━━━━━━━━━━━━\u001b[0m\u001b[37m\u001b[0m \u001b[1m3s\u001b[0m 27ms/step - accuracy: 0.6327 - loss: 0.6714\n",
      "Epoch 91/100\n",
      "\u001b[1m116/116\u001b[0m \u001b[32m━━━━━━━━━━━━━━━━━━━━\u001b[0m\u001b[37m\u001b[0m \u001b[1m3s\u001b[0m 28ms/step - accuracy: 0.6201 - loss: 0.6933\n",
      "Epoch 92/100\n",
      "\u001b[1m116/116\u001b[0m \u001b[32m━━━━━━━━━━━━━━━━━━━━\u001b[0m\u001b[37m\u001b[0m \u001b[1m3s\u001b[0m 27ms/step - accuracy: 0.6271 - loss: 0.6934\n",
      "Epoch 93/100\n",
      "\u001b[1m116/116\u001b[0m \u001b[32m━━━━━━━━━━━━━━━━━━━━\u001b[0m\u001b[37m\u001b[0m \u001b[1m3s\u001b[0m 28ms/step - accuracy: 0.6287 - loss: 0.7058\n",
      "Epoch 94/100\n",
      "\u001b[1m116/116\u001b[0m \u001b[32m━━━━━━━━━━━━━━━━━━━━\u001b[0m\u001b[37m\u001b[0m \u001b[1m4s\u001b[0m 37ms/step - accuracy: 0.6516 - loss: 0.6727\n",
      "Epoch 95/100\n",
      "\u001b[1m116/116\u001b[0m \u001b[32m━━━━━━━━━━━━━━━━━━━━\u001b[0m\u001b[37m\u001b[0m \u001b[1m4s\u001b[0m 34ms/step - accuracy: 0.6140 - loss: 0.6846\n",
      "Epoch 96/100\n",
      "\u001b[1m116/116\u001b[0m \u001b[32m━━━━━━━━━━━━━━━━━━━━\u001b[0m\u001b[37m\u001b[0m \u001b[1m4s\u001b[0m 31ms/step - accuracy: 0.6180 - loss: 0.6777\n",
      "Epoch 97/100\n",
      "\u001b[1m116/116\u001b[0m \u001b[32m━━━━━━━━━━━━━━━━━━━━\u001b[0m\u001b[37m\u001b[0m \u001b[1m3s\u001b[0m 29ms/step - accuracy: 0.6164 - loss: 0.6868\n",
      "Epoch 98/100\n",
      "\u001b[1m116/116\u001b[0m \u001b[32m━━━━━━━━━━━━━━━━━━━━\u001b[0m\u001b[37m\u001b[0m \u001b[1m3s\u001b[0m 29ms/step - accuracy: 0.6319 - loss: 0.6786\n",
      "Epoch 99/100\n",
      "\u001b[1m116/116\u001b[0m \u001b[32m━━━━━━━━━━━━━━━━━━━━\u001b[0m\u001b[37m\u001b[0m \u001b[1m4s\u001b[0m 30ms/step - accuracy: 0.6325 - loss: 0.6768\n",
      "Epoch 100/100\n",
      "\u001b[1m116/116\u001b[0m \u001b[32m━━━━━━━━━━━━━━━━━━━━\u001b[0m\u001b[37m\u001b[0m \u001b[1m3s\u001b[0m 29ms/step - accuracy: 0.6303 - loss: 0.6852\n",
      "Model trained in : 334.0465075969696 seconds\n"
     ]
    },
    {
     "name": "stderr",
     "output_type": "stream",
     "text": [
      "C:\\Users\\Irimieş Vasile\\AppData\\Local\\Temp\\ipykernel_18884\\2136188881.py:61: FutureWarning: Downcasting behavior in `replace` is deprecated and will be removed in a future version. To retain the old behavior, explicitly call `result.infer_objects(copy=False)`. To opt-in to the future behavior, set `pd.set_option('future.no_silent_downcasting', True)`\n",
      "  test_labels = test_set['label'].replace({'baseline': 0, 'stress': 1}).values[:len(test_inputs[0])]\n"
     ]
    },
    {
     "name": "stdout",
     "output_type": "stream",
     "text": [
      "\u001b[1m50/50\u001b[0m \u001b[32m━━━━━━━━━━━━━━━━━━━━\u001b[0m\u001b[37m\u001b[0m \u001b[1m3s\u001b[0m 33ms/step\n",
      "        Actual Predicted\n",
      "0     baseline  baseline\n",
      "1       stress  baseline\n",
      "2       stress    stress\n",
      "3       stress  baseline\n",
      "4     baseline    stress\n",
      "...        ...       ...\n",
      "1578    stress  baseline\n",
      "1579    stress    stress\n",
      "1580    stress  baseline\n",
      "1581  baseline  baseline\n",
      "1582  baseline  baseline\n",
      "\n",
      "[1583 rows x 2 columns]\n",
      "\n",
      "Accuracy: 0.5818066961465572\n",
      "Precision: 0.2459016393442623\n",
      "Recall: 0.3524804177545692\n"
     ]
    }
   ],
   "source": [
    "testModel(dataset, 0.3,20,1,160,100)"
   ]
  }
 ],
 "metadata": {
  "colab": {
   "provenance": []
  },
  "kernelspec": {
   "display_name": "Python 3",
   "name": "python3"
  },
  "language_info": {
   "codemirror_mode": {
    "name": "ipython",
    "version": 3
   },
   "file_extension": ".py",
   "mimetype": "text/x-python",
   "name": "python",
   "nbconvert_exporter": "python",
   "pygments_lexer": "ipython3",
   "version": "3.10.0"
  }
 },
 "nbformat": 4,
 "nbformat_minor": 0
}
