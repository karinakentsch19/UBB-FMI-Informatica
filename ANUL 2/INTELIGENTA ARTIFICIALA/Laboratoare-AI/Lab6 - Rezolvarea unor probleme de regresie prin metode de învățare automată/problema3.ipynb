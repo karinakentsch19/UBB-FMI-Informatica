{
 "cells": [
  {
   "cell_type": "code",
   "execution_count": 1,
   "metadata": {},
   "outputs": [],
   "source": [
    "def clasificationPerformance(ground_truth, computed_values, label):\n",
    "    \"\"\"\n",
    "    Returneaza TN (True Negative), FP(False Positive), FN(False Negative), TP(True Positive)\n",
    "    \"\"\"\n",
    "    TN = 0\n",
    "    FP = 0\n",
    "    FN = 0\n",
    "    TP = 0\n",
    "    \n",
    "    for i in range(0, len(ground_truth)):\n",
    "        #consideram malign = positive, benign = negative \n",
    "        if ground_truth[i] == label:\n",
    "            if computed_values[i] == label:\n",
    "                TP += 1\n",
    "            else:\n",
    "                FP += 1\n",
    "        else:\n",
    "            if computed_values[i] != label:\n",
    "                TN += 1\n",
    "            else:\n",
    "                FN += 1\n",
    "    return TN, FP, FN, TP\n",
    "\n",
    "\n",
    "def getAccuracy(TN, FP, FN, TP):\n",
    "    \"\"\" \n",
    "    accuracy represents the overall performance of classification model:\n",
    "    (TP+TN)/(TN+FP+FN+TP)\n",
    "    \"\"\"\n",
    "    if TN + FP + FN + TP == 0:\n",
    "        return 0\n",
    "    return (TP+TN)/(TN+FP+FN+TP)\n",
    "\n",
    "def getPrecision(FP, TP):\n",
    "    \"\"\"\n",
    "    precision indicates how accurate the positive predictions are \n",
    "    TP/(TP+FP)\n",
    "    \"\"\"\n",
    "    if TP + FP == 0:\n",
    "        return 0\n",
    "    return TP/(TP+FP)\n",
    "\n",
    "def getRecall(TP, FN):\n",
    "    \"\"\" \n",
    "    recall indicates the coverage of actual positive sample\n",
    "    TP/(TP+FN)\n",
    "    \"\"\"\n",
    "    if TP + FN == 0:\n",
    "        return 0\n",
    "    return TP/(TP+FN)\n"
   ]
  },
  {
   "cell_type": "code",
   "execution_count": 2,
   "metadata": {},
   "outputs": [],
   "source": [
    "from ucimlrepo import fetch_ucirepo \n",
    "import pandas as pd\n",
    "import csv\n",
    "import os\n",
    "import matplotlib.pyplot as plt\n",
    "import numpy as np \n",
    "from sklearn import linear_model\n",
    "import pandas as pd \n",
    "from sklearn.metrics import mean_squared_error\n",
    "from sklearn import preprocessing\n",
    "from scipy.special import expit\n",
    "  \n",
    "# fetch dataset \n",
    "iris = fetch_ucirepo(id=53) \n",
    "  \n",
    "# data (as pandas dataframes) \n",
    "def readData():\n",
    "   X = iris.data.features \n",
    "   y = iris.data.targets \n",
    "   data = {\n",
    "        \"sepal length\": preprocessing.normalize([X[\"sepal length\"]])[0],\n",
    "        \"sepal width\": preprocessing.normalize([X[\"sepal width\"]])[0],\n",
    "        \"petal length\": preprocessing.normalize([X[\"petal length\"]])[0],\n",
    "        \"petal width\": preprocessing.normalize([X[\"petal width\"]])[0],\n",
    "        \"class\": y[\"class\"]\n",
    "    }\n",
    "   dataFrame = pd.DataFrame(data)\n",
    "   return dataFrame\n",
    "\n",
    "def plotDataDistribution(dataFrame):\n",
    "    fig, axes = plt.subplots(nrows=5, figsize=(15,15))\n",
    "    axes[0].hist(dataFrame[\"sepal length\"])\n",
    "    axes[0].set_title(\"Sepal length\")\n",
    "    axes[1].hist(dataFrame[\"sepal width\"])\n",
    "    axes[1].set_title(\"Sepal width\")\n",
    "    axes[2].hist(dataFrame[\"petal length\"])\n",
    "    axes[2].set_title(\"Petal length\")\n",
    "    axes[3].hist(dataFrame[\"petal width\"])\n",
    "    axes[3].set_title(\"Petal width\")\n",
    "    axes[4].hist(dataFrame[\"class\"])\n",
    "    axes[4].set_title(\"Class\")\n",
    "    plt.show()\n",
    "\n",
    "def getTrainingAndValidationSets(dataFrame):\n",
    "    dataSize = dataFrame.shape[0]\n",
    "    \n",
    "    trainingIndexSet = np.random.choice(range(dataSize), size=int(0.8 * dataSize), replace=False)\n",
    "    validationIndexSet = [i for i in range(dataSize) if i not in trainingIndexSet]\n",
    "\n",
    "    trainingInputSet = [[dataFrame[\"sepal length\"].iloc[index], dataFrame[\"sepal width\"].iloc[index], dataFrame[\"petal length\"].iloc[index], dataFrame[\"petal width\"].iloc[index]] for index in trainingIndexSet]\n",
    "    trainingOutputSet = [dataFrame[\"class\"].iloc[index] for index in trainingIndexSet]\n",
    "\n",
    "    validationInputSet = [[dataFrame[\"sepal length\"].iloc[index], dataFrame[\"sepal width\"].iloc[index], dataFrame[\"petal length\"].iloc[index], dataFrame[\"petal width\"].iloc[index]] for index in validationIndexSet]\n",
    "    validationOutputSet = [dataFrame[\"class\"].iloc[index] for index in validationIndexSet]\n",
    "\n",
    "    return trainingInputSet, trainingOutputSet, validationInputSet, validationOutputSet\n",
    "\n",
    "def getRegressorFromLibrary(dataFrame):\n",
    "    trainingInputSet, trainingOutputSet, _, _ = getTrainingAndValidationSets(dataFrame)\n",
    "    X = [el for el in trainingInputSet]\n",
    "    regressor = linear_model.SGDClassifier();\n",
    "    regressor.fit(X, trainingOutputSet)\n",
    "    return regressor\n",
    "\n",
    "# def getErrors(dataFrame):\n",
    "#     #setosa binar = 001\n",
    "#     #versicolor binar = 010\n",
    "#     #virginica binar = 100\n",
    "#     iris_setosa = 1\n",
    "#     iris_versicolor = 2\n",
    "#     iris_virginica = 3\n",
    "    \n",
    "#     _,_, validationInputSet, validationOutputSet = getTrainingAndValidationSets(dataFrame)\n",
    "#     regressor = getRegressorFromLibrary(dataFrame)\n",
    "#     error = 0.0\n",
    "#     for i in range(0, len(validationInputSet)):\n",
    "#         if validationOutputSet[i] == \"Iris-setosa\":\n",
    "#             index = iris_setosa - 1\n",
    "#         elif validationOutputSet[i] == \"Iris-versicolor\":\n",
    "#             index = iris_versicolor - 1\n",
    "#         else:\n",
    "#             index = iris_virginica - 1\n",
    "#         w0, w1, w2, w3, w4 = regressor.intercept_[0], regressor.coef_[index][0], regressor.coef_[index][1], regressor.coef_[index][2], regressor.coef_[index][3]\n",
    "#         f = w0  + w1 * validationInputSet[i][0] + w2 * validationInputSet[i][1] + w3 * validationInputSet[i][2] + w4 * validationInputSet[i][3]\n",
    "#         error += f\n",
    "#     error /= len(validationInputSet)\n",
    "#     return error\n",
    "\n",
    "def getErrors(dataFrame):\n",
    "    _,_, validationInputSet, validationOutputSet = getTrainingAndValidationSets(dataFrame)\n",
    "    regressor = getRegressorFromLibrary(dataFrame)\n",
    "    labels = set(dataFrame[\"class\"])\n",
    "\n",
    "    computedOutput = regressor.predict(validationInputSet)\n",
    "    for label in labels:\n",
    "        TN, FP, FN, TP = clasificationPerformance(validationOutputSet, computedOutput, label)\n",
    "        accuracy = getAccuracy(TN, FP, FN, TP)\n",
    "        precision = getPrecision(FP, TP)\n",
    "        recall = getRecall(TP, FN)\n",
    "        print(label)\n",
    "        print(\"Accuracy = \", accuracy)\n",
    "        print(\"Precision = \", precision)\n",
    "        print(\"Recall = \", recall)\n",
    "        print()\n"
   ]
  },
  {
   "cell_type": "markdown",
   "metadata": {},
   "source": [
    "# PROBLEMA 3 - Ce fel de floare preferi?"
   ]
  },
  {
   "cell_type": "markdown",
   "metadata": {},
   "source": [
    "## Distributia datelor"
   ]
  },
  {
   "cell_type": "code",
   "execution_count": 3,
   "metadata": {},
   "outputs": [
    {
     "data": {
      "image/png": "[encoded data removed]",
      "text/plain": [
       "<Figure size 1500x1500 with 5 Axes>"
      ]
     },
     "metadata": {},
     "output_type": "display_data"
    }
   ],
   "source": [
    "dataFrame = readData()\n",
    "plotDataDistribution(dataFrame)"
   ]
  },
  {
   "cell_type": "markdown",
   "metadata": {},
   "source": [
    "## Formula regresor + erori"
   ]
  },
  {
   "cell_type": "code",
   "execution_count": 4,
   "metadata": {},
   "outputs": [
    {
     "name": "stdout",
     "output_type": "stream",
     "text": [
      "f(x) =  2.822385379414773  +  -6.358628804290731 *x1 +  11.015378655358939 *x2 +  -30.944747877817974 *x3 +  -34.48943562152279 *x4\n",
      "Iris-virginica\n",
      "Accuracy =  0.8666666666666667\n",
      "Precision =  0.8571428571428571\n",
      "Recall =  0.6666666666666666\n",
      "\n",
      "Iris-versicolor\n",
      "Accuracy =  0.8\n",
      "Precision =  0.6153846153846154\n",
      "Recall =  0.8888888888888888\n",
      "\n",
      "Iris-setosa\n",
      "Accuracy =  0.9333333333333333\n",
      "Precision =  1.0\n",
      "Recall =  0.8333333333333334\n",
      "\n"
     ]
    }
   ],
   "source": [
    "regressor = getRegressorFromLibrary(dataFrame)\n",
    "w0, w1, w2, w3, w4 = regressor.intercept_[0], regressor.coef_[0][0], regressor.coef_[0][1], regressor.coef_[0][2], regressor.coef_[0][3]\n",
    "print(\"f(x) = \", w0, \" + \", w1, \"*x1 + \", w2, \"*x2 + \", w3, \"*x3 + \", w4, \"*x4\")\n",
    "getErrors(dataFrame)"
   ]
  },
  {
   "cell_type": "markdown",
   "metadata": {},
   "source": [
    "# Regresor propriu"
   ]
  },
  {
   "cell_type": "code",
   "execution_count": 9,
   "metadata": {},
   "outputs": [],
   "source": [
    "class MyRegressor:\n",
    "    def __init__(self) -> None:\n",
    "        self.coeficienti = {}\n",
    "    \n",
    "    def computeValue(self, line):\n",
    "        numbers = {}\n",
    "        for label in self.coeficienti.keys():\n",
    "            nr = 0\n",
    "            for i in range(0, len(line)):\n",
    "                nr += line[i] * self.coeficienti[label][i]\n",
    "            numbers[label] = nr\n",
    "        return numbers\n",
    "    \n",
    "    def train(self, input, output, learning_rate=0.01, epochs=10000):\n",
    "        newInput = [[1] + line for line in input]\n",
    "\n",
    "        labelSet = set(output)\n",
    "        for label in labelSet:\n",
    "            self.coeficienti[label] = []\n",
    "            for feature in range(0, len(newInput[-1])):\n",
    "                self.coeficienti[label].append(0.0)\n",
    "\n",
    "        for epoch in range(0, epochs):\n",
    "            error = {}\n",
    "            for label in labelSet:\n",
    "                error[label] = [0 for i in range(0, len(newInput[-1]))]\n",
    "            for i in range(0, len(newInput)):\n",
    "                computedValue = self.computeValue(newInput[i])\n",
    "                err = {}\n",
    "                for label in labelSet:\n",
    "                    if output[i] == label:\n",
    "                        err[label] = 1 - computedValue[label]\n",
    "                    else:\n",
    "                        err[label] = 0 - computedValue[label]\n",
    "\n",
    "                for label in labelSet:\n",
    "                    for j in range(0, len(newInput[-1])):\n",
    "                        error[label][j] += err[label] * newInput[i][j]\n",
    "\n",
    "            for label in labelSet:            \n",
    "                for coef_index in range(0,len(self.coeficienti[label])):\n",
    "                    self.coeficienti[label][coef_index] = self.coeficienti[label][coef_index] + learning_rate * error[label][coef_index]/len(newInput)         \n",
    "\n",
    "    def labelWithGreatestValue(self, labels):\n",
    "        max = 0\n",
    "        maxLabel = None\n",
    "        for label in labels.keys():\n",
    "            if labels[label] > max:\n",
    "                max = labels[label]\n",
    "                maxLabel = label\n",
    "        return maxLabel\n",
    "\n",
    "    def predict(self, input):\n",
    "        output = []\n",
    "        for line in input:\n",
    "            value = self.computeValue([1] + line)\n",
    "            label = self.labelWithGreatestValue(value)              \n",
    "            output.append(label)\n",
    "        return output\n",
    "    \n",
    "\n",
    "def getRegressor(dataFrame):\n",
    "    trainingInputSet, trainingOutputSet, _, _ = getTrainingAndValidationSets(dataFrame)\n",
    "    X = [el for el in trainingInputSet]\n",
    "    regressor = MyRegressor()\n",
    "    regressor.train(X, trainingOutputSet)\n",
    "    return regressor\n",
    "\n",
    "def getErrors2(dataFrame):\n",
    "    _,_, validationInputSet, validationOutputSet = getTrainingAndValidationSets(dataFrame)\n",
    "    regressor = getRegressor(dataFrame)\n",
    "    labels = set(dataFrame[\"class\"])\n",
    "\n",
    "    computedOutput = regressor.predict(validationInputSet)\n",
    "    for label in labels:\n",
    "        TN, FP, FN, TP = clasificationPerformance(validationOutputSet, computedOutput, label)\n",
    "        accuracy = getAccuracy(TN, FP, FN, TP)\n",
    "        precision = getPrecision(FP, TP)\n",
    "        recall = getRecall(TP, FN)\n",
    "        print(label)\n",
    "        print(\"Accuracy = \", accuracy)\n",
    "        print(\"Precision = \", precision)\n",
    "        print(\"Recall = \", recall)\n",
    "        print()"
   ]
  },
  {
   "cell_type": "markdown",
   "metadata": {},
   "source": [
    "## Functia regresor"
   ]
  },
  {
   "cell_type": "code",
   "execution_count": 13,
   "metadata": {},
   "outputs": [
    {
     "name": "stdout",
     "output_type": "stream",
     "text": [
      "f(x) =  0.5604167384678197  +  -0.3001095794940368 *x1 +  0.37392867148269443 *x2 +  -1.313965803292361 *x3 +  -1.5774479548945106 *x4\n",
      "Iris-virginica\n",
      "Accuracy =  0.8\n",
      "Precision =  1.0\n",
      "Recall =  0.5384615384615384\n",
      "\n",
      "Iris-versicolor\n",
      "Accuracy =  0.8\n",
      "Precision =  0.5\n",
      "Recall =  1.0\n",
      "\n",
      "Iris-setosa\n",
      "Accuracy =  1.0\n",
      "Precision =  1.0\n",
      "Recall =  1.0\n",
      "\n"
     ]
    }
   ],
   "source": [
    "regressor2 = getRegressor(dataFrame)\n",
    "w0, w1, w2, w3, w4 = regressor2.coeficienti[\"Iris-setosa\"][0],  regressor2.coeficienti[\"Iris-setosa\"][1], regressor2.coeficienti[\"Iris-setosa\"][2], regressor2.coeficienti[\"Iris-setosa\"][3], regressor2.coeficienti[\"Iris-setosa\"][4]\n",
    "print(\"f(x) = \", w0, \" + \", w1, \"*x1 + \", w2, \"*x2 + \", w3, \"*x3 + \", w4, \"*x4\")\n",
    "getErrors2(dataFrame)\n"
   ]
  },
  {
   "cell_type": "markdown",
   "metadata": {},
   "source": [
    "# Predictia speciei unei flori de iris care are sepala lunga de 5.35 cm si lata de 3.85 cm, iar petala lunga de 1.25 cm si lata de 0.4cm"
   ]
  },
  {
   "cell_type": "code",
   "execution_count": 11,
   "metadata": {},
   "outputs": [],
   "source": [
    "def predictUsingMyRegressor(dataFrame, input):\n",
    "    regressor = getRegressor(dataFrame)\n",
    "    output = regressor.predict(input)\n",
    "    return output\n",
    "\n",
    "def predictUsingLibraryRegressor(dataFrame, input):\n",
    "    regressor = getRegressorFromLibrary(dataFrame)\n",
    "    output = regressor.predict(input)\n",
    "    return output"
   ]
  },
  {
   "cell_type": "code",
   "execution_count": 12,
   "metadata": {},
   "outputs": [
    {
     "name": "stdout",
     "output_type": "stream",
     "text": [
      "What my regressor predicted:  ['Iris-virginica']\n",
      "What the library regressor predicted:  ['Iris-virginica']\n"
     ]
    }
   ],
   "source": [
    "input = [[5.35, 3.85, 1.25, 0.4]]\n",
    "myOutput = predictUsingMyRegressor(dataFrame,input)\n",
    "libraryOutput = predictUsingLibraryRegressor(dataFrame, input)\n",
    "print(\"What my regressor predicted: \", myOutput)\n",
    "print(\"What the library regressor predicted: \", libraryOutput)"
   ]
  }
 ],
 "metadata": {
  "kernelspec": {
   "display_name": "Python 3",
   "language": "python",
   "name": "python3"
  },
  "language_info": {
   "codemirror_mode": {
    "name": "ipython",
    "version": 3
   },
   "file_extension": ".py",
   "mimetype": "text/x-python",
   "name": "python",
   "nbconvert_exporter": "python",
   "pygments_lexer": "ipython3",
   "version": "3.10.13"
  }
 },
 "nbformat": 4,
 "nbformat_minor": 2
}
