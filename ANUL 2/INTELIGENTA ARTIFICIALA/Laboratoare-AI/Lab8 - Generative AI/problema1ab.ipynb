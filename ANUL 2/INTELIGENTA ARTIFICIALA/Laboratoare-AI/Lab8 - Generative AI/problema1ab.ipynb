{
 "cells": [
  {
   "cell_type": "code",
   "execution_count": 1,
   "metadata": {},
   "outputs": [],
   "source": [
    "from numpy.random import random\n",
    "\n",
    "class MarkovChain:\n",
    "    def __init__(self, state = 1) -> None:\n",
    "        self.probabilities = {}\n",
    "        self.state = state\n",
    "\n",
    "    def _convertAListOfWordsInSentence(self, words):\n",
    "        sentence = ''\n",
    "        for word in words[:-1]:\n",
    "            sentence += word + ' '\n",
    "        sentence += words[-1]\n",
    "        return sentence\n",
    "\n",
    "    def setProbabilities(self, textPath:str):\n",
    "        with open(textPath) as f:\n",
    "            text = f.read()\n",
    "\n",
    "        text = text.replace('\\n', ' \\n ').split(' ')\n",
    "        words = {}\n",
    "        words[''] = [self._convertAListOfWordsInSentence(text[0:self.state])]\n",
    "\n",
    "        for i in range(0, len(text) - self.state - 1):\n",
    "            pairs = text[i:i+self.state]\n",
    "            pairs = self._convertAListOfWordsInSentence(pairs)\n",
    "\n",
    "            if not pairs in words.keys():\n",
    "                words[pairs] = []\n",
    "            words[pairs].append(text[i+self.state])\n",
    "\n",
    "        for startWord in words.keys():\n",
    "            wordsAfter = words[startWord]\n",
    "            self.probabilities[startWord] = [{'word': word, 'probability': wordsAfter.count(word)/len(wordsAfter)} for word in set(wordsAfter)]\n",
    "            self.probabilities[startWord].sort(key=lambda x : x['probability'])\n",
    "    \n",
    "    def predictNextWord(self, word):\n",
    "        nextWordProbabilities = self.probabilities[word]\n",
    "        prob = random()\n",
    "\n",
    "        start = 0\n",
    "        for d in nextWordProbabilities:\n",
    "            if start <= prob < start + d['probability']:\n",
    "                return d['word']\n",
    "            start += d['probability']\n",
    "    \n",
    "    def generateText(self, numberOfWords):\n",
    "        word = self.predictNextWord('')\n",
    "        text = word + ' '\n",
    "        for _ in range(numberOfWords):\n",
    "            nextWord = self.predictNextWord(word)\n",
    "            text += nextWord + ' '\n",
    "            tokens = word.split(' ')[1:] + [nextWord]\n",
    "            word = self._convertAListOfWordsInSentence(tokens)\n",
    "        return text"
   ]
  },
  {
   "cell_type": "markdown",
   "metadata": {},
   "source": [
    "# Genereaza poezie"
   ]
  },
  {
   "cell_type": "markdown",
   "metadata": {},
   "source": [
    "## O singura stare"
   ]
  },
  {
   "cell_type": "code",
   "execution_count": 2,
   "metadata": {},
   "outputs": [
    {
     "name": "stdout",
     "output_type": "stream",
     "text": [
      "A fost \n",
      " El o pǎdure ’ntreagǎ \n",
      " Şi din urmă.” \n",
      " Cum pot pricepe.” \n",
      " În clipe drum de soare, \n",
      " „ Cobori în zadar \n",
      " Cînd sărutându-te mă ’nghiaţă.” \n",
      " Unde e \n",
      " Tu crezi în uitare rece \n",
      " Cum pot pricepe; \n",
      " O vin’, odorul meu coarde, \n",
      " Le măsur vieţi \n",
      " Au nu împiedec’ nici păcat \n",
      " Şi soarele din cer o fâşie din locul lui menit din vină – cuvântul meu \n",
      " S’aprinde iarăşi oameni. \n",
      " El tremura ’n faptă să ’nceapă; \n",
      " Tot ce moare, \n",
      " Din bob în stele – \n",
      " Atuncea chipu-i tremură \n"
     ]
    }
   ],
   "source": [
    "markovChain = MarkovChain(1)\n",
    "markovChain.setProbabilities('Luceafarul.txt')\n",
    "poezie = markovChain.generateText(100)\n",
    "print(poezie)"
   ]
  },
  {
   "cell_type": "markdown",
   "metadata": {},
   "source": [
    "## Mai multe stari"
   ]
  },
  {
   "cell_type": "code",
   "execution_count": 3,
   "metadata": {},
   "outputs": [
    {
     "name": "stdout",
     "output_type": "stream",
     "text": [
      "A fost odată ca ’n poveşti, \n",
      " A fost ca niciodată, \n",
      " Din rude mari împărăteşti, \n",
      " O prea frumoasă fată. \n",
      " Şi era una la părinţi \n",
      " Şi mândră ’n toate cele, \n",
      " Cum e Fecioara între sfinţi \n",
      " Şi luna între stele. \n",
      " Din umbra falnicelor bolţi \n",
      " Ea pasul şi-l îndreaptă \n",
      " Lângă fereastră, unde ’n colţ \n",
      " Luceafărul aşteaptă. \n",
      " Privea în zare cum pe mări \n",
      " Răsare şi străluce, \n",
      " Pe mişcătoarele cărări \n",
      " Corăbii negre duce. \n",
      " Îl vede azi, îl vede mâni, \n",
      " Astfel dorinţa-i gata: \n",
      " El iar privind de săptămâni, \n",
      " Îi cade dragă fata. \n",
      " Cum ea pe coate-şi răzima \n"
     ]
    }
   ],
   "source": [
    "markovChain = MarkovChain(10)\n",
    "markovChain.setProbabilities('Luceafarul.txt')\n",
    "poezie = markovChain.generateText(100)\n",
    "print(poezie)"
   ]
  }
 ],
 "metadata": {
  "kernelspec": {
   "display_name": "Python 3",
   "language": "python",
   "name": "python3"
  },
  "language_info": {
   "codemirror_mode": {
    "name": "ipython",
    "version": 3
   },
   "file_extension": ".py",
   "mimetype": "text/x-python",
   "name": "python",
   "nbconvert_exporter": "python",
   "pygments_lexer": "ipython3",
   "version": "3.10.13"
  }
 },
 "nbformat": 4,
 "nbformat_minor": 2
}
